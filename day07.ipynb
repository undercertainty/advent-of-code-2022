{
 "cells": [
  {
   "cell_type": "markdown",
   "id": "888b2cf1",
   "metadata": {},
   "source": [
    "# Advent of code 2022"
   ]
  },
  {
   "cell_type": "code",
   "execution_count": 1,
   "id": "a772f326",
   "metadata": {},
   "outputs": [],
   "source": [
    "import re\n",
    "\n",
    "import pprint"
   ]
  },
  {
   "cell_type": "markdown",
   "id": "6893f709",
   "metadata": {},
   "source": [
    "## Part 1"
   ]
  },
  {
   "cell_type": "code",
   "execution_count": 2,
   "id": "e2d8009b",
   "metadata": {},
   "outputs": [],
   "source": [
    "test_input='''$ cd /\n",
    "$ ls\n",
    "dir a\n",
    "14848514 b.txt\n",
    "8504156 c.dat\n",
    "dir d\n",
    "$ cd a\n",
    "$ ls\n",
    "dir e\n",
    "29116 f\n",
    "2557 g\n",
    "62596 h.lst\n",
    "$ cd e\n",
    "$ ls\n",
    "584 i\n",
    "$ cd ..\n",
    "$ cd ..\n",
    "$ cd d\n",
    "$ ls\n",
    "4060174 j\n",
    "8033020 d.log\n",
    "5626152 d.ext\n",
    "7214296 k'''\n"
   ]
  },
  {
   "cell_type": "code",
   "execution_count": 3,
   "id": "d468cc2e",
   "metadata": {},
   "outputs": [],
   "source": [
    "with open('data/day07.txt') as fIn:\n",
    "    puzzle_input=fIn.read()"
   ]
  },
  {
   "cell_type": "markdown",
   "id": "75a7dbc4",
   "metadata": {},
   "source": [
    "I note that both the test input and my puzzle input start at `/`, so I'll just go with that.\n",
    "\n",
    "I'm going to make a couple of simplifying assumptions:\n",
    "1. Files and directories are only listed after `ls`, so we don't need to parse those lines; just need to look at the `cd`s. It's the case in the test input, I'll assume that it's also true in the puzzle input.\n",
    "2. Directories only exist if they've been previously identified with `ls`."
   ]
  },
  {
   "cell_type": "code",
   "execution_count": 4,
   "id": "0d79d624",
   "metadata": {},
   "outputs": [],
   "source": [
    "def build_file_system(str_in):\n",
    "    \n",
    "    file_system={'files':{}, 'dirs':{'..':None}}\n",
    "    cwd=file_system\n",
    "    \n",
    "    for nl in str_in.splitlines()[1:]:\n",
    "        \n",
    "\n",
    "        dir_check=re.match('dir (\\S+)', nl)\n",
    "        if dir_check:\n",
    "            if dir_check.group(1) not in cwd['dirs']:\n",
    "                cwd['dirs'][dir_check.group(1)]={'files':{}, 'dirs':{'..':cwd}}\n",
    "        \n",
    "        file_check=re.match('(\\d+)\\s+(\\S+)', nl)\n",
    "        if file_check:\n",
    "            cwd['files'][file_check.group(2)]={'size':int(file_check.group(1))}\n",
    "\n",
    "        cd_check=re.match('\\$ cd (\\S+)', nl)\n",
    "        \n",
    "        if cd_check:\n",
    "            cwd=cwd['dirs'][cd_check.group(1)]\n",
    "\n",
    "    return file_system    "
   ]
  },
  {
   "cell_type": "code",
   "execution_count": 5,
   "id": "0356742c",
   "metadata": {},
   "outputs": [
    {
     "name": "stdout",
     "output_type": "stream",
     "text": [
      "{'dirs': {'..': None,\n",
      "          'a': {'dirs': {'..': <Recursion on dict with id=4572975488>,\n",
      "                         'e': {'dirs': {'..': <Recursion on dict with id=4572975744>},\n",
      "                               'files': {'i': {'size': 584}}}},\n",
      "                'files': {'f': {'size': 29116},\n",
      "                          'g': {'size': 2557},\n",
      "                          'h.lst': {'size': 62596}}},\n",
      "          'd': {'dirs': {'..': <Recursion on dict with id=4572975488>},\n",
      "                'files': {'d.ext': {'size': 5626152},\n",
      "                          'd.log': {'size': 8033020},\n",
      "                          'j': {'size': 4060174},\n",
      "                          'k': {'size': 7214296}}}},\n",
      " 'files': {'b.txt': {'size': 14848514}, 'c.dat': {'size': 8504156}}}\n"
     ]
    }
   ],
   "source": [
    "fs=build_file_system(test_input)\n",
    "pprint.pprint(fs)"
   ]
  },
  {
   "cell_type": "markdown",
   "id": "42836c81",
   "metadata": {},
   "source": [
    "Now want to calculate the sizes of the directories:"
   ]
  },
  {
   "cell_type": "code",
   "execution_count": 6,
   "id": "15eb26b1",
   "metadata": {},
   "outputs": [],
   "source": [
    "def calculate_directory_sizes(file_system_in):\n",
    "    \n",
    "    out={'dirs':{}, 'size':0}\n",
    "    \n",
    "    for d in file_system_in['dirs']:\n",
    "        if d != '..':\n",
    "            out['dirs'][d]=calculate_directory_sizes(file_system_in['dirs'][d])\n",
    "        out['size']=sum([v['size'] for (i, v) in file_system_in['files'].items()]) \\\n",
    "                    + sum([v['size'] for (i, v) in out['dirs'].items()])\n",
    "    return out"
   ]
  },
  {
   "cell_type": "code",
   "execution_count": 7,
   "id": "9496878b",
   "metadata": {},
   "outputs": [
    {
     "name": "stdout",
     "output_type": "stream",
     "text": [
      "{'dirs': {'a': {'dirs': {'e': {'dirs': {}, 'size': 584}}, 'size': 94853},\n",
      "          'd': {'dirs': {}, 'size': 24933642}},\n",
      " 'size': 48381165}\n"
     ]
    }
   ],
   "source": [
    "pprint.pprint(calculate_directory_sizes(fs))"
   ]
  },
  {
   "cell_type": "markdown",
   "id": "32201b5d",
   "metadata": {},
   "source": [
    "Now walk the path and count up all the directories with size<100,000"
   ]
  },
  {
   "cell_type": "code",
   "execution_count": 8,
   "id": "901ccbb9",
   "metadata": {},
   "outputs": [],
   "source": [
    "def dir_size_walk(dir_sizes):\n",
    "    out=[dir_sizes['size']]\n",
    "    for d in dir_sizes['dirs'].values():\n",
    "        out.extend(dir_size_walk(d))\n",
    "    return out"
   ]
  },
  {
   "cell_type": "code",
   "execution_count": 9,
   "id": "c76a8c1b",
   "metadata": {},
   "outputs": [
    {
     "data": {
      "text/plain": [
       "[48381165, 94853, 584, 24933642]"
      ]
     },
     "execution_count": 9,
     "metadata": {},
     "output_type": "execute_result"
    }
   ],
   "source": [
    "dir_size_walk(calculate_directory_sizes(fs))"
   ]
  },
  {
   "cell_type": "code",
   "execution_count": 10,
   "id": "388c0c1d",
   "metadata": {},
   "outputs": [],
   "source": [
    "def day07_a(str_in):\n",
    "    \n",
    "    ds=dir_size_walk(calculate_directory_sizes(build_file_system(str_in)))\n",
    "\n",
    "    return sum([i for i in ds if i<100000])"
   ]
  },
  {
   "cell_type": "code",
   "execution_count": 11,
   "id": "fec91364",
   "metadata": {},
   "outputs": [],
   "source": [
    "assert day07_a(test_input)==95437"
   ]
  },
  {
   "cell_type": "code",
   "execution_count": 12,
   "id": "c01e6cc0",
   "metadata": {},
   "outputs": [
    {
     "data": {
      "text/plain": [
       "1845346"
      ]
     },
     "execution_count": 12,
     "metadata": {},
     "output_type": "execute_result"
    }
   ],
   "source": [
    "day07_a(puzzle_input)"
   ]
  },
  {
   "cell_type": "markdown",
   "id": "56652411",
   "metadata": {},
   "source": [
    "## Part 2"
   ]
  },
  {
   "cell_type": "markdown",
   "id": "ef5c9609",
   "metadata": {},
   "source": [
    "Should be OK; I can just reuse the list of values from `dir_size_walk`:"
   ]
  },
  {
   "cell_type": "code",
   "execution_count": 13,
   "id": "27d35068",
   "metadata": {},
   "outputs": [],
   "source": [
    "def day07_b(str_in):\n",
    "    \n",
    "    sizes=dir_size_walk(calculate_directory_sizes(build_file_system(str_in)))\n",
    "    \n",
    "    total_used=max(sizes)\n",
    "    required_space=30000000-(70000000-total_used)\n",
    "    \n",
    "    # And return the size of the smallest directory\n",
    "    # that's bigger than the required space\n",
    "\n",
    "    return min([s for s in sizes if s>required_space])"
   ]
  },
  {
   "cell_type": "code",
   "execution_count": 14,
   "id": "45e0a3da",
   "metadata": {},
   "outputs": [],
   "source": [
    "assert day07_b(test_input)==24933642"
   ]
  },
  {
   "cell_type": "code",
   "execution_count": 15,
   "id": "234571a9",
   "metadata": {},
   "outputs": [
    {
     "data": {
      "text/plain": [
       "3636703"
      ]
     },
     "execution_count": 15,
     "metadata": {},
     "output_type": "execute_result"
    }
   ],
   "source": [
    "day07_b(puzzle_input)"
   ]
  }
 ],
 "metadata": {
  "kernelspec": {
   "display_name": "Python 3 (ipykernel)",
   "language": "python",
   "name": "python3"
  },
  "language_info": {
   "codemirror_mode": {
    "name": "ipython",
    "version": 3
   },
   "file_extension": ".py",
   "mimetype": "text/x-python",
   "name": "python",
   "nbconvert_exporter": "python",
   "pygments_lexer": "ipython3",
   "version": "3.10.0"
  }
 },
 "nbformat": 4,
 "nbformat_minor": 5
}
