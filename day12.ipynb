{
 "cells": [
  {
   "cell_type": "markdown",
   "id": "888b2cf1",
   "metadata": {},
   "source": [
    "# Advent of code 2022"
   ]
  },
  {
   "cell_type": "markdown",
   "id": "84fe2855",
   "metadata": {},
   "source": [
    "First graph theory question of the year. I've not used networkx for any of these questions before, so let's give it a go here:"
   ]
  },
  {
   "cell_type": "code",
   "execution_count": 1,
   "id": "39a26367",
   "metadata": {},
   "outputs": [],
   "source": [
    "import networkx as nx"
   ]
  },
  {
   "cell_type": "markdown",
   "id": "6893f709",
   "metadata": {},
   "source": [
    "## Part 1"
   ]
  },
  {
   "cell_type": "code",
   "execution_count": 2,
   "id": "676816ab",
   "metadata": {},
   "outputs": [],
   "source": [
    "test_input='''Sabqponm\n",
    "abcryxxl\n",
    "accszExk\n",
    "acctuvwj\n",
    "abdefghi'''"
   ]
  },
  {
   "cell_type": "code",
   "execution_count": 3,
   "id": "051f2384",
   "metadata": {},
   "outputs": [],
   "source": [
    "with open('data/day12.txt') as fIn:\n",
    "    puzzle_input=fIn.read()"
   ]
  },
  {
   "cell_type": "code",
   "execution_count": 4,
   "id": "f565dc37",
   "metadata": {},
   "outputs": [],
   "source": [
    "def parse_input(str_in):\n",
    "    \n",
    "    DG=nx.DiGraph()\n",
    "    \n",
    "    # Parse the input in two passes 'cos it's\n",
    "    # a bit more straightforward:\n",
    "    \n",
    "    # Create the nodes\n",
    "    \n",
    "    for (i, nl) in enumerate(str_in.splitlines()):\n",
    "        for (j, h) in enumerate(nl):\n",
    "            if h=='S':\n",
    "                DG.graph['start']=(i, j)\n",
    "                DG.add_node((i, j), height=ord('a'))\n",
    "            elif h=='E':\n",
    "                DG.graph['end']=(i, j)\n",
    "                DG.add_node((i, j), height=ord('z'))\n",
    "            else:\n",
    "                DG.add_node((i, j), height=ord(h))\n",
    "            \n",
    "    # Create the edges\n",
    "    \n",
    "    for (i, j) in DG.nodes:\n",
    "        for (i1, j1) in [(i+1, j), (i-1, j), (i, j+1), (i, j-1)]:\n",
    "            if (i1, j1) in DG:\n",
    "                if DG.nodes[(i1, j1)]['height']-DG.nodes[(i, j)]['height']<=1:\n",
    "                    DG.add_edge((i, j), (i1, j1))\n",
    "\n",
    "    return DG\n",
    "            \n",
    "        "
   ]
  },
  {
   "cell_type": "markdown",
   "id": "34aa2fc9",
   "metadata": {},
   "source": [
    "OK, and hopefully, Dijkstra can sort us out:"
   ]
  },
  {
   "cell_type": "code",
   "execution_count": 5,
   "id": "60baa8b4",
   "metadata": {},
   "outputs": [],
   "source": [
    "DG=parse_input(test_input)"
   ]
  },
  {
   "cell_type": "code",
   "execution_count": 6,
   "id": "df38cbe8",
   "metadata": {},
   "outputs": [
    {
     "data": {
      "text/plain": [
       "31"
      ]
     },
     "execution_count": 6,
     "metadata": {},
     "output_type": "execute_result"
    }
   ],
   "source": [
    "nx.shortest_path_length(DG, DG.graph['start'], DG.graph['end'])"
   ]
  },
  {
   "cell_type": "markdown",
   "id": "e8469bf6",
   "metadata": {},
   "source": [
    "Good."
   ]
  },
  {
   "cell_type": "code",
   "execution_count": 7,
   "id": "e2d8009b",
   "metadata": {},
   "outputs": [],
   "source": [
    "def day12_a(str_in):\n",
    "    \n",
    "    DG=parse_input(str_in)\n",
    "    \n",
    "    return nx.shortest_path_length(DG, DG.graph['start'], DG.graph['end'])"
   ]
  },
  {
   "cell_type": "code",
   "execution_count": 8,
   "id": "9abd6de8",
   "metadata": {},
   "outputs": [],
   "source": [
    "assert day12_a(test_input)==31"
   ]
  },
  {
   "cell_type": "code",
   "execution_count": 9,
   "id": "aec18972",
   "metadata": {},
   "outputs": [
    {
     "data": {
      "text/plain": [
       "440"
      ]
     },
     "execution_count": 9,
     "metadata": {},
     "output_type": "execute_result"
    }
   ],
   "source": [
    "day12_a(puzzle_input)"
   ]
  },
  {
   "cell_type": "markdown",
   "id": "3c62b3b9",
   "metadata": {},
   "source": [
    "## Part 2"
   ]
  },
  {
   "cell_type": "markdown",
   "id": "87c6bc16",
   "metadata": {},
   "source": [
    "Now quite quick:"
   ]
  },
  {
   "cell_type": "code",
   "execution_count": 10,
   "id": "c0e4fb5f",
   "metadata": {},
   "outputs": [],
   "source": [
    "def day12_b(str_in):\n",
    "    \n",
    "    DG=parse_input(str_in)\n",
    "    \n",
    "    return min([nx.shortest_path_length(DG, start, DG.graph['end'])\n",
    "                for start in DG if DG.nodes[start]['height']==ord('a')])"
   ]
  },
  {
   "cell_type": "code",
   "execution_count": 11,
   "id": "9b9b7a32",
   "metadata": {},
   "outputs": [],
   "source": [
    "assert day12_b(test_input)==29"
   ]
  },
  {
   "cell_type": "code",
   "execution_count": 12,
   "id": "90810ebe",
   "metadata": {},
   "outputs": [
    {
     "ename": "NetworkXNoPath",
     "evalue": "No path between (0, 8) and (20, 138).",
     "output_type": "error",
     "traceback": [
      "\u001b[0;31m---------------------------------------------------------------------------\u001b[0m",
      "\u001b[0;31mNetworkXNoPath\u001b[0m                            Traceback (most recent call last)",
      "Cell \u001b[0;32mIn [12], line 1\u001b[0m\n\u001b[0;32m----> 1\u001b[0m \u001b[43mday12_b\u001b[49m\u001b[43m(\u001b[49m\u001b[43mpuzzle_input\u001b[49m\u001b[43m)\u001b[49m\n",
      "Cell \u001b[0;32mIn [10], line 5\u001b[0m, in \u001b[0;36mday12_b\u001b[0;34m(str_in)\u001b[0m\n\u001b[1;32m      1\u001b[0m \u001b[38;5;28;01mdef\u001b[39;00m \u001b[38;5;21mday12_b\u001b[39m(str_in):\n\u001b[1;32m      3\u001b[0m     DG\u001b[38;5;241m=\u001b[39mparse_input(str_in)\n\u001b[0;32m----> 5\u001b[0m     \u001b[38;5;28;01mreturn\u001b[39;00m \u001b[38;5;28mmin\u001b[39m([nx\u001b[38;5;241m.\u001b[39mshortest_path_length(DG, start, DG\u001b[38;5;241m.\u001b[39mgraph[\u001b[38;5;124m'\u001b[39m\u001b[38;5;124mend\u001b[39m\u001b[38;5;124m'\u001b[39m])\n\u001b[1;32m      6\u001b[0m                 \u001b[38;5;28;01mfor\u001b[39;00m start \u001b[38;5;129;01min\u001b[39;00m DG \u001b[38;5;28;01mif\u001b[39;00m DG\u001b[38;5;241m.\u001b[39mnodes[start][\u001b[38;5;124m'\u001b[39m\u001b[38;5;124mheight\u001b[39m\u001b[38;5;124m'\u001b[39m]\u001b[38;5;241m==\u001b[39m\u001b[38;5;28mord\u001b[39m(\u001b[38;5;124m'\u001b[39m\u001b[38;5;124ma\u001b[39m\u001b[38;5;124m'\u001b[39m)])\n",
      "Cell \u001b[0;32mIn [10], line 5\u001b[0m, in \u001b[0;36m<listcomp>\u001b[0;34m(.0)\u001b[0m\n\u001b[1;32m      1\u001b[0m \u001b[38;5;28;01mdef\u001b[39;00m \u001b[38;5;21mday12_b\u001b[39m(str_in):\n\u001b[1;32m      3\u001b[0m     DG\u001b[38;5;241m=\u001b[39mparse_input(str_in)\n\u001b[0;32m----> 5\u001b[0m     \u001b[38;5;28;01mreturn\u001b[39;00m \u001b[38;5;28mmin\u001b[39m([\u001b[43mnx\u001b[49m\u001b[38;5;241;43m.\u001b[39;49m\u001b[43mshortest_path_length\u001b[49m\u001b[43m(\u001b[49m\u001b[43mDG\u001b[49m\u001b[43m,\u001b[49m\u001b[43m \u001b[49m\u001b[43mstart\u001b[49m\u001b[43m,\u001b[49m\u001b[43m \u001b[49m\u001b[43mDG\u001b[49m\u001b[38;5;241;43m.\u001b[39;49m\u001b[43mgraph\u001b[49m\u001b[43m[\u001b[49m\u001b[38;5;124;43m'\u001b[39;49m\u001b[38;5;124;43mend\u001b[39;49m\u001b[38;5;124;43m'\u001b[39;49m\u001b[43m]\u001b[49m\u001b[43m)\u001b[49m\n\u001b[1;32m      6\u001b[0m                 \u001b[38;5;28;01mfor\u001b[39;00m start \u001b[38;5;129;01min\u001b[39;00m DG \u001b[38;5;28;01mif\u001b[39;00m DG\u001b[38;5;241m.\u001b[39mnodes[start][\u001b[38;5;124m'\u001b[39m\u001b[38;5;124mheight\u001b[39m\u001b[38;5;124m'\u001b[39m]\u001b[38;5;241m==\u001b[39m\u001b[38;5;28mord\u001b[39m(\u001b[38;5;124m'\u001b[39m\u001b[38;5;124ma\u001b[39m\u001b[38;5;124m'\u001b[39m)])\n",
      "File \u001b[0;32m~/python_environments/python3.10/lib/python3.10/site-packages/networkx/algorithms/shortest_paths/generic.py:297\u001b[0m, in \u001b[0;36mshortest_path_length\u001b[0;34m(G, source, target, weight, method)\u001b[0m\n\u001b[1;32m    294\u001b[0m \u001b[38;5;28;01melse\u001b[39;00m:\n\u001b[1;32m    295\u001b[0m     \u001b[38;5;66;03m# Find shortest source-target path.\u001b[39;00m\n\u001b[1;32m    296\u001b[0m     \u001b[38;5;28;01mif\u001b[39;00m method \u001b[38;5;241m==\u001b[39m \u001b[38;5;124m\"\u001b[39m\u001b[38;5;124munweighted\u001b[39m\u001b[38;5;124m\"\u001b[39m:\n\u001b[0;32m--> 297\u001b[0m         p \u001b[38;5;241m=\u001b[39m \u001b[43mnx\u001b[49m\u001b[38;5;241;43m.\u001b[39;49m\u001b[43mbidirectional_shortest_path\u001b[49m\u001b[43m(\u001b[49m\u001b[43mG\u001b[49m\u001b[43m,\u001b[49m\u001b[43m \u001b[49m\u001b[43msource\u001b[49m\u001b[43m,\u001b[49m\u001b[43m \u001b[49m\u001b[43mtarget\u001b[49m\u001b[43m)\u001b[49m\n\u001b[1;32m    298\u001b[0m         paths \u001b[38;5;241m=\u001b[39m \u001b[38;5;28mlen\u001b[39m(p) \u001b[38;5;241m-\u001b[39m \u001b[38;5;241m1\u001b[39m\n\u001b[1;32m    299\u001b[0m     \u001b[38;5;28;01melif\u001b[39;00m method \u001b[38;5;241m==\u001b[39m \u001b[38;5;124m\"\u001b[39m\u001b[38;5;124mdijkstra\u001b[39m\u001b[38;5;124m\"\u001b[39m:\n",
      "File \u001b[0;32m~/python_environments/python3.10/lib/python3.10/site-packages/networkx/algorithms/shortest_paths/unweighted.py:224\u001b[0m, in \u001b[0;36mbidirectional_shortest_path\u001b[0;34m(G, source, target)\u001b[0m\n\u001b[1;32m    221\u001b[0m     \u001b[38;5;28;01mraise\u001b[39;00m nx\u001b[38;5;241m.\u001b[39mNodeNotFound(msg)\n\u001b[1;32m    223\u001b[0m \u001b[38;5;66;03m# call helper to do the real work\u001b[39;00m\n\u001b[0;32m--> 224\u001b[0m results \u001b[38;5;241m=\u001b[39m \u001b[43m_bidirectional_pred_succ\u001b[49m\u001b[43m(\u001b[49m\u001b[43mG\u001b[49m\u001b[43m,\u001b[49m\u001b[43m \u001b[49m\u001b[43msource\u001b[49m\u001b[43m,\u001b[49m\u001b[43m \u001b[49m\u001b[43mtarget\u001b[49m\u001b[43m)\u001b[49m\n\u001b[1;32m    225\u001b[0m pred, succ, w \u001b[38;5;241m=\u001b[39m results\n\u001b[1;32m    227\u001b[0m \u001b[38;5;66;03m# build path from pred+w+succ\u001b[39;00m\n",
      "File \u001b[0;32m~/python_environments/python3.10/lib/python3.10/site-packages/networkx/algorithms/shortest_paths/unweighted.py:292\u001b[0m, in \u001b[0;36m_bidirectional_pred_succ\u001b[0;34m(G, source, target)\u001b[0m\n\u001b[1;32m    289\u001b[0m                 \u001b[38;5;28;01mif\u001b[39;00m w \u001b[38;5;129;01min\u001b[39;00m pred:  \u001b[38;5;66;03m# found path\u001b[39;00m\n\u001b[1;32m    290\u001b[0m                     \u001b[38;5;28;01mreturn\u001b[39;00m pred, succ, w\n\u001b[0;32m--> 292\u001b[0m \u001b[38;5;28;01mraise\u001b[39;00m nx\u001b[38;5;241m.\u001b[39mNetworkXNoPath(\u001b[38;5;124mf\u001b[39m\u001b[38;5;124m\"\u001b[39m\u001b[38;5;124mNo path between \u001b[39m\u001b[38;5;132;01m{\u001b[39;00msource\u001b[38;5;132;01m}\u001b[39;00m\u001b[38;5;124m and \u001b[39m\u001b[38;5;132;01m{\u001b[39;00mtarget\u001b[38;5;132;01m}\u001b[39;00m\u001b[38;5;124m.\u001b[39m\u001b[38;5;124m\"\u001b[39m)\n",
      "\u001b[0;31mNetworkXNoPath\u001b[0m: No path between (0, 8) and (20, 138)."
     ]
    }
   ],
   "source": [
    "day12_b(puzzle_input)"
   ]
  },
  {
   "cell_type": "markdown",
   "id": "98872ad4",
   "metadata": {},
   "source": [
    "OK, that's surprising. No problem, though, let's just stick in an error handler:"
   ]
  },
  {
   "cell_type": "code",
   "execution_count": 13,
   "id": "200c5c7e",
   "metadata": {},
   "outputs": [],
   "source": [
    "def day12_b(str_in):\n",
    "    \n",
    "    DG=parse_input(str_in)\n",
    "    \n",
    "    shortest_paths=[]\n",
    "    \n",
    "    for node in DG:\n",
    "        if DG.nodes[node]['height']==ord('a'):\n",
    "            try:\n",
    "                shortest_paths.append(nx.shortest_path_length(DG, node, DG.graph['end']))\n",
    "            except:\n",
    "                continue\n",
    "                \n",
    "    return min(shortest_paths)"
   ]
  },
  {
   "cell_type": "code",
   "execution_count": 14,
   "id": "baff1f77",
   "metadata": {},
   "outputs": [],
   "source": [
    "assert day12_b(test_input)==29"
   ]
  },
  {
   "cell_type": "code",
   "execution_count": 15,
   "id": "c5cf0c92",
   "metadata": {},
   "outputs": [
    {
     "data": {
      "text/plain": [
       "439"
      ]
     },
     "execution_count": 15,
     "metadata": {},
     "output_type": "execute_result"
    }
   ],
   "source": [
    "day12_b(puzzle_input)"
   ]
  }
 ],
 "metadata": {
  "kernelspec": {
   "display_name": "Python 3 (ipykernel)",
   "language": "python",
   "name": "python3"
  },
  "language_info": {
   "codemirror_mode": {
    "name": "ipython",
    "version": 3
   },
   "file_extension": ".py",
   "mimetype": "text/x-python",
   "name": "python",
   "nbconvert_exporter": "python",
   "pygments_lexer": "ipython3",
   "version": "3.10.0"
  }
 },
 "nbformat": 4,
 "nbformat_minor": 5
}
