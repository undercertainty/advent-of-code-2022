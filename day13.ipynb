{
 "cells": [
  {
   "cell_type": "markdown",
   "id": "888b2cf1",
   "metadata": {},
   "source": [
    "# Advent of code 2022"
   ]
  },
  {
   "cell_type": "markdown",
   "id": "84fe2855",
   "metadata": {},
   "source": [
    "I usually avoid using `eval`, but sometimes needs must. Otherwise a pretty standard recursion task."
   ]
  },
  {
   "cell_type": "code",
   "execution_count": 1,
   "id": "36843078",
   "metadata": {},
   "outputs": [],
   "source": [
    "import itertools as it"
   ]
  },
  {
   "cell_type": "markdown",
   "id": "6893f709",
   "metadata": {},
   "source": [
    "## Part 1"
   ]
  },
  {
   "cell_type": "code",
   "execution_count": 2,
   "id": "676816ab",
   "metadata": {},
   "outputs": [],
   "source": [
    "test_input='''[1,1,3,1,1]\n",
    "[1,1,5,1,1]\n",
    "\n",
    "[[1],[2,3,4]]\n",
    "[[1],4]\n",
    "\n",
    "[9]\n",
    "[[8,7,6]]\n",
    "\n",
    "[[4,4],4,4]\n",
    "[[4,4],4,4,4]\n",
    "\n",
    "[7,7,7,7]\n",
    "[7,7,7]\n",
    "\n",
    "[]\n",
    "[3]\n",
    "\n",
    "[[[]]]\n",
    "[[]]\n",
    "\n",
    "[1,[2,[3,[4,[5,6,7]]]],8,9]\n",
    "[1,[2,[3,[4,[5,6,0]]]],8,9]'''"
   ]
  },
  {
   "cell_type": "code",
   "execution_count": 3,
   "id": "051f2384",
   "metadata": {},
   "outputs": [],
   "source": [
    "with open('data/day13.txt') as fIn:\n",
    "    puzzle_input=fIn.read()"
   ]
  },
  {
   "cell_type": "code",
   "execution_count": 5,
   "id": "f565dc37",
   "metadata": {},
   "outputs": [],
   "source": [
    "def parse_input(str_in):\n",
    "    \n",
    "    return [(eval(nl.split()[0]), eval(nl.split()[1]))\n",
    "            for nl in str_in.strip().split('\\n\\n')]"
   ]
  },
  {
   "cell_type": "code",
   "execution_count": 6,
   "id": "6bbdf704",
   "metadata": {},
   "outputs": [
    {
     "data": {
      "text/plain": [
       "[([1, 1, 3, 1, 1], [1, 1, 5, 1, 1]),\n",
       " ([[1], [2, 3, 4]], [[1], 4]),\n",
       " ([9], [[8, 7, 6]]),\n",
       " ([[4, 4], 4, 4], [[4, 4], 4, 4, 4]),\n",
       " ([7, 7, 7, 7], [7, 7, 7]),\n",
       " ([], [3]),\n",
       " ([[[]]], [[]]),\n",
       " ([1, [2, [3, [4, [5, 6, 7]]]], 8, 9], [1, [2, [3, [4, [5, 6, 0]]]], 8, 9])]"
      ]
     },
     "execution_count": 6,
     "metadata": {},
     "output_type": "execute_result"
    }
   ],
   "source": [
    "parse_input(test_input)"
   ]
  },
  {
   "cell_type": "markdown",
   "id": "a4c9bfbd",
   "metadata": {},
   "source": [
    "Define the main comparison function as a predicate. The signal is always a list, and I'm going to assume that there aren't any identical pairs."
   ]
  },
  {
   "cell_type": "code",
   "execution_count": 7,
   "id": "289cd486",
   "metadata": {},
   "outputs": [],
   "source": [
    "def in_right_order(left, right):\n",
    "    \n",
    "    # This would be so much more elegant in prolog...\n",
    "    \n",
    "    if left==right:\n",
    "        return None\n",
    "    \n",
    "    elif isinstance(left, int) and isinstance(right, list):\n",
    "        return in_right_order([left], right)\n",
    "    \n",
    "    elif isinstance(left, list) and isinstance(right, int):\n",
    "        return in_right_order(left, [right])\n",
    "    \n",
    "    elif isinstance(left, int) and isinstance(right, int):\n",
    "        if left < right:\n",
    "            return 'left'\n",
    "        else:\n",
    "            return 'right'\n",
    "    \n",
    "    elif isinstance(left, list) and isinstance(right, list):\n",
    "        \n",
    "        if left==[]:\n",
    "            return 'left'\n",
    "        elif right==[]:\n",
    "            return 'right'\n",
    "        else:\n",
    "            iro=in_right_order(left.pop(0), right.pop(0))\n",
    "            if iro:\n",
    "                return iro\n",
    "            else:\n",
    "                return in_right_order(left, right)        "
   ]
  },
  {
   "cell_type": "code",
   "execution_count": 8,
   "id": "d6827443",
   "metadata": {},
   "outputs": [],
   "source": [
    "def day13_a(str_in):\n",
    "    \n",
    "    iros=[in_right_order(l, r)=='left' for (l, r) in parse_input(str_in)]\n",
    "    \n",
    "    return sum([idx for (iro, idx) in zip(iros, it.count(1)) if iro]) \n",
    "\n"
   ]
  },
  {
   "cell_type": "code",
   "execution_count": 9,
   "id": "60baa8b4",
   "metadata": {},
   "outputs": [],
   "source": [
    "assert day13_a(test_input)==13"
   ]
  },
  {
   "cell_type": "code",
   "execution_count": 10,
   "id": "df38cbe8",
   "metadata": {},
   "outputs": [
    {
     "data": {
      "text/plain": [
       "5806"
      ]
     },
     "execution_count": 10,
     "metadata": {},
     "output_type": "execute_result"
    }
   ],
   "source": [
    "day13_a(puzzle_input)"
   ]
  },
  {
   "cell_type": "markdown",
   "id": "3c62b3b9",
   "metadata": {},
   "source": [
    "## Part 2"
   ]
  },
  {
   "cell_type": "markdown",
   "id": "6ad0e57a",
   "metadata": {},
   "source": [
    "Just setting the right sorting key, surely..?"
   ]
  },
  {
   "cell_type": "markdown",
   "id": "77615b9a",
   "metadata": {},
   "source": [
    "There's a nice function in `functools` which maps a comparator onto a key function"
   ]
  },
  {
   "cell_type": "code",
   "execution_count": 11,
   "id": "e6a103d6",
   "metadata": {},
   "outputs": [],
   "source": [
    "import functools as ft\n",
    "import copy"
   ]
  },
  {
   "cell_type": "code",
   "execution_count": 12,
   "id": "530564fe",
   "metadata": {},
   "outputs": [
    {
     "data": {
      "text/plain": [
       "[[[2, [3, [4, [5, 6, 0]]]], 8, 9],\n",
       " [8, 9],\n",
       " [],\n",
       " [],\n",
       " [],\n",
       " [],\n",
       " [7],\n",
       " [],\n",
       " [],\n",
       " [],\n",
       " [],\n",
       " [4],\n",
       " [],\n",
       " [],\n",
       " [],\n",
       " [1, 1]]"
      ]
     },
     "execution_count": 12,
     "metadata": {},
     "output_type": "execute_result"
    }
   ],
   "source": [
    "sorted([x for y in parse_input(test_input) for x in y],\n",
    "       key=ft.cmp_to_key(lambda x, y:-1 if in_right_order(x, y) else 1))"
   ]
  },
  {
   "cell_type": "markdown",
   "id": "f4dbab04",
   "metadata": {},
   "source": [
    "Ooops! The comparison function consumes the inputs, so let's do a quick tweak:"
   ]
  },
  {
   "cell_type": "code",
   "execution_count": 13,
   "id": "f6d71a70",
   "metadata": {},
   "outputs": [],
   "source": [
    "def in_right_order_b(left, right):\n",
    "    \n",
    "    if in_right_order(copy.deepcopy(left),\n",
    "                      copy.deepcopy(right))=='left':\n",
    "        return -1\n",
    "    else:\n",
    "        return 1"
   ]
  },
  {
   "cell_type": "code",
   "execution_count": 14,
   "id": "14e07c0f",
   "metadata": {},
   "outputs": [
    {
     "data": {
      "text/plain": [
       "[[],\n",
       " [[]],\n",
       " [[[]]],\n",
       " [1, 1, 3, 1, 1],\n",
       " [1, 1, 5, 1, 1],\n",
       " [[1], [2, 3, 4]],\n",
       " [1, [2, [3, [4, [5, 6, 0]]]], 8, 9],\n",
       " [1, [2, [3, [4, [5, 6, 7]]]], 8, 9],\n",
       " [[1], 4],\n",
       " [3],\n",
       " [[4, 4], 4, 4],\n",
       " [[4, 4], 4, 4, 4],\n",
       " [7, 7, 7],\n",
       " [7, 7, 7, 7],\n",
       " [[8, 7, 6]],\n",
       " [9]]"
      ]
     },
     "execution_count": 14,
     "metadata": {},
     "output_type": "execute_result"
    }
   ],
   "source": [
    "sorted([x for y in parse_input(test_input) for x in y],\n",
    "       key=ft.cmp_to_key(in_right_order_b))"
   ]
  },
  {
   "cell_type": "markdown",
   "id": "d356d5ee",
   "metadata": {},
   "source": [
    "That's better. Now just put in the divider packets and find the final indices:"
   ]
  },
  {
   "cell_type": "code",
   "execution_count": 15,
   "id": "56fc6058",
   "metadata": {},
   "outputs": [],
   "source": [
    "def day13_b(str_in):\n",
    "    p=[x for y in parse_input(str_in) for x in y]\n",
    "    p+=[ [[2]], [[6]] ]\n",
    "    \n",
    "    p.sort(key=ft.cmp_to_key(in_right_order_b))\n",
    "    \n",
    "    return (p.index([[2]])+1) * (p.index([[6]])+1)"
   ]
  },
  {
   "cell_type": "code",
   "execution_count": 16,
   "id": "8c4954ef",
   "metadata": {},
   "outputs": [],
   "source": [
    "assert day13_b(test_input)==140"
   ]
  },
  {
   "cell_type": "code",
   "execution_count": 17,
   "id": "bfe5feb2",
   "metadata": {},
   "outputs": [
    {
     "data": {
      "text/plain": [
       "23600"
      ]
     },
     "execution_count": 17,
     "metadata": {},
     "output_type": "execute_result"
    }
   ],
   "source": [
    "day13_b(puzzle_input)"
   ]
  }
 ],
 "metadata": {
  "kernelspec": {
   "display_name": "Python 3 (ipykernel)",
   "language": "python",
   "name": "python3"
  },
  "language_info": {
   "codemirror_mode": {
    "name": "ipython",
    "version": 3
   },
   "file_extension": ".py",
   "mimetype": "text/x-python",
   "name": "python",
   "nbconvert_exporter": "python",
   "pygments_lexer": "ipython3",
   "version": "3.10.0"
  }
 },
 "nbformat": 4,
 "nbformat_minor": 5
}
