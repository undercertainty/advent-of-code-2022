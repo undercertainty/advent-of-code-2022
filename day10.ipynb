{
 "cells": [
  {
   "cell_type": "markdown",
   "id": "888b2cf1",
   "metadata": {},
   "source": [
    "# Advent of code 2022"
   ]
  },
  {
   "cell_type": "markdown",
   "id": "6893f709",
   "metadata": {},
   "source": [
    "## Part 1"
   ]
  },
  {
   "cell_type": "code",
   "execution_count": 7,
   "id": "e2d8009b",
   "metadata": {},
   "outputs": [],
   "source": [
    "test_input='''noop\n",
    "addx 3\n",
    "addx -5'''\n"
   ]
  },
  {
   "cell_type": "code",
   "execution_count": 12,
   "id": "64f8bb4e",
   "metadata": {},
   "outputs": [],
   "source": [
    "test_input2='''addx 15\n",
    "addx -11\n",
    "addx 6\n",
    "addx -3\n",
    "addx 5\n",
    "addx -1\n",
    "addx -8\n",
    "addx 13\n",
    "addx 4\n",
    "noop\n",
    "addx -1\n",
    "addx 5\n",
    "addx -1\n",
    "addx 5\n",
    "addx -1\n",
    "addx 5\n",
    "addx -1\n",
    "addx 5\n",
    "addx -1\n",
    "addx -35\n",
    "addx 1\n",
    "addx 24\n",
    "addx -19\n",
    "addx 1\n",
    "addx 16\n",
    "addx -11\n",
    "noop\n",
    "noop\n",
    "addx 21\n",
    "addx -15\n",
    "noop\n",
    "noop\n",
    "addx -3\n",
    "addx 9\n",
    "addx 1\n",
    "addx -3\n",
    "addx 8\n",
    "addx 1\n",
    "addx 5\n",
    "noop\n",
    "noop\n",
    "noop\n",
    "noop\n",
    "noop\n",
    "addx -36\n",
    "noop\n",
    "addx 1\n",
    "addx 7\n",
    "noop\n",
    "noop\n",
    "noop\n",
    "addx 2\n",
    "addx 6\n",
    "noop\n",
    "noop\n",
    "noop\n",
    "noop\n",
    "noop\n",
    "addx 1\n",
    "noop\n",
    "noop\n",
    "addx 7\n",
    "addx 1\n",
    "noop\n",
    "addx -13\n",
    "addx 13\n",
    "addx 7\n",
    "noop\n",
    "addx 1\n",
    "addx -33\n",
    "noop\n",
    "noop\n",
    "noop\n",
    "addx 2\n",
    "noop\n",
    "noop\n",
    "noop\n",
    "addx 8\n",
    "noop\n",
    "addx -1\n",
    "addx 2\n",
    "addx 1\n",
    "noop\n",
    "addx 17\n",
    "addx -9\n",
    "addx 1\n",
    "addx 1\n",
    "addx -3\n",
    "addx 11\n",
    "noop\n",
    "noop\n",
    "addx 1\n",
    "noop\n",
    "addx 1\n",
    "noop\n",
    "noop\n",
    "addx -13\n",
    "addx -19\n",
    "addx 1\n",
    "addx 3\n",
    "addx 26\n",
    "addx -30\n",
    "addx 12\n",
    "addx -1\n",
    "addx 3\n",
    "addx 1\n",
    "noop\n",
    "noop\n",
    "noop\n",
    "addx -9\n",
    "addx 18\n",
    "addx 1\n",
    "addx 2\n",
    "noop\n",
    "noop\n",
    "addx 9\n",
    "noop\n",
    "noop\n",
    "noop\n",
    "addx -1\n",
    "addx 2\n",
    "addx -37\n",
    "addx 1\n",
    "addx 3\n",
    "noop\n",
    "addx 15\n",
    "addx -21\n",
    "addx 22\n",
    "addx -6\n",
    "addx 1\n",
    "noop\n",
    "addx 2\n",
    "addx 1\n",
    "noop\n",
    "addx -10\n",
    "noop\n",
    "noop\n",
    "addx 20\n",
    "addx 1\n",
    "addx 2\n",
    "addx 2\n",
    "addx -6\n",
    "addx -11\n",
    "noop\n",
    "noop\n",
    "noop'''"
   ]
  },
  {
   "cell_type": "code",
   "execution_count": 1,
   "id": "d468cc2e",
   "metadata": {},
   "outputs": [],
   "source": [
    "with open('data/day10.txt') as fIn:\n",
    "    puzzle_input=fIn.read()"
   ]
  },
  {
   "cell_type": "markdown",
   "id": "f4c82f1d",
   "metadata": {},
   "source": [
    "Hmmm... doesn't seem too bad. Let's return the states as a list, although I suspect the next part is going to make it too hard to use this representation:"
   ]
  },
  {
   "cell_type": "code",
   "execution_count": 14,
   "id": "720839c9",
   "metadata": {},
   "outputs": [
    {
     "data": {
      "text/plain": [
       "[1, 1, 1, 4, 4, -1]"
      ]
     },
     "execution_count": 14,
     "metadata": {},
     "output_type": "execute_result"
    }
   ],
   "source": [
    "o=[1]\n",
    "for nl in test_input.splitlines():\n",
    "    if nl=='noop':\n",
    "        o+=[o[-1]]\n",
    "    else:\n",
    "        (c, val)=nl.split()\n",
    "        assert c=='addx'\n",
    "        val=int(val)\n",
    "        o+=[o[-1], o[-1]+val]\n",
    "    \n",
    "o"
   ]
  },
  {
   "cell_type": "code",
   "execution_count": 22,
   "id": "e52a3a4b",
   "metadata": {},
   "outputs": [
    {
     "data": {
      "text/plain": [
       "13140"
      ]
     },
     "execution_count": 22,
     "metadata": {},
     "output_type": "execute_result"
    }
   ],
   "source": [
    "o=[1]\n",
    "for nl in test_input2.splitlines():\n",
    "    if nl=='noop':\n",
    "        o+=[o[-1]]\n",
    "    else:\n",
    "        (c, val)=nl.split()\n",
    "        assert c=='addx'\n",
    "        val=int(val)\n",
    "        o+=[o[-1], o[-1]+val]\n",
    "\n",
    "sum([i*o[i-1] for i in [20, 60, 100, 140, 180, 220]])"
   ]
  },
  {
   "cell_type": "code",
   "execution_count": 23,
   "id": "fc654686",
   "metadata": {},
   "outputs": [
    {
     "data": {
      "text/plain": [
       "17180"
      ]
     },
     "execution_count": 23,
     "metadata": {},
     "output_type": "execute_result"
    }
   ],
   "source": [
    "o=[1]\n",
    "for nl in puzzle_input.splitlines():\n",
    "    if nl=='noop':\n",
    "        o+=[o[-1]]\n",
    "    else:\n",
    "        (c, val)=nl.split()\n",
    "        assert c=='addx'\n",
    "        val=int(val)\n",
    "        o+=[o[-1], o[-1]+val]\n",
    "\n",
    "sum([i*o[i-1] for i in [20, 60, 100, 140, 180, 220]])"
   ]
  },
  {
   "cell_type": "markdown",
   "id": "1d03cc36",
   "metadata": {},
   "source": [
    "## Part 2"
   ]
  },
  {
   "cell_type": "markdown",
   "id": "4a029001",
   "metadata": {},
   "source": [
    "OK, fine."
   ]
  },
  {
   "cell_type": "code",
   "execution_count": 24,
   "id": "a608dff0",
   "metadata": {},
   "outputs": [
    {
     "data": {
      "text/plain": [
       "13140"
      ]
     },
     "execution_count": 24,
     "metadata": {},
     "output_type": "execute_result"
    }
   ],
   "source": [
    "o=[1]\n",
    "for nl in test_input2.splitlines():\n",
    "    if nl=='noop':\n",
    "        o+=[o[-1]]\n",
    "    else:\n",
    "        (c, val)=nl.split()\n",
    "        assert c=='addx'\n",
    "        val=int(val)\n",
    "        o+=[o[-1], o[-1]+val]\n",
    "\n",
    "sum([i*o[i-1] for i in [20, 60, 100, 140, 180, 220]])"
   ]
  },
  {
   "cell_type": "code",
   "execution_count": 40,
   "id": "0ab0723e",
   "metadata": {},
   "outputs": [
    {
     "name": "stdout",
     "output_type": "stream",
     "text": [
      "##..##..##..##..##..##..##..##..##..##..\n",
      "###...###...###...###...###...###...###.\n",
      "####....####....####....####....####....\n",
      "#####.....#####.....#####.....#####.....\n",
      "######......######......######......####\n",
      "#######.......#######.......#######.....\n"
     ]
    }
   ],
   "source": [
    "for row in range(6):\n",
    "    row1=o[row*40:(row+1)*40]\n",
    "\n",
    "    cs=[(r-1, r, r+1) for r in row1]\n",
    "    line_out=''.join(['#' if (i in c) else '.' for (i, c) in enumerate(cs)])\n",
    "    \n",
    "    print(line_out)"
   ]
  },
  {
   "cell_type": "code",
   "execution_count": 41,
   "id": "bff76a7e",
   "metadata": {},
   "outputs": [
    {
     "data": {
      "text/plain": [
       "17180"
      ]
     },
     "execution_count": 41,
     "metadata": {},
     "output_type": "execute_result"
    }
   ],
   "source": [
    "o=[1]\n",
    "for nl in puzzle_input.splitlines():\n",
    "    if nl=='noop':\n",
    "        o+=[o[-1]]\n",
    "    else:\n",
    "        (c, val)=nl.split()\n",
    "        assert c=='addx'\n",
    "        val=int(val)\n",
    "        o+=[o[-1], o[-1]+val]\n",
    "\n",
    "sum([i*o[i-1] for i in [20, 60, 100, 140, 180, 220]])"
   ]
  },
  {
   "cell_type": "code",
   "execution_count": 42,
   "id": "ced0d073",
   "metadata": {},
   "outputs": [
    {
     "name": "stdout",
     "output_type": "stream",
     "text": [
      "###..####.#..#.###..###..#....#..#.###..\n",
      "#..#.#....#..#.#..#.#..#.#....#..#.#..#.\n",
      "#..#.###..####.#..#.#..#.#....#..#.###..\n",
      "###..#....#..#.###..###..#....#..#.#..#.\n",
      "#.#..#....#..#.#....#.#..#....#..#.#..#.\n",
      "#..#.####.#..#.#....#..#.####..##..###..\n"
     ]
    }
   ],
   "source": [
    "for row in range(6):\n",
    "    row1=o[row*40:(row+1)*40]\n",
    "\n",
    "    cs=[(r-1, r, r+1) for r in row1]\n",
    "    line_out=''.join(['#' if (i in c) else '.' for (i, c) in enumerate(cs)])\n",
    "    \n",
    "    print(line_out)"
   ]
  }
 ],
 "metadata": {
  "kernelspec": {
   "display_name": "Python 3 (ipykernel)",
   "language": "python",
   "name": "python3"
  },
  "language_info": {
   "codemirror_mode": {
    "name": "ipython",
    "version": 3
   },
   "file_extension": ".py",
   "mimetype": "text/x-python",
   "name": "python",
   "nbconvert_exporter": "python",
   "pygments_lexer": "ipython3",
   "version": "3.10.0"
  }
 },
 "nbformat": 4,
 "nbformat_minor": 5
}
