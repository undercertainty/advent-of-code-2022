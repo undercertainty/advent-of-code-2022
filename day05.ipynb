{
 "cells": [
  {
   "cell_type": "markdown",
   "id": "ea38d89b",
   "metadata": {},
   "source": [
    "# Advent of code 2022"
   ]
  },
  {
   "cell_type": "code",
   "execution_count": 84,
   "id": "02dc5b9d",
   "metadata": {},
   "outputs": [],
   "source": [
    "import re\n",
    "\n",
    "import pandas as pd"
   ]
  },
  {
   "cell_type": "markdown",
   "id": "cec5f89f",
   "metadata": {},
   "source": [
    "## Part 1"
   ]
  },
  {
   "cell_type": "code",
   "execution_count": 85,
   "id": "cdc6cf05",
   "metadata": {},
   "outputs": [],
   "source": [
    "test_input='''    [D]    \n",
    "[N] [C]    \n",
    "[Z] [M] [P]\n",
    " 1   2   3 \n",
    "\n",
    "move 1 from 2 to 1\n",
    "move 3 from 1 to 3\n",
    "move 2 from 2 to 1\n",
    "move 1 from 1 to 2'''"
   ]
  },
  {
   "cell_type": "code",
   "execution_count": 86,
   "id": "73465d92",
   "metadata": {},
   "outputs": [],
   "source": [
    "with open('data/day05.txt') as fIn:\n",
    "    puzzle_input=fIn.read()"
   ]
  },
  {
   "cell_type": "markdown",
   "id": "9c42b466",
   "metadata": {},
   "source": [
    "Let's start by splitting the input into the initial state and the instructions:"
   ]
  },
  {
   "cell_type": "code",
   "execution_count": 87,
   "id": "8a4cb232",
   "metadata": {},
   "outputs": [],
   "source": [
    "state=test_input.split('\\n\\n')[0]\n",
    "instructions=test_input.split('\\n\\n')[1]"
   ]
  },
  {
   "cell_type": "markdown",
   "id": "9bc6d8c9",
   "metadata": {},
   "source": [
    "Rather than mess about with a parser, let's just stick the input into a DataFrame, so I can easily restructure it:"
   ]
  },
  {
   "cell_type": "code",
   "execution_count": 88,
   "id": "10d9174f",
   "metadata": {},
   "outputs": [
    {
     "data": {
      "text/html": [
       "<div>\n",
       "<style scoped>\n",
       "    .dataframe tbody tr th:only-of-type {\n",
       "        vertical-align: middle;\n",
       "    }\n",
       "\n",
       "    .dataframe tbody tr th {\n",
       "        vertical-align: top;\n",
       "    }\n",
       "\n",
       "    .dataframe thead th {\n",
       "        text-align: right;\n",
       "    }\n",
       "</style>\n",
       "<table border=\"1\" class=\"dataframe\">\n",
       "  <thead>\n",
       "    <tr style=\"text-align: right;\">\n",
       "      <th></th>\n",
       "      <th>0</th>\n",
       "      <th>1</th>\n",
       "      <th>2</th>\n",
       "      <th>3</th>\n",
       "    </tr>\n",
       "  </thead>\n",
       "  <tbody>\n",
       "    <tr>\n",
       "      <th>0</th>\n",
       "      <td></td>\n",
       "      <td>[</td>\n",
       "      <td>[</td>\n",
       "      <td></td>\n",
       "    </tr>\n",
       "    <tr>\n",
       "      <th>1</th>\n",
       "      <td>1</td>\n",
       "      <td>Z</td>\n",
       "      <td>N</td>\n",
       "      <td></td>\n",
       "    </tr>\n",
       "    <tr>\n",
       "      <th>2</th>\n",
       "      <td></td>\n",
       "      <td>]</td>\n",
       "      <td>]</td>\n",
       "      <td></td>\n",
       "    </tr>\n",
       "    <tr>\n",
       "      <th>3</th>\n",
       "      <td></td>\n",
       "      <td></td>\n",
       "      <td></td>\n",
       "      <td></td>\n",
       "    </tr>\n",
       "    <tr>\n",
       "      <th>4</th>\n",
       "      <td></td>\n",
       "      <td>[</td>\n",
       "      <td>[</td>\n",
       "      <td>[</td>\n",
       "    </tr>\n",
       "    <tr>\n",
       "      <th>5</th>\n",
       "      <td>2</td>\n",
       "      <td>M</td>\n",
       "      <td>C</td>\n",
       "      <td>D</td>\n",
       "    </tr>\n",
       "    <tr>\n",
       "      <th>6</th>\n",
       "      <td></td>\n",
       "      <td>]</td>\n",
       "      <td>]</td>\n",
       "      <td>]</td>\n",
       "    </tr>\n",
       "    <tr>\n",
       "      <th>7</th>\n",
       "      <td></td>\n",
       "      <td></td>\n",
       "      <td></td>\n",
       "      <td></td>\n",
       "    </tr>\n",
       "    <tr>\n",
       "      <th>8</th>\n",
       "      <td></td>\n",
       "      <td>[</td>\n",
       "      <td></td>\n",
       "      <td></td>\n",
       "    </tr>\n",
       "    <tr>\n",
       "      <th>9</th>\n",
       "      <td>3</td>\n",
       "      <td>P</td>\n",
       "      <td></td>\n",
       "      <td></td>\n",
       "    </tr>\n",
       "    <tr>\n",
       "      <th>10</th>\n",
       "      <td></td>\n",
       "      <td>]</td>\n",
       "      <td></td>\n",
       "      <td></td>\n",
       "    </tr>\n",
       "  </tbody>\n",
       "</table>\n",
       "</div>"
      ],
      "text/plain": [
       "    0  1  2  3\n",
       "0      [  [   \n",
       "1   1  Z  N   \n",
       "2      ]  ]   \n",
       "3             \n",
       "4      [  [  [\n",
       "5   2  M  C  D\n",
       "6      ]  ]  ]\n",
       "7             \n",
       "8      [      \n",
       "9   3  P      \n",
       "10     ]      "
      ]
     },
     "execution_count": 88,
     "metadata": {},
     "output_type": "execute_result"
    }
   ],
   "source": [
    "df=pd.DataFrame(reversed([list(row) for row in state.splitlines()])).T\n",
    "df"
   ]
  },
  {
   "cell_type": "markdown",
   "id": "a4b11a41",
   "metadata": {},
   "source": [
    "And get down to just the rows which represent piles:"
   ]
  },
  {
   "cell_type": "code",
   "execution_count": 89,
   "id": "dae20e72",
   "metadata": {},
   "outputs": [
    {
     "data": {
      "text/html": [
       "<div>\n",
       "<style scoped>\n",
       "    .dataframe tbody tr th:only-of-type {\n",
       "        vertical-align: middle;\n",
       "    }\n",
       "\n",
       "    .dataframe tbody tr th {\n",
       "        vertical-align: top;\n",
       "    }\n",
       "\n",
       "    .dataframe thead th {\n",
       "        text-align: right;\n",
       "    }\n",
       "</style>\n",
       "<table border=\"1\" class=\"dataframe\">\n",
       "  <thead>\n",
       "    <tr style=\"text-align: right;\">\n",
       "      <th></th>\n",
       "      <th>1</th>\n",
       "      <th>2</th>\n",
       "      <th>3</th>\n",
       "    </tr>\n",
       "    <tr>\n",
       "      <th>0</th>\n",
       "      <th></th>\n",
       "      <th></th>\n",
       "      <th></th>\n",
       "    </tr>\n",
       "  </thead>\n",
       "  <tbody>\n",
       "    <tr>\n",
       "      <th>1</th>\n",
       "      <td>Z</td>\n",
       "      <td>N</td>\n",
       "      <td></td>\n",
       "    </tr>\n",
       "    <tr>\n",
       "      <th>2</th>\n",
       "      <td>M</td>\n",
       "      <td>C</td>\n",
       "      <td>D</td>\n",
       "    </tr>\n",
       "    <tr>\n",
       "      <th>3</th>\n",
       "      <td>P</td>\n",
       "      <td></td>\n",
       "      <td></td>\n",
       "    </tr>\n",
       "  </tbody>\n",
       "</table>\n",
       "</div>"
      ],
      "text/plain": [
       "   1  2  3\n",
       "0         \n",
       "1  Z  N   \n",
       "2  M  C  D\n",
       "3  P      "
      ]
     },
     "execution_count": 89,
     "metadata": {},
     "output_type": "execute_result"
    }
   ],
   "source": [
    "df=df[df[0]!=' '].set_index(0)\n",
    "df"
   ]
  },
  {
   "cell_type": "markdown",
   "id": "7c39a1cd",
   "metadata": {},
   "source": [
    "Now it'll be easiest to map that back onto a dictionary of lists:"
   ]
  },
  {
   "cell_type": "code",
   "execution_count": 90,
   "id": "e1d64619",
   "metadata": {},
   "outputs": [
    {
     "data": {
      "text/plain": [
       "{'1': ['N', 'Z'], '2': ['D', 'C', 'M'], '3': ['P']}"
      ]
     },
     "execution_count": 90,
     "metadata": {},
     "output_type": "execute_result"
    }
   ],
   "source": [
    "# reverse the list so we're taking off the \"front\"\n",
    "\n",
    "initial_state={i:[l for l in reversed(list(ls)) if l!=' ']\n",
    "               for (i, ls) in df.iterrows()}\n",
    "\n",
    "initial_state"
   ]
  },
  {
   "cell_type": "markdown",
   "id": "aea8b59d",
   "metadata": {},
   "source": [
    "Good. Now let's do the instructions:"
   ]
  },
  {
   "cell_type": "code",
   "execution_count": 91,
   "id": "d4e6bdf9",
   "metadata": {},
   "outputs": [
    {
     "name": "stdout",
     "output_type": "stream",
     "text": [
      "{'1': ['N', 'Z'], '2': ['D', 'C', 'M'], '3': ['P']}\n",
      "{'1': ['D', 'N', 'Z'], '2': ['C', 'M'], '3': ['P']}\n",
      "{'1': [], '2': ['C', 'M'], '3': ['Z', 'N', 'D', 'P']}\n",
      "{'1': ['M', 'C'], '2': [], '3': ['Z', 'N', 'D', 'P']}\n",
      "{'1': ['C'], '2': ['M'], '3': ['Z', 'N', 'D', 'P']}\n"
     ]
    }
   ],
   "source": [
    "s=initial_state.copy()\n",
    "print(s)\n",
    "for (num, src, dst) in re.findall('move (\\d+) from (\\d+) to (\\d+)', instructions):\n",
    "    n=int(num)\n",
    "    \n",
    "    # Crates moved one at a time, so reverse\n",
    "    # Python annoyingly doesn't just reverse the list, but\n",
    "    # gives an iterator which doesn't recognise '+'\n",
    "    s[dst]=list(reversed(s[src][:n])) + s[dst]\n",
    "    s[src]=s[src][n:]\n",
    "    print(s)"
   ]
  },
  {
   "cell_type": "markdown",
   "id": "02b9e959",
   "metadata": {},
   "source": [
    "OK, that seems to work properly. So stick it all in a function:"
   ]
  },
  {
   "cell_type": "code",
   "execution_count": 92,
   "id": "fd19f15e",
   "metadata": {},
   "outputs": [],
   "source": [
    "def day05_a(str_in):\n",
    "    \n",
    "    # sort out the state first\n",
    "    \n",
    "    state_str=str_in.split('\\n\\n')[0]\n",
    "    \n",
    "    state_df=pd.DataFrame(reversed([list(row) for row in state_str.splitlines()])).T\n",
    "    \n",
    "    state_df=state_df[state_df[0]!=' '].set_index(0)\n",
    "    \n",
    "    state={i:[l for l in reversed(list(ls)) if l!=' ']\n",
    "                   for (i, ls) in state_df.iterrows()}\n",
    "    \n",
    "    # Then apply the instructions:\n",
    "    \n",
    "    instructions_str=str_in.split('\\n\\n')[1]\n",
    "    \n",
    "    for (num, src, dst) in re.findall('move (\\d+) from (\\d+) to (\\d+)', instructions_str):\n",
    "        n=int(num)\n",
    "    \n",
    "        # Crates moved one at a time, so reverse\n",
    "        # Python annoyingly doesn't just reverse the list, but\n",
    "        # gives an iterator which doesn't recognise '+'\n",
    "        state[dst]=list(reversed(state[src][:n])) + state[dst]\n",
    "        state[src]=state[src][n:]\n",
    "    \n",
    "    # And finally, get the top crate on each stack:\n",
    "    \n",
    "    out=''.join([c[1] for c in sorted([(i, l[0]) for (i, l) in state.items()])])\n",
    "    \n",
    "    return out"
   ]
  },
  {
   "cell_type": "code",
   "execution_count": 93,
   "id": "ca26b406",
   "metadata": {},
   "outputs": [],
   "source": [
    "assert day05_a(test_input)=='CMZ'"
   ]
  },
  {
   "cell_type": "code",
   "execution_count": 94,
   "id": "674dbe88",
   "metadata": {},
   "outputs": [
    {
     "data": {
      "text/plain": [
       "'JCMHLVGMG'"
      ]
     },
     "execution_count": 94,
     "metadata": {},
     "output_type": "execute_result"
    }
   ],
   "source": [
    "day05_a(puzzle_input)"
   ]
  },
  {
   "cell_type": "markdown",
   "id": "4abd4f88",
   "metadata": {},
   "source": [
    "## Part 2"
   ]
  },
  {
   "cell_type": "markdown",
   "id": "34128eeb",
   "metadata": {},
   "source": [
    "OK, this is going back to how I'd originally interpreted the question. So just need to remove the `reversed` function in the main loop."
   ]
  },
  {
   "cell_type": "code",
   "execution_count": 97,
   "id": "756b2d17",
   "metadata": {},
   "outputs": [],
   "source": [
    "def day05_b(str_in):\n",
    "    \n",
    "    # sort out the state first\n",
    "    \n",
    "    state_str=str_in.split('\\n\\n')[0]\n",
    "    \n",
    "    state_df=pd.DataFrame(reversed([list(row) for row in state_str.splitlines()])).T\n",
    "    \n",
    "    state_df=state_df[state_df[0]!=' '].set_index(0)\n",
    "    \n",
    "    state={i:[l for l in reversed(list(ls)) if l!=' ']\n",
    "                   for (i, ls) in state_df.iterrows()}\n",
    "    \n",
    "    # Then apply the instructions:\n",
    "    \n",
    "    instructions_str=str_in.split('\\n\\n')[1]\n",
    "    \n",
    "    for (num, src, dst) in re.findall('move (\\d+) from (\\d+) to (\\d+)', instructions_str):\n",
    "        n=int(num)\n",
    "    \n",
    "        # Crates moved together, so don't reverse :-)\n",
    "        state[dst]=state[src][:n] + state[dst]\n",
    "        state[src]=state[src][n:]\n",
    "    \n",
    "    # And finally, get the top crate on each stack:\n",
    "    \n",
    "    out=''.join([c[1] for c in sorted([(i, l[0]) for (i, l) in state.items()])])\n",
    "    \n",
    "    return out"
   ]
  },
  {
   "cell_type": "code",
   "execution_count": 99,
   "id": "2bd574e6",
   "metadata": {},
   "outputs": [],
   "source": [
    "assert day05_b(test_input)=='MCD'"
   ]
  },
  {
   "cell_type": "code",
   "execution_count": 100,
   "id": "7a6ce45f",
   "metadata": {},
   "outputs": [
    {
     "data": {
      "text/plain": [
       "'LVMRWSSPZ'"
      ]
     },
     "execution_count": 100,
     "metadata": {},
     "output_type": "execute_result"
    }
   ],
   "source": [
    "day05_b(puzzle_input)"
   ]
  }
 ],
 "metadata": {
  "kernelspec": {
   "display_name": "Python 3 (ipykernel)",
   "language": "python",
   "name": "python3"
  },
  "language_info": {
   "codemirror_mode": {
    "name": "ipython",
    "version": 3
   },
   "file_extension": ".py",
   "mimetype": "text/x-python",
   "name": "python",
   "nbconvert_exporter": "python",
   "pygments_lexer": "ipython3",
   "version": "3.10.0"
  }
 },
 "nbformat": 4,
 "nbformat_minor": 5
}
