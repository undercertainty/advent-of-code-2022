{
 "cells": [
  {
   "cell_type": "markdown",
   "id": "ea38d89b",
   "metadata": {},
   "source": [
    "# Advent of code 2022"
   ]
  },
  {
   "cell_type": "markdown",
   "id": "a9479108",
   "metadata": {},
   "source": [
    "Let's go... still all enthusiastic. Don't know how long it'll last."
   ]
  },
  {
   "cell_type": "markdown",
   "id": "cec5f89f",
   "metadata": {},
   "source": [
    "## Part 1"
   ]
  },
  {
   "cell_type": "code",
   "execution_count": 1,
   "id": "73465d92",
   "metadata": {},
   "outputs": [],
   "source": [
    "with open('data/day1.txt') as fIn:\n",
    "    puzzle_input=fIn.read()"
   ]
  },
  {
   "cell_type": "code",
   "execution_count": 2,
   "id": "286ff1a9",
   "metadata": {},
   "outputs": [
    {
     "data": {
      "text/plain": [
       "[['3344', '8938', '7923', '3979', '2753', '5730', '4225'],\n",
       " ['24216', '7432', '18284'],\n",
       " ['3475', '9177', '6769', '11335', '8061', '9302', '8132'],\n",
       " ['25796'],\n",
       " ['20937']]"
      ]
     },
     "execution_count": 2,
     "metadata": {},
     "output_type": "execute_result"
    }
   ],
   "source": [
    "# First split by double spaces, then by single spaces\n",
    "ll=[t.split() for t in puzzle_input.split('\\n\\n')]\n",
    "\n",
    "ll[:5]"
   ]
  },
  {
   "cell_type": "markdown",
   "id": "4f160e80",
   "metadata": {},
   "source": [
    "Convert to `int`s:"
   ]
  },
  {
   "cell_type": "code",
   "execution_count": 3,
   "id": "ca26b406",
   "metadata": {},
   "outputs": [
    {
     "data": {
      "text/plain": [
       "[[3344, 8938, 7923, 3979, 2753, 5730, 4225],\n",
       " [24216, 7432, 18284],\n",
       " [3475, 9177, 6769, 11335, 8061, 9302, 8132],\n",
       " [25796],\n",
       " [20937]]"
      ]
     },
     "execution_count": 3,
     "metadata": {},
     "output_type": "execute_result"
    }
   ],
   "source": [
    "ll=[[int(x) for x in l] for l in ll]\n",
    "ll[:5]"
   ]
  },
  {
   "cell_type": "markdown",
   "id": "18df4f22",
   "metadata": {},
   "source": [
    "And find the maximum sum:"
   ]
  },
  {
   "cell_type": "code",
   "execution_count": 4,
   "id": "674dbe88",
   "metadata": {},
   "outputs": [
    {
     "data": {
      "text/plain": [
       "69310"
      ]
     },
     "execution_count": 4,
     "metadata": {},
     "output_type": "execute_result"
    }
   ],
   "source": [
    "max([sum(x) for x in ll])"
   ]
  },
  {
   "cell_type": "markdown",
   "id": "4abd4f88",
   "metadata": {},
   "source": [
    "## Part 2"
   ]
  },
  {
   "cell_type": "markdown",
   "id": "34128eeb",
   "metadata": {},
   "source": [
    "Also straightforward enough: sort then get the top 3:"
   ]
  },
  {
   "cell_type": "code",
   "execution_count": 5,
   "id": "7831e170",
   "metadata": {},
   "outputs": [
    {
     "data": {
      "text/plain": [
       "206104"
      ]
     },
     "execution_count": 5,
     "metadata": {},
     "output_type": "execute_result"
    }
   ],
   "source": [
    "sum(sorted([sum(x) for x in ll])[-3:])"
   ]
  }
 ],
 "metadata": {
  "kernelspec": {
   "display_name": "Python 3 (ipykernel)",
   "language": "python",
   "name": "python3"
  },
  "language_info": {
   "codemirror_mode": {
    "name": "ipython",
    "version": 3
   },
   "file_extension": ".py",
   "mimetype": "text/x-python",
   "name": "python",
   "nbconvert_exporter": "python",
   "pygments_lexer": "ipython3",
   "version": "3.10.0"
  }
 },
 "nbformat": 4,
 "nbformat_minor": 5
}
