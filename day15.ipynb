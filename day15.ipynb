{
 "cells": [
  {
   "cell_type": "markdown",
   "id": "888b2cf1",
   "metadata": {},
   "source": [
    "# Advent of code 2022"
   ]
  },
  {
   "cell_type": "markdown",
   "id": "84fe2855",
   "metadata": {},
   "source": [
    "Technically this should probably be modelled with an array or something, but the grid's small enough to use a dictionary and might make things slightly easier:"
   ]
  },
  {
   "cell_type": "code",
   "execution_count": 1,
   "id": "36843078",
   "metadata": {},
   "outputs": [],
   "source": [
    "from collections import defaultdict\n",
    "\n",
    "import re\n",
    "import itertools as it"
   ]
  },
  {
   "cell_type": "markdown",
   "id": "6893f709",
   "metadata": {},
   "source": [
    "## Part 1"
   ]
  },
  {
   "cell_type": "code",
   "execution_count": 2,
   "id": "7d6d3607",
   "metadata": {},
   "outputs": [],
   "source": [
    "test_input='''Sensor at x=2, y=18: closest beacon is at x=-2, y=15\n",
    "Sensor at x=9, y=16: closest beacon is at x=10, y=16\n",
    "Sensor at x=13, y=2: closest beacon is at x=15, y=3\n",
    "Sensor at x=12, y=14: closest beacon is at x=10, y=16\n",
    "Sensor at x=10, y=20: closest beacon is at x=10, y=16\n",
    "Sensor at x=14, y=17: closest beacon is at x=10, y=16\n",
    "Sensor at x=8, y=7: closest beacon is at x=2, y=10\n",
    "Sensor at x=2, y=0: closest beacon is at x=2, y=10\n",
    "Sensor at x=0, y=11: closest beacon is at x=2, y=10\n",
    "Sensor at x=20, y=14: closest beacon is at x=25, y=17\n",
    "Sensor at x=17, y=20: closest beacon is at x=21, y=22\n",
    "Sensor at x=16, y=7: closest beacon is at x=15, y=3\n",
    "Sensor at x=14, y=3: closest beacon is at x=15, y=3\n",
    "Sensor at x=20, y=1: closest beacon is at x=15, y=3'''"
   ]
  },
  {
   "cell_type": "code",
   "execution_count": 3,
   "id": "051f2384",
   "metadata": {},
   "outputs": [],
   "source": [
    "with open('data/day15.txt') as fIn:\n",
    "    puzzle_input=fIn.read()"
   ]
  },
  {
   "cell_type": "markdown",
   "id": "76bb4d3e",
   "metadata": {},
   "source": [
    "It'll be useful to have a function that returns the coordinates that are a Manhattan distance `x` away:"
   ]
  },
  {
   "cell_type": "code",
   "execution_count": 4,
   "id": "2a344205",
   "metadata": {},
   "outputs": [
    {
     "data": {
      "text/plain": [
       "[(1, 1), (1, -1), (-1, 1), (-1, -1), (0, 2), (0, -2), (2, 0), (-2, 0)]"
      ]
     },
     "execution_count": 4,
     "metadata": {},
     "output_type": "execute_result"
    }
   ],
   "source": [
    "def coords_from_origin(distance):\n",
    "    \n",
    "    if distance==0:\n",
    "        return[(0, 0)]\n",
    "    \n",
    "    out=[]\n",
    "    for i in range(1, distance):\n",
    "        out.extend([(i, distance-i), (i, i-distance), (-i, distance-i), (-i, i-distance)])\n",
    "    out.extend([(0, distance), (0, -distance), (distance, 0), (-distance, 0)])\n",
    "    \n",
    "    return out\n",
    "\n",
    "coords_from_origin(2)"
   ]
  },
  {
   "cell_type": "code",
   "execution_count": 5,
   "id": "461e022f",
   "metadata": {},
   "outputs": [
    {
     "data": {
      "text/plain": [
       "[(5, 5),\n",
       " (5, 6),\n",
       " (5, 4),\n",
       " (6, 5),\n",
       " (4, 5),\n",
       " (6, 6),\n",
       " (6, 4),\n",
       " (4, 6),\n",
       " (4, 4),\n",
       " (5, 7),\n",
       " (5, 3),\n",
       " (7, 5),\n",
       " (3, 5)]"
      ]
     },
     "execution_count": 5,
     "metadata": {},
     "output_type": "execute_result"
    }
   ],
   "source": [
    "def within_distance(x, y, distance):\n",
    "    '''return all points within manhattan distance of (x, y)'''\n",
    "    return [(x+x1, y+y1) for coords in [coords_from_origin(i) for i in range(distance+1)]\n",
    "                         for (x1, y1) in coords]\n",
    "\n",
    "within_distance(5, 5, 2)"
   ]
  },
  {
   "cell_type": "markdown",
   "id": "2ee72144",
   "metadata": {},
   "source": [
    "OK, now let's parse the input:"
   ]
  },
  {
   "cell_type": "code",
   "execution_count": 6,
   "id": "126384a9",
   "metadata": {},
   "outputs": [],
   "source": [
    "def day15_a_1(str_in, y_chk):\n",
    "    \n",
    "    grid={}\n",
    "\n",
    "    gd=[[int(i) for i in cc]\n",
    "        for cc in re.findall('Sensor at x=(\\-?\\d+), y=(\\-?\\d+): closest beacon is at x=(\\-?\\d+), y=(\\-?\\d+)',\n",
    "                             str_in)]\n",
    "    \n",
    "    for (sx, sy, bx, by) in gd:\n",
    "\n",
    "        # Get the manhattan distance from the beacon to the sensor\n",
    "        md=abs(sx-bx)+abs(sy-by)\n",
    "        \n",
    "        # And add the covered coords:\n",
    "        for (x, y) in within_distance(sx, sy, md):\n",
    "            grid[(x, y)]='#'\n",
    "    \n",
    "    # Finally, need to remove the points where there's actually a beacon:\n",
    "    for (sx, sy, bx, by) in gd:\n",
    "        grid[(bx, by)]='B'\n",
    "    \n",
    "    return len([c for c in grid\n",
    "                if grid[c]=='#' and c[1]==y_chk])\n",
    "        "
   ]
  },
  {
   "cell_type": "code",
   "execution_count": 7,
   "id": "f9710274",
   "metadata": {},
   "outputs": [],
   "source": [
    "assert day15_a_1(test_input, 10)==26"
   ]
  },
  {
   "cell_type": "markdown",
   "id": "a93b9305",
   "metadata": {},
   "source": [
    "OK, that's fine, but the grid's going to be far too big to do the puzzle input in the same way.\n",
    "\n",
    "Thinks...\n",
    "\n",
    "Actually, we only need to get the coverage for the given row. Probably easiest to work it out as a set of ranges."
   ]
  },
  {
   "cell_type": "markdown",
   "id": "08e4639c",
   "metadata": {},
   "source": [
    "So the best way to do that will be with an interval tree. And there's an existing implementation in python (of course...)"
   ]
  },
  {
   "cell_type": "code",
   "execution_count": 8,
   "id": "cadce080",
   "metadata": {},
   "outputs": [],
   "source": [
    "import intervaltree"
   ]
  },
  {
   "cell_type": "markdown",
   "id": "ace27957",
   "metadata": {},
   "source": [
    "Let's create a function that takes a sensor, a beacon and a y coordinate, and returns the range of points covered on the x axis for that value of y:"
   ]
  },
  {
   "cell_type": "code",
   "execution_count": 9,
   "id": "fe9499cd",
   "metadata": {},
   "outputs": [
    {
     "data": {
      "text/plain": [
       "(3, 3)"
      ]
     },
     "execution_count": 9,
     "metadata": {},
     "output_type": "execute_result"
    }
   ],
   "source": [
    "def x_coverage(sx, sy, bx, by, y_val):\n",
    "    \n",
    "    # Get the manhattan distance from the beacon to the sensor\n",
    "    md=abs(sx-bx)+abs(sy-by)\n",
    "    \n",
    "    return ((sx - (md - abs(sy - y_val))),\n",
    "            (sx + (md - abs(sy - y_val))))\n",
    "\n",
    "x_coverage(3, 5, 4, 6, 7)"
   ]
  },
  {
   "cell_type": "markdown",
   "id": "dd88987d",
   "metadata": {},
   "source": [
    "OK, need to bear in mind that if the range is back to front (ie. the first number is bigger than the second), then it's not covered."
   ]
  },
  {
   "cell_type": "code",
   "execution_count": 10,
   "id": "13f4ef9b",
   "metadata": {},
   "outputs": [],
   "source": [
    "def day15_a(str_in, y_chk):\n",
    "    \n",
    "    gds=[[int(i) for i in cc]\n",
    "         for cc in re.findall('Sensor at x=(\\-?\\d+), y=(\\-?\\d+): closest beacon is at x=(\\-?\\d+), y=(\\-?\\d+)',\n",
    "                              str_in)]\n",
    "    \n",
    "    ranges=[x_coverage(*gd, y_chk) for gd in gds]\n",
    "    ranges=[r for r in ranges if r[0]<=r[1]]\n",
    "    \n",
    "    t=intervaltree.IntervalTree()\n",
    "\n",
    "    # +1 to x_max so that it covers the slice rather than the objects\n",
    "    # (otherwise it thinks eg. (12-12) is a null range)\n",
    "    for (x_min, x_max) in ranges:\n",
    "        t[x_min:x_max+1]=(x_min, x_max)\n",
    "    \n",
    "    t.merge_overlaps()\n",
    "    \n",
    "    # Remove any beacons present in the row:\n",
    "    \n",
    "    for (sx, sy, bx, by) in gds:\n",
    "        if by==y_chk:\n",
    "            t.chop(bx, bx+1)\n",
    "\n",
    "    return sum([(i.end-i.begin) for i in t])"
   ]
  },
  {
   "cell_type": "code",
   "execution_count": 11,
   "id": "9c689fe7",
   "metadata": {},
   "outputs": [],
   "source": [
    "assert day15_a(test_input, 10)==26"
   ]
  },
  {
   "cell_type": "code",
   "execution_count": 12,
   "id": "a625ac77",
   "metadata": {},
   "outputs": [
    {
     "data": {
      "text/plain": [
       "4737443"
      ]
     },
     "execution_count": 12,
     "metadata": {},
     "output_type": "execute_result"
    }
   ],
   "source": [
    "day15_a(puzzle_input, 2000000)"
   ]
  },
  {
   "cell_type": "markdown",
   "id": "3c62b3b9",
   "metadata": {},
   "source": [
    "## Part 2"
   ]
  },
  {
   "cell_type": "markdown",
   "id": "db6ae9e6",
   "metadata": {},
   "source": [
    "Let's just go through each of the beacons and see whether they appear in the covered zone."
   ]
  },
  {
   "cell_type": "code",
   "execution_count": 13,
   "id": "cf107a52",
   "metadata": {},
   "outputs": [],
   "source": [
    "def day15_b(str_in, lim=20):\n",
    "    \n",
    "    gds=[[int(i) for i in cc]\n",
    "         for cc in re.findall('Sensor at x=(\\-?\\d+), y=(\\-?\\d+): closest beacon is at x=(\\-?\\d+), y=(\\-?\\d+)',\n",
    "                              str_in)]\n",
    "    \n",
    "    for y in range(lim):\n",
    "        \n",
    "        if not y%500000:\n",
    "            print(y)\n",
    "        \n",
    "        ranges=[x_coverage(*gd, y) for gd in gds]\n",
    "        ranges=[r for r in ranges if r[0]<=r[1]]\n",
    "\n",
    "        t=intervaltree.IntervalTree()\n",
    "\n",
    "        # +1 to x_max so that it covers the slice rather than the objects\n",
    "        # (otherwise it thinks eg. (12-12) is a null range)\n",
    "        for (x_min, x_max) in ranges:\n",
    "            t[x_min:x_max+1]=(x_min, x_max)\n",
    "        \n",
    "        # Top and tail the spans\n",
    "        t.slice(0)\n",
    "        t.slice(lim+1)\n",
    "        \n",
    "        t.remove_envelop(t.begin(), 0)\n",
    "        t.remove_envelop(lim+1, t.end())\n",
    "        \n",
    "        # And merge them\n",
    "        t.merge_overlaps(strict=False)\n",
    "        \n",
    "        if len(t)==2:\n",
    "            (x_out, y_out)=(sorted(t)[0].end, y)\n",
    "            return x_out*4000000+y_out"
   ]
  },
  {
   "cell_type": "code",
   "execution_count": 14,
   "id": "85907176",
   "metadata": {},
   "outputs": [
    {
     "name": "stdout",
     "output_type": "stream",
     "text": [
      "0\n"
     ]
    }
   ],
   "source": [
    "assert day15_b(test_input, 20)==56000011\n",
    "    "
   ]
  },
  {
   "cell_type": "markdown",
   "id": "4d1ace62",
   "metadata": {},
   "source": [
    "Takes ages to run, but that's OK, I can just run it in my next meeting:"
   ]
  },
  {
   "cell_type": "code",
   "execution_count": 15,
   "id": "ee8a6b58",
   "metadata": {},
   "outputs": [
    {
     "name": "stdout",
     "output_type": "stream",
     "text": [
      "0\n",
      "500000\n",
      "1000000\n",
      "1500000\n",
      "2000000\n",
      "2500000\n"
     ]
    },
    {
     "data": {
      "text/plain": [
       "11482462818989"
      ]
     },
     "execution_count": 15,
     "metadata": {},
     "output_type": "execute_result"
    }
   ],
   "source": [
    "day15_b(puzzle_input, 4000000)"
   ]
  },
  {
   "cell_type": "markdown",
   "id": "67e23f7f",
   "metadata": {},
   "source": [
    "Took about 20 minutes to run. That's OK, it's not like I needed to be at the keyboard."
   ]
  }
 ],
 "metadata": {
  "kernelspec": {
   "display_name": "Python 3 (ipykernel)",
   "language": "python",
   "name": "python3"
  },
  "language_info": {
   "codemirror_mode": {
    "name": "ipython",
    "version": 3
   },
   "file_extension": ".py",
   "mimetype": "text/x-python",
   "name": "python",
   "nbconvert_exporter": "python",
   "pygments_lexer": "ipython3",
   "version": "3.10.0"
  }
 },
 "nbformat": 4,
 "nbformat_minor": 5
}
