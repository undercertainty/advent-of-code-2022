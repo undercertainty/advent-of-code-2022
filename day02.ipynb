{
 "cells": [
  {
   "cell_type": "markdown",
   "id": "ea38d89b",
   "metadata": {},
   "source": [
    "# Advent of code 2022"
   ]
  },
  {
   "cell_type": "markdown",
   "id": "34d359bb",
   "metadata": {},
   "source": [
    "I'm doing this for fun, so the amount of explanation I put in will vary according to how I feel."
   ]
  },
  {
   "cell_type": "code",
   "execution_count": 1,
   "id": "5e845b03",
   "metadata": {},
   "outputs": [],
   "source": [
    "import pandas as pd"
   ]
  },
  {
   "cell_type": "markdown",
   "id": "cec5f89f",
   "metadata": {},
   "source": [
    "## Part 1"
   ]
  },
  {
   "cell_type": "markdown",
   "id": "ac0a3d3b",
   "metadata": {},
   "source": [
    "Let's have a confusion matrix in a DataFrame:"
   ]
  },
  {
   "cell_type": "code",
   "execution_count": 2,
   "id": "4e987999",
   "metadata": {},
   "outputs": [
    {
     "data": {
      "text/html": [
       "<div>\n",
       "<style scoped>\n",
       "    .dataframe tbody tr th:only-of-type {\n",
       "        vertical-align: middle;\n",
       "    }\n",
       "\n",
       "    .dataframe tbody tr th {\n",
       "        vertical-align: top;\n",
       "    }\n",
       "\n",
       "    .dataframe thead th {\n",
       "        text-align: right;\n",
       "    }\n",
       "</style>\n",
       "<table border=\"1\" class=\"dataframe\">\n",
       "  <thead>\n",
       "    <tr style=\"text-align: right;\">\n",
       "      <th></th>\n",
       "      <th>Rock</th>\n",
       "      <th>Paper</th>\n",
       "      <th>Scissors</th>\n",
       "    </tr>\n",
       "  </thead>\n",
       "  <tbody>\n",
       "    <tr>\n",
       "      <th>Rock</th>\n",
       "      <td>4</td>\n",
       "      <td>8</td>\n",
       "      <td>3</td>\n",
       "    </tr>\n",
       "    <tr>\n",
       "      <th>Paper</th>\n",
       "      <td>1</td>\n",
       "      <td>5</td>\n",
       "      <td>9</td>\n",
       "    </tr>\n",
       "    <tr>\n",
       "      <th>Scissors</th>\n",
       "      <td>7</td>\n",
       "      <td>2</td>\n",
       "      <td>6</td>\n",
       "    </tr>\n",
       "  </tbody>\n",
       "</table>\n",
       "</div>"
      ],
      "text/plain": [
       "          Rock  Paper  Scissors\n",
       "Rock         4      8         3\n",
       "Paper        1      5         9\n",
       "Scissors     7      2         6"
      ]
     },
     "execution_count": 2,
     "metadata": {},
     "output_type": "execute_result"
    }
   ],
   "source": [
    "df=pd.DataFrame({'Rock':{'Rock':3, 'Paper':0, 'Scissors':6},\n",
    "                'Paper':{'Rock':6, 'Paper':3, 'Scissors':0},\n",
    "                'Scissors':{'Rock':0, 'Paper':6, 'Scissors':3}\n",
    "                })\n",
    "\n",
    "df['Rock']=df['Rock']+1\n",
    "df['Paper']=df['Paper']+2\n",
    "df['Scissors']=df['Scissors']+3\n",
    "\n",
    "df"
   ]
  },
  {
   "cell_type": "code",
   "execution_count": 3,
   "id": "7a2b8f25",
   "metadata": {},
   "outputs": [
    {
     "data": {
      "text/html": [
       "<div>\n",
       "<style scoped>\n",
       "    .dataframe tbody tr th:only-of-type {\n",
       "        vertical-align: middle;\n",
       "    }\n",
       "\n",
       "    .dataframe tbody tr th {\n",
       "        vertical-align: top;\n",
       "    }\n",
       "\n",
       "    .dataframe thead th {\n",
       "        text-align: right;\n",
       "    }\n",
       "</style>\n",
       "<table border=\"1\" class=\"dataframe\">\n",
       "  <thead>\n",
       "    <tr style=\"text-align: right;\">\n",
       "      <th></th>\n",
       "      <th>X</th>\n",
       "      <th>Y</th>\n",
       "      <th>Z</th>\n",
       "    </tr>\n",
       "  </thead>\n",
       "  <tbody>\n",
       "    <tr>\n",
       "      <th>A</th>\n",
       "      <td>4</td>\n",
       "      <td>8</td>\n",
       "      <td>3</td>\n",
       "    </tr>\n",
       "    <tr>\n",
       "      <th>B</th>\n",
       "      <td>1</td>\n",
       "      <td>5</td>\n",
       "      <td>9</td>\n",
       "    </tr>\n",
       "    <tr>\n",
       "      <th>C</th>\n",
       "      <td>7</td>\n",
       "      <td>2</td>\n",
       "      <td>6</td>\n",
       "    </tr>\n",
       "  </tbody>\n",
       "</table>\n",
       "</div>"
      ],
      "text/plain": [
       "   X  Y  Z\n",
       "A  4  8  3\n",
       "B  1  5  9\n",
       "C  7  2  6"
      ]
     },
     "execution_count": 3,
     "metadata": {},
     "output_type": "execute_result"
    }
   ],
   "source": [
    "df=(df\n",
    "    .rename({'Rock':'A', 'Paper':'B', 'Scissors':'C'}, axis='rows')\n",
    "    .rename({'Rock':'X', 'Paper':'Y', 'Scissors':'Z'}, axis='columns'))\n",
    "df"
   ]
  },
  {
   "cell_type": "code",
   "execution_count": 4,
   "id": "3d49f57b",
   "metadata": {},
   "outputs": [],
   "source": [
    "test_input='''A Y\n",
    "B X\n",
    "C Z'''"
   ]
  },
  {
   "cell_type": "markdown",
   "id": "fe82b293",
   "metadata": {},
   "source": [
    "Then just split the input and pump into the matrix to get the final score:"
   ]
  },
  {
   "cell_type": "code",
   "execution_count": 5,
   "id": "7f00f368",
   "metadata": {},
   "outputs": [],
   "source": [
    "assert sum([df.loc[x, y] for (x, y) in [x.split() for x in test_input.splitlines()]])==15"
   ]
  },
  {
   "cell_type": "code",
   "execution_count": 6,
   "id": "0d628ed6",
   "metadata": {},
   "outputs": [],
   "source": [
    "with open('data/day02.txt') as fIn:\n",
    "    puzzle_input=fIn.read()"
   ]
  },
  {
   "cell_type": "code",
   "execution_count": 7,
   "id": "c902d0f4",
   "metadata": {},
   "outputs": [
    {
     "data": {
      "text/plain": [
       "13484"
      ]
     },
     "execution_count": 7,
     "metadata": {},
     "output_type": "execute_result"
    }
   ],
   "source": [
    "sum([df.loc[x, y] for (x, y) in [x.split() for x in puzzle_input.splitlines()]])"
   ]
  },
  {
   "cell_type": "markdown",
   "id": "4abd4f88",
   "metadata": {},
   "source": [
    "## Part 2"
   ]
  },
  {
   "cell_type": "markdown",
   "id": "34128eeb",
   "metadata": {},
   "source": [
    "Can also do this as a confusion matrix, but slightly more (mentally) fiddly. It's early, so I'm not going to try to construct the matrix in my head."
   ]
  },
  {
   "cell_type": "code",
   "execution_count": 8,
   "id": "634fcaf6",
   "metadata": {},
   "outputs": [
    {
     "data": {
      "text/html": [
       "<div>\n",
       "<style scoped>\n",
       "    .dataframe tbody tr th:only-of-type {\n",
       "        vertical-align: middle;\n",
       "    }\n",
       "\n",
       "    .dataframe tbody tr th {\n",
       "        vertical-align: top;\n",
       "    }\n",
       "\n",
       "    .dataframe thead th {\n",
       "        text-align: right;\n",
       "    }\n",
       "</style>\n",
       "<table border=\"1\" class=\"dataframe\">\n",
       "  <thead>\n",
       "    <tr style=\"text-align: right;\">\n",
       "      <th></th>\n",
       "      <th>Rock</th>\n",
       "      <th>Paper</th>\n",
       "      <th>Scissors</th>\n",
       "    </tr>\n",
       "  </thead>\n",
       "  <tbody>\n",
       "    <tr>\n",
       "      <th>Win</th>\n",
       "      <td>Paper</td>\n",
       "      <td>Scissors</td>\n",
       "      <td>Rock</td>\n",
       "    </tr>\n",
       "    <tr>\n",
       "      <th>Draw</th>\n",
       "      <td>Rock</td>\n",
       "      <td>Paper</td>\n",
       "      <td>Scissors</td>\n",
       "    </tr>\n",
       "    <tr>\n",
       "      <th>Lose</th>\n",
       "      <td>Scissors</td>\n",
       "      <td>Rock</td>\n",
       "      <td>Paper</td>\n",
       "    </tr>\n",
       "  </tbody>\n",
       "</table>\n",
       "</div>"
      ],
      "text/plain": [
       "          Rock     Paper  Scissors\n",
       "Win      Paper  Scissors      Rock\n",
       "Draw      Rock     Paper  Scissors\n",
       "Lose  Scissors      Rock     Paper"
      ]
     },
     "execution_count": 8,
     "metadata": {},
     "output_type": "execute_result"
    }
   ],
   "source": [
    "df=pd.DataFrame({'Rock':{'Win':'Paper', 'Draw':'Rock', 'Lose':'Scissors'},\n",
    "                'Paper':{'Win':'Scissors', 'Draw':'Paper', 'Lose':'Rock'},\n",
    "                'Scissors':{'Win':'Rock', 'Draw':'Scissors', 'Lose':'Paper'}\n",
    "                })\n",
    "df"
   ]
  },
  {
   "cell_type": "code",
   "execution_count": 9,
   "id": "7831e170",
   "metadata": {},
   "outputs": [
    {
     "data": {
      "text/html": [
       "<div>\n",
       "<style scoped>\n",
       "    .dataframe tbody tr th:only-of-type {\n",
       "        vertical-align: middle;\n",
       "    }\n",
       "\n",
       "    .dataframe tbody tr th {\n",
       "        vertical-align: top;\n",
       "    }\n",
       "\n",
       "    .dataframe thead th {\n",
       "        text-align: right;\n",
       "    }\n",
       "</style>\n",
       "<table border=\"1\" class=\"dataframe\">\n",
       "  <thead>\n",
       "    <tr style=\"text-align: right;\">\n",
       "      <th></th>\n",
       "      <th>Win</th>\n",
       "      <th>Draw</th>\n",
       "      <th>Lose</th>\n",
       "    </tr>\n",
       "  </thead>\n",
       "  <tbody>\n",
       "    <tr>\n",
       "      <th>Rock</th>\n",
       "      <td>2</td>\n",
       "      <td>1</td>\n",
       "      <td>3</td>\n",
       "    </tr>\n",
       "    <tr>\n",
       "      <th>Paper</th>\n",
       "      <td>3</td>\n",
       "      <td>2</td>\n",
       "      <td>1</td>\n",
       "    </tr>\n",
       "    <tr>\n",
       "      <th>Scissors</th>\n",
       "      <td>1</td>\n",
       "      <td>3</td>\n",
       "      <td>2</td>\n",
       "    </tr>\n",
       "  </tbody>\n",
       "</table>\n",
       "</div>"
      ],
      "text/plain": [
       "          Win  Draw  Lose\n",
       "Rock        2     1     3\n",
       "Paper       3     2     1\n",
       "Scissors    1     3     2"
      ]
     },
     "execution_count": 9,
     "metadata": {},
     "output_type": "execute_result"
    }
   ],
   "source": [
    "df=df.replace({'Rock':1, 'Paper':2, 'Scissors':3}).T\n",
    "df"
   ]
  },
  {
   "cell_type": "code",
   "execution_count": 10,
   "id": "d83f54f4",
   "metadata": {},
   "outputs": [
    {
     "data": {
      "text/html": [
       "<div>\n",
       "<style scoped>\n",
       "    .dataframe tbody tr th:only-of-type {\n",
       "        vertical-align: middle;\n",
       "    }\n",
       "\n",
       "    .dataframe tbody tr th {\n",
       "        vertical-align: top;\n",
       "    }\n",
       "\n",
       "    .dataframe thead th {\n",
       "        text-align: right;\n",
       "    }\n",
       "</style>\n",
       "<table border=\"1\" class=\"dataframe\">\n",
       "  <thead>\n",
       "    <tr style=\"text-align: right;\">\n",
       "      <th></th>\n",
       "      <th>Win</th>\n",
       "      <th>Draw</th>\n",
       "      <th>Lose</th>\n",
       "    </tr>\n",
       "  </thead>\n",
       "  <tbody>\n",
       "    <tr>\n",
       "      <th>Rock</th>\n",
       "      <td>8</td>\n",
       "      <td>4</td>\n",
       "      <td>3</td>\n",
       "    </tr>\n",
       "    <tr>\n",
       "      <th>Paper</th>\n",
       "      <td>9</td>\n",
       "      <td>5</td>\n",
       "      <td>1</td>\n",
       "    </tr>\n",
       "    <tr>\n",
       "      <th>Scissors</th>\n",
       "      <td>7</td>\n",
       "      <td>6</td>\n",
       "      <td>2</td>\n",
       "    </tr>\n",
       "  </tbody>\n",
       "</table>\n",
       "</div>"
      ],
      "text/plain": [
       "          Win  Draw  Lose\n",
       "Rock        8     4     3\n",
       "Paper       9     5     1\n",
       "Scissors    7     6     2"
      ]
     },
     "execution_count": 10,
     "metadata": {},
     "output_type": "execute_result"
    }
   ],
   "source": [
    "df['Win']=df['Win']+6\n",
    "df['Draw']+=3\n",
    "df"
   ]
  },
  {
   "cell_type": "code",
   "execution_count": 11,
   "id": "ab23d496",
   "metadata": {},
   "outputs": [
    {
     "data": {
      "text/html": [
       "<div>\n",
       "<style scoped>\n",
       "    .dataframe tbody tr th:only-of-type {\n",
       "        vertical-align: middle;\n",
       "    }\n",
       "\n",
       "    .dataframe tbody tr th {\n",
       "        vertical-align: top;\n",
       "    }\n",
       "\n",
       "    .dataframe thead th {\n",
       "        text-align: right;\n",
       "    }\n",
       "</style>\n",
       "<table border=\"1\" class=\"dataframe\">\n",
       "  <thead>\n",
       "    <tr style=\"text-align: right;\">\n",
       "      <th></th>\n",
       "      <th>Z</th>\n",
       "      <th>Y</th>\n",
       "      <th>X</th>\n",
       "    </tr>\n",
       "  </thead>\n",
       "  <tbody>\n",
       "    <tr>\n",
       "      <th>A</th>\n",
       "      <td>8</td>\n",
       "      <td>4</td>\n",
       "      <td>3</td>\n",
       "    </tr>\n",
       "    <tr>\n",
       "      <th>B</th>\n",
       "      <td>9</td>\n",
       "      <td>5</td>\n",
       "      <td>1</td>\n",
       "    </tr>\n",
       "    <tr>\n",
       "      <th>C</th>\n",
       "      <td>7</td>\n",
       "      <td>6</td>\n",
       "      <td>2</td>\n",
       "    </tr>\n",
       "  </tbody>\n",
       "</table>\n",
       "</div>"
      ],
      "text/plain": [
       "   Z  Y  X\n",
       "A  8  4  3\n",
       "B  9  5  1\n",
       "C  7  6  2"
      ]
     },
     "execution_count": 11,
     "metadata": {},
     "output_type": "execute_result"
    }
   ],
   "source": [
    "df=(df\n",
    "    .rename({'Rock':'A', 'Paper':'B', 'Scissors':'C'}, axis='rows')\n",
    "    .rename({'Lose':'X', 'Draw':'Y', 'Win':'Z'}, axis='columns'))\n",
    "df"
   ]
  },
  {
   "cell_type": "code",
   "execution_count": 12,
   "id": "8d9880ac",
   "metadata": {},
   "outputs": [],
   "source": [
    "test_input='''A Y\n",
    "B X\n",
    "C Z'''"
   ]
  },
  {
   "cell_type": "markdown",
   "id": "7413913e",
   "metadata": {},
   "source": [
    "Then just run the same statements as last time:"
   ]
  },
  {
   "cell_type": "code",
   "execution_count": 13,
   "id": "c5740fa4",
   "metadata": {},
   "outputs": [],
   "source": [
    "assert sum([df.loc[x, y] for (x, y) in [x.split() for x in test_input.splitlines()]])==12"
   ]
  },
  {
   "cell_type": "code",
   "execution_count": 14,
   "id": "8754f9b9",
   "metadata": {},
   "outputs": [
    {
     "data": {
      "text/plain": [
       "13433"
      ]
     },
     "execution_count": 14,
     "metadata": {},
     "output_type": "execute_result"
    }
   ],
   "source": [
    "sum([df.loc[x, y] for (x, y) in [x.split() for x in puzzle_input.splitlines()]])"
   ]
  },
  {
   "cell_type": "markdown",
   "id": "fd8c8136",
   "metadata": {},
   "source": [
    "## Just for fun..."
   ]
  },
  {
   "cell_type": "markdown",
   "id": "2623262f",
   "metadata": {},
   "source": [
    "As a little exercise that might be a good way to get the students thinking about reshaping data, let's try starting from a suitable DataFrame:"
   ]
  },
  {
   "cell_type": "code",
   "execution_count": 15,
   "id": "4e239f17",
   "metadata": {},
   "outputs": [
    {
     "data": {
      "text/html": [
       "<div>\n",
       "<style scoped>\n",
       "    .dataframe tbody tr th:only-of-type {\n",
       "        vertical-align: middle;\n",
       "    }\n",
       "\n",
       "    .dataframe tbody tr th {\n",
       "        vertical-align: top;\n",
       "    }\n",
       "\n",
       "    .dataframe thead th {\n",
       "        text-align: right;\n",
       "    }\n",
       "</style>\n",
       "<table border=\"1\" class=\"dataframe\">\n",
       "  <thead>\n",
       "    <tr style=\"text-align: right;\">\n",
       "      <th>P2</th>\n",
       "      <th>Rock</th>\n",
       "      <th>Paper</th>\n",
       "      <th>Scissors</th>\n",
       "    </tr>\n",
       "    <tr>\n",
       "      <th>P1</th>\n",
       "      <th></th>\n",
       "      <th></th>\n",
       "      <th></th>\n",
       "    </tr>\n",
       "  </thead>\n",
       "  <tbody>\n",
       "    <tr>\n",
       "      <th>Rock</th>\n",
       "      <td>Draw</td>\n",
       "      <td>P2</td>\n",
       "      <td>P1</td>\n",
       "    </tr>\n",
       "    <tr>\n",
       "      <th>Paper</th>\n",
       "      <td>P1</td>\n",
       "      <td>Draw</td>\n",
       "      <td>P2</td>\n",
       "    </tr>\n",
       "    <tr>\n",
       "      <th>Scissors</th>\n",
       "      <td>P2</td>\n",
       "      <td>P1</td>\n",
       "      <td>Draw</td>\n",
       "    </tr>\n",
       "  </tbody>\n",
       "</table>\n",
       "</div>"
      ],
      "text/plain": [
       "P2        Rock Paper Scissors\n",
       "P1                           \n",
       "Rock      Draw    P2       P1\n",
       "Paper       P1  Draw       P2\n",
       "Scissors    P2    P1     Draw"
      ]
     },
     "execution_count": 15,
     "metadata": {},
     "output_type": "execute_result"
    }
   ],
   "source": [
    "# Rather ungainly way of creating the dataframe, but\n",
    "# I'm only really interested in having it for the rest \n",
    "# of the exercise.\n",
    "\n",
    "rps_df=pd.DataFrame(index=pd.Index(['Rock', 'Paper', 'Scissors'], name='P1'),\n",
    "                    columns=pd.Index(['Rock', 'Paper', 'Scissors'], name='P2'))\n",
    "\n",
    "for row in rps_df.index:\n",
    "    for col in rps_df.columns:\n",
    "        if row==col:\n",
    "            rps_df.loc[row, col]='Draw'\n",
    "        elif ((row=='Rock' and col=='Scissors')\n",
    "              or (row=='Paper' and col=='Rock')\n",
    "              or (row=='Scissors' and col=='Paper')):\n",
    "            rps_df.loc[row, col]=rps_df.index.name\n",
    "rps_df=rps_df.fillna(rps_df.columns.name)\n",
    "        \n",
    "rps_df\n"
   ]
  },
  {
   "cell_type": "markdown",
   "id": "3cd4f640",
   "metadata": {},
   "source": [
    "## Part 1"
   ]
  },
  {
   "cell_type": "markdown",
   "id": "bfb7fa6c",
   "metadata": {},
   "source": [
    "Now, to get into a form so we can easily calculate the score following play:"
   ]
  },
  {
   "cell_type": "code",
   "execution_count": 16,
   "id": "9b0cca74",
   "metadata": {},
   "outputs": [
    {
     "data": {
      "text/html": [
       "<div>\n",
       "<style scoped>\n",
       "    .dataframe tbody tr th:only-of-type {\n",
       "        vertical-align: middle;\n",
       "    }\n",
       "\n",
       "    .dataframe tbody tr th {\n",
       "        vertical-align: top;\n",
       "    }\n",
       "\n",
       "    .dataframe thead th {\n",
       "        text-align: right;\n",
       "    }\n",
       "</style>\n",
       "<table border=\"1\" class=\"dataframe\">\n",
       "  <thead>\n",
       "    <tr style=\"text-align: right;\">\n",
       "      <th></th>\n",
       "      <th>P1</th>\n",
       "      <th>P2</th>\n",
       "      <th>Outcome</th>\n",
       "    </tr>\n",
       "  </thead>\n",
       "  <tbody>\n",
       "    <tr>\n",
       "      <th>0</th>\n",
       "      <td>Rock</td>\n",
       "      <td>Rock</td>\n",
       "      <td>Draw</td>\n",
       "    </tr>\n",
       "    <tr>\n",
       "      <th>1</th>\n",
       "      <td>Paper</td>\n",
       "      <td>Rock</td>\n",
       "      <td>P1</td>\n",
       "    </tr>\n",
       "    <tr>\n",
       "      <th>2</th>\n",
       "      <td>Scissors</td>\n",
       "      <td>Rock</td>\n",
       "      <td>P2</td>\n",
       "    </tr>\n",
       "    <tr>\n",
       "      <th>3</th>\n",
       "      <td>Rock</td>\n",
       "      <td>Paper</td>\n",
       "      <td>P2</td>\n",
       "    </tr>\n",
       "    <tr>\n",
       "      <th>4</th>\n",
       "      <td>Paper</td>\n",
       "      <td>Paper</td>\n",
       "      <td>Draw</td>\n",
       "    </tr>\n",
       "    <tr>\n",
       "      <th>5</th>\n",
       "      <td>Scissors</td>\n",
       "      <td>Paper</td>\n",
       "      <td>P1</td>\n",
       "    </tr>\n",
       "    <tr>\n",
       "      <th>6</th>\n",
       "      <td>Rock</td>\n",
       "      <td>Scissors</td>\n",
       "      <td>P1</td>\n",
       "    </tr>\n",
       "    <tr>\n",
       "      <th>7</th>\n",
       "      <td>Paper</td>\n",
       "      <td>Scissors</td>\n",
       "      <td>P2</td>\n",
       "    </tr>\n",
       "    <tr>\n",
       "      <th>8</th>\n",
       "      <td>Scissors</td>\n",
       "      <td>Scissors</td>\n",
       "      <td>Draw</td>\n",
       "    </tr>\n",
       "  </tbody>\n",
       "</table>\n",
       "</div>"
      ],
      "text/plain": [
       "         P1        P2 Outcome\n",
       "0      Rock      Rock    Draw\n",
       "1     Paper      Rock      P1\n",
       "2  Scissors      Rock      P2\n",
       "3      Rock     Paper      P2\n",
       "4     Paper     Paper    Draw\n",
       "5  Scissors     Paper      P1\n",
       "6      Rock  Scissors      P1\n",
       "7     Paper  Scissors      P2\n",
       "8  Scissors  Scissors    Draw"
      ]
     },
     "execution_count": 16,
     "metadata": {},
     "output_type": "execute_result"
    }
   ],
   "source": [
    "long_df=(rps_df\n",
    "         .reset_index()\n",
    "         .melt(rps_df.index.name, value_name='Outcome'))\n",
    "\n",
    "long_df"
   ]
  },
  {
   "cell_type": "markdown",
   "id": "beb92acb",
   "metadata": {},
   "source": [
    "Assume `P1` is the opponent and `P2` is me, then I should be able to calculate the final score fairly easily:"
   ]
  },
  {
   "cell_type": "code",
   "execution_count": 17,
   "id": "f41f84b6",
   "metadata": {},
   "outputs": [
    {
     "data": {
      "text/plain": [
       "0    1\n",
       "1    1\n",
       "2    1\n",
       "3    2\n",
       "4    2\n",
       "5    2\n",
       "6    3\n",
       "7    3\n",
       "8    3\n",
       "Name: P2, dtype: int64"
      ]
     },
     "execution_count": 17,
     "metadata": {},
     "output_type": "execute_result"
    }
   ],
   "source": [
    "# value of the shape\n",
    "\n",
    "long_df['P2'].map({'Rock':1, 'Paper':2, 'Scissors':3})"
   ]
  },
  {
   "cell_type": "code",
   "execution_count": 18,
   "id": "bcfb8949",
   "metadata": {},
   "outputs": [
    {
     "data": {
      "text/plain": [
       "0    3\n",
       "1    0\n",
       "2    6\n",
       "3    6\n",
       "4    3\n",
       "5    0\n",
       "6    0\n",
       "7    6\n",
       "8    3\n",
       "Name: Outcome, dtype: int64"
      ]
     },
     "execution_count": 18,
     "metadata": {},
     "output_type": "execute_result"
    }
   ],
   "source": [
    "# Score of the outcome\n",
    "\n",
    "long_df['Outcome'].map({'P2':6, 'Draw':3, 'P1':0})"
   ]
  },
  {
   "cell_type": "code",
   "execution_count": 19,
   "id": "41e2132c",
   "metadata": {},
   "outputs": [
    {
     "data": {
      "text/html": [
       "<div>\n",
       "<style scoped>\n",
       "    .dataframe tbody tr th:only-of-type {\n",
       "        vertical-align: middle;\n",
       "    }\n",
       "\n",
       "    .dataframe tbody tr th {\n",
       "        vertical-align: top;\n",
       "    }\n",
       "\n",
       "    .dataframe thead th {\n",
       "        text-align: right;\n",
       "    }\n",
       "</style>\n",
       "<table border=\"1\" class=\"dataframe\">\n",
       "  <thead>\n",
       "    <tr style=\"text-align: right;\">\n",
       "      <th></th>\n",
       "      <th>P1</th>\n",
       "      <th>P2</th>\n",
       "      <th>Outcome</th>\n",
       "      <th>Score</th>\n",
       "    </tr>\n",
       "  </thead>\n",
       "  <tbody>\n",
       "    <tr>\n",
       "      <th>0</th>\n",
       "      <td>Rock</td>\n",
       "      <td>Rock</td>\n",
       "      <td>Draw</td>\n",
       "      <td>4</td>\n",
       "    </tr>\n",
       "    <tr>\n",
       "      <th>1</th>\n",
       "      <td>Paper</td>\n",
       "      <td>Rock</td>\n",
       "      <td>P1</td>\n",
       "      <td>1</td>\n",
       "    </tr>\n",
       "    <tr>\n",
       "      <th>2</th>\n",
       "      <td>Scissors</td>\n",
       "      <td>Rock</td>\n",
       "      <td>P2</td>\n",
       "      <td>7</td>\n",
       "    </tr>\n",
       "    <tr>\n",
       "      <th>3</th>\n",
       "      <td>Rock</td>\n",
       "      <td>Paper</td>\n",
       "      <td>P2</td>\n",
       "      <td>8</td>\n",
       "    </tr>\n",
       "    <tr>\n",
       "      <th>4</th>\n",
       "      <td>Paper</td>\n",
       "      <td>Paper</td>\n",
       "      <td>Draw</td>\n",
       "      <td>5</td>\n",
       "    </tr>\n",
       "    <tr>\n",
       "      <th>5</th>\n",
       "      <td>Scissors</td>\n",
       "      <td>Paper</td>\n",
       "      <td>P1</td>\n",
       "      <td>2</td>\n",
       "    </tr>\n",
       "    <tr>\n",
       "      <th>6</th>\n",
       "      <td>Rock</td>\n",
       "      <td>Scissors</td>\n",
       "      <td>P1</td>\n",
       "      <td>3</td>\n",
       "    </tr>\n",
       "    <tr>\n",
       "      <th>7</th>\n",
       "      <td>Paper</td>\n",
       "      <td>Scissors</td>\n",
       "      <td>P2</td>\n",
       "      <td>9</td>\n",
       "    </tr>\n",
       "    <tr>\n",
       "      <th>8</th>\n",
       "      <td>Scissors</td>\n",
       "      <td>Scissors</td>\n",
       "      <td>Draw</td>\n",
       "      <td>6</td>\n",
       "    </tr>\n",
       "  </tbody>\n",
       "</table>\n",
       "</div>"
      ],
      "text/plain": [
       "         P1        P2 Outcome  Score\n",
       "0      Rock      Rock    Draw      4\n",
       "1     Paper      Rock      P1      1\n",
       "2  Scissors      Rock      P2      7\n",
       "3      Rock     Paper      P2      8\n",
       "4     Paper     Paper    Draw      5\n",
       "5  Scissors     Paper      P1      2\n",
       "6      Rock  Scissors      P1      3\n",
       "7     Paper  Scissors      P2      9\n",
       "8  Scissors  Scissors    Draw      6"
      ]
     },
     "execution_count": 19,
     "metadata": {},
     "output_type": "execute_result"
    }
   ],
   "source": [
    "long_df['Score']=long_df['P2'].map({'Rock':1, 'Paper':2, 'Scissors':3}) + \\\n",
    "                 long_df['Outcome'].map({'P2':6, 'Draw':3, 'P1':0})\n",
    "long_df"
   ]
  },
  {
   "cell_type": "markdown",
   "id": "5f8879cb",
   "metadata": {},
   "source": [
    "To make it easy to apply the test input, let's map back to wide form:"
   ]
  },
  {
   "cell_type": "code",
   "execution_count": 20,
   "id": "8ac904fa",
   "metadata": {},
   "outputs": [
    {
     "data": {
      "text/html": [
       "<div>\n",
       "<style scoped>\n",
       "    .dataframe tbody tr th:only-of-type {\n",
       "        vertical-align: middle;\n",
       "    }\n",
       "\n",
       "    .dataframe tbody tr th {\n",
       "        vertical-align: top;\n",
       "    }\n",
       "\n",
       "    .dataframe thead th {\n",
       "        text-align: right;\n",
       "    }\n",
       "</style>\n",
       "<table border=\"1\" class=\"dataframe\">\n",
       "  <thead>\n",
       "    <tr style=\"text-align: right;\">\n",
       "      <th>P2</th>\n",
       "      <th>Paper</th>\n",
       "      <th>Rock</th>\n",
       "      <th>Scissors</th>\n",
       "    </tr>\n",
       "    <tr>\n",
       "      <th>P1</th>\n",
       "      <th></th>\n",
       "      <th></th>\n",
       "      <th></th>\n",
       "    </tr>\n",
       "  </thead>\n",
       "  <tbody>\n",
       "    <tr>\n",
       "      <th>Paper</th>\n",
       "      <td>5</td>\n",
       "      <td>1</td>\n",
       "      <td>9</td>\n",
       "    </tr>\n",
       "    <tr>\n",
       "      <th>Rock</th>\n",
       "      <td>8</td>\n",
       "      <td>4</td>\n",
       "      <td>3</td>\n",
       "    </tr>\n",
       "    <tr>\n",
       "      <th>Scissors</th>\n",
       "      <td>2</td>\n",
       "      <td>7</td>\n",
       "      <td>6</td>\n",
       "    </tr>\n",
       "  </tbody>\n",
       "</table>\n",
       "</div>"
      ],
      "text/plain": [
       "P2        Paper  Rock  Scissors\n",
       "P1                             \n",
       "Paper         5     1         9\n",
       "Rock          8     4         3\n",
       "Scissors      2     7         6"
      ]
     },
     "execution_count": 20,
     "metadata": {},
     "output_type": "execute_result"
    }
   ],
   "source": [
    "long_df.pivot(index='P1', columns='P2', values='Score')\n"
   ]
  },
  {
   "cell_type": "markdown",
   "id": "46e4fbc0",
   "metadata": {},
   "source": [
    "And map the `P1` and `P2` values onto the coded values:"
   ]
  },
  {
   "cell_type": "code",
   "execution_count": 21,
   "id": "14370567",
   "metadata": {},
   "outputs": [
    {
     "data": {
      "text/html": [
       "<div>\n",
       "<style scoped>\n",
       "    .dataframe tbody tr th:only-of-type {\n",
       "        vertical-align: middle;\n",
       "    }\n",
       "\n",
       "    .dataframe tbody tr th {\n",
       "        vertical-align: top;\n",
       "    }\n",
       "\n",
       "    .dataframe thead th {\n",
       "        text-align: right;\n",
       "    }\n",
       "</style>\n",
       "<table border=\"1\" class=\"dataframe\">\n",
       "  <thead>\n",
       "    <tr style=\"text-align: right;\">\n",
       "      <th>P2</th>\n",
       "      <th>Y</th>\n",
       "      <th>X</th>\n",
       "      <th>Z</th>\n",
       "    </tr>\n",
       "    <tr>\n",
       "      <th>P1</th>\n",
       "      <th></th>\n",
       "      <th></th>\n",
       "      <th></th>\n",
       "    </tr>\n",
       "  </thead>\n",
       "  <tbody>\n",
       "    <tr>\n",
       "      <th>B</th>\n",
       "      <td>5</td>\n",
       "      <td>1</td>\n",
       "      <td>9</td>\n",
       "    </tr>\n",
       "    <tr>\n",
       "      <th>A</th>\n",
       "      <td>8</td>\n",
       "      <td>4</td>\n",
       "      <td>3</td>\n",
       "    </tr>\n",
       "    <tr>\n",
       "      <th>C</th>\n",
       "      <td>2</td>\n",
       "      <td>7</td>\n",
       "      <td>6</td>\n",
       "    </tr>\n",
       "  </tbody>\n",
       "</table>\n",
       "</div>"
      ],
      "text/plain": [
       "P2  Y  X  Z\n",
       "P1         \n",
       "B   5  1  9\n",
       "A   8  4  3\n",
       "C   2  7  6"
      ]
     },
     "execution_count": 21,
     "metadata": {},
     "output_type": "execute_result"
    }
   ],
   "source": [
    "pt1_df=(long_df.pivot(index='P1', columns='P2', values='Score')\n",
    "        .rename({'Rock':'A', 'Paper':'B', 'Scissors':'C'}, axis='rows')\n",
    "        .rename({'Rock':'X', 'Paper':'Y', 'Scissors':'Z'}, axis='columns'))\n",
    "\n",
    "pt1_df"
   ]
  },
  {
   "cell_type": "markdown",
   "id": "26e0c168",
   "metadata": {},
   "source": [
    "And apply the test input:"
   ]
  },
  {
   "cell_type": "code",
   "execution_count": 22,
   "id": "9d2fb206",
   "metadata": {},
   "outputs": [],
   "source": [
    "assert sum([pt1_df.loc[x, y] for (x, y) in [x.split() for x in test_input.splitlines()]])==15"
   ]
  },
  {
   "cell_type": "markdown",
   "id": "221c1030",
   "metadata": {},
   "source": [
    "And the puzzle input:"
   ]
  },
  {
   "cell_type": "code",
   "execution_count": 23,
   "id": "618cbf45",
   "metadata": {},
   "outputs": [
    {
     "data": {
      "text/plain": [
       "13484"
      ]
     },
     "execution_count": 23,
     "metadata": {},
     "output_type": "execute_result"
    }
   ],
   "source": [
    "sum([pt1_df.loc[x, y] for (x, y) in [x.split() for x in puzzle_input.splitlines()]])"
   ]
  },
  {
   "cell_type": "markdown",
   "id": "f60aeec0",
   "metadata": {},
   "source": [
    "## Part 2"
   ]
  },
  {
   "cell_type": "markdown",
   "id": "87db1d2d",
   "metadata": {},
   "source": [
    "For part 2, we just need to use the desired output as the second value, rather than the player's choice. We can do this by pivoting on a different column:"
   ]
  },
  {
   "cell_type": "code",
   "execution_count": 24,
   "id": "0f5bfcbd",
   "metadata": {},
   "outputs": [
    {
     "data": {
      "text/html": [
       "<div>\n",
       "<style scoped>\n",
       "    .dataframe tbody tr th:only-of-type {\n",
       "        vertical-align: middle;\n",
       "    }\n",
       "\n",
       "    .dataframe tbody tr th {\n",
       "        vertical-align: top;\n",
       "    }\n",
       "\n",
       "    .dataframe thead th {\n",
       "        text-align: right;\n",
       "    }\n",
       "</style>\n",
       "<table border=\"1\" class=\"dataframe\">\n",
       "  <thead>\n",
       "    <tr style=\"text-align: right;\">\n",
       "      <th>Outcome</th>\n",
       "      <th>Draw</th>\n",
       "      <th>P1</th>\n",
       "      <th>P2</th>\n",
       "    </tr>\n",
       "    <tr>\n",
       "      <th>P1</th>\n",
       "      <th></th>\n",
       "      <th></th>\n",
       "      <th></th>\n",
       "    </tr>\n",
       "  </thead>\n",
       "  <tbody>\n",
       "    <tr>\n",
       "      <th>Paper</th>\n",
       "      <td>5</td>\n",
       "      <td>1</td>\n",
       "      <td>9</td>\n",
       "    </tr>\n",
       "    <tr>\n",
       "      <th>Rock</th>\n",
       "      <td>4</td>\n",
       "      <td>3</td>\n",
       "      <td>8</td>\n",
       "    </tr>\n",
       "    <tr>\n",
       "      <th>Scissors</th>\n",
       "      <td>6</td>\n",
       "      <td>2</td>\n",
       "      <td>7</td>\n",
       "    </tr>\n",
       "  </tbody>\n",
       "</table>\n",
       "</div>"
      ],
      "text/plain": [
       "Outcome   Draw  P1  P2\n",
       "P1                    \n",
       "Paper        5   1   9\n",
       "Rock         4   3   8\n",
       "Scissors     6   2   7"
      ]
     },
     "execution_count": 24,
     "metadata": {},
     "output_type": "execute_result"
    }
   ],
   "source": [
    "long_df.pivot(index='P1', columns='Outcome', values='Score')"
   ]
  },
  {
   "cell_type": "markdown",
   "id": "2ce82dc1",
   "metadata": {},
   "source": [
    "And map the `P1` and `P2` values onto the coded values:"
   ]
  },
  {
   "cell_type": "code",
   "execution_count": 25,
   "id": "aa05b733",
   "metadata": {},
   "outputs": [
    {
     "data": {
      "text/html": [
       "<div>\n",
       "<style scoped>\n",
       "    .dataframe tbody tr th:only-of-type {\n",
       "        vertical-align: middle;\n",
       "    }\n",
       "\n",
       "    .dataframe tbody tr th {\n",
       "        vertical-align: top;\n",
       "    }\n",
       "\n",
       "    .dataframe thead th {\n",
       "        text-align: right;\n",
       "    }\n",
       "</style>\n",
       "<table border=\"1\" class=\"dataframe\">\n",
       "  <thead>\n",
       "    <tr style=\"text-align: right;\">\n",
       "      <th>Outcome</th>\n",
       "      <th>Y</th>\n",
       "      <th>X</th>\n",
       "      <th>Z</th>\n",
       "    </tr>\n",
       "    <tr>\n",
       "      <th>P1</th>\n",
       "      <th></th>\n",
       "      <th></th>\n",
       "      <th></th>\n",
       "    </tr>\n",
       "  </thead>\n",
       "  <tbody>\n",
       "    <tr>\n",
       "      <th>B</th>\n",
       "      <td>5</td>\n",
       "      <td>1</td>\n",
       "      <td>9</td>\n",
       "    </tr>\n",
       "    <tr>\n",
       "      <th>A</th>\n",
       "      <td>4</td>\n",
       "      <td>3</td>\n",
       "      <td>8</td>\n",
       "    </tr>\n",
       "    <tr>\n",
       "      <th>C</th>\n",
       "      <td>6</td>\n",
       "      <td>2</td>\n",
       "      <td>7</td>\n",
       "    </tr>\n",
       "  </tbody>\n",
       "</table>\n",
       "</div>"
      ],
      "text/plain": [
       "Outcome  Y  X  Z\n",
       "P1              \n",
       "B        5  1  9\n",
       "A        4  3  8\n",
       "C        6  2  7"
      ]
     },
     "execution_count": 25,
     "metadata": {},
     "output_type": "execute_result"
    }
   ],
   "source": [
    "pt2_df=(long_df.pivot(index='P1', columns='Outcome', values='Score')\n",
    "        .rename({'Rock':'A', 'Paper':'B', 'Scissors':'C'}, axis='rows')\n",
    "        .rename({'P1':'X', 'Draw':'Y', 'P2':'Z'}, axis='columns'))\n",
    "\n",
    "pt2_df"
   ]
  },
  {
   "cell_type": "code",
   "execution_count": 26,
   "id": "5eea91ee",
   "metadata": {},
   "outputs": [],
   "source": [
    "assert sum([pt2_df.loc[x, y] for (x, y) in [x.split() for x in test_input.splitlines()]])==12"
   ]
  },
  {
   "cell_type": "code",
   "execution_count": 27,
   "id": "b465214b",
   "metadata": {},
   "outputs": [
    {
     "data": {
      "text/plain": [
       "13433"
      ]
     },
     "execution_count": 27,
     "metadata": {},
     "output_type": "execute_result"
    }
   ],
   "source": [
    "sum([pt2_df.loc[x, y] for (x, y) in [x.split() for x in puzzle_input.splitlines()]])"
   ]
  }
 ],
 "metadata": {
  "kernelspec": {
   "display_name": "Python 3 (ipykernel)",
   "language": "python",
   "name": "python3"
  },
  "language_info": {
   "codemirror_mode": {
    "name": "ipython",
    "version": 3
   },
   "file_extension": ".py",
   "mimetype": "text/x-python",
   "name": "python",
   "nbconvert_exporter": "python",
   "pygments_lexer": "ipython3",
   "version": "3.10.0"
  }
 },
 "nbformat": 4,
 "nbformat_minor": 5
}
