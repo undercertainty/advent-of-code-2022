{
 "cells": [
  {
   "cell_type": "markdown",
   "id": "ea38d89b",
   "metadata": {},
   "source": [
    "# Advent of code 2022"
   ]
  },
  {
   "cell_type": "markdown",
   "id": "34d359bb",
   "metadata": {},
   "source": [
    "I'm doing this for fun, so the amount of explanation I put in will vary according to how I feel."
   ]
  },
  {
   "cell_type": "code",
   "execution_count": 1,
   "id": "5e845b03",
   "metadata": {},
   "outputs": [],
   "source": [
    "import pandas as pd"
   ]
  },
  {
   "cell_type": "markdown",
   "id": "cec5f89f",
   "metadata": {},
   "source": [
    "## Part 1"
   ]
  },
  {
   "cell_type": "code",
   "execution_count": 2,
   "id": "3d49f57b",
   "metadata": {},
   "outputs": [],
   "source": [
    "test_input='''vJrwpWtwJgWrhcsFMMfFFhFp\n",
    "jqHRNqRjqzjGDLGLrsFMfFZSrLrFZsSL\n",
    "PmmdzqPrVvPwwTWBwg\n",
    "wMqvLMZHhHMvwLHjbvcjnnSBnvTQFn\n",
    "ttgJtRGJQctTZtZT\n",
    "CrZsJsPPZsGzwwsLwLmpwMDw\n",
    "'''"
   ]
  },
  {
   "cell_type": "markdown",
   "id": "ac0a3d3b",
   "metadata": {},
   "source": [
    "Let's create a quick function that finds the common characters in two halves of a string. As far as I can tell from the problem spec, we only need to identify each character once:"
   ]
  },
  {
   "cell_type": "code",
   "execution_count": 3,
   "id": "2ec85e3f",
   "metadata": {},
   "outputs": [
    {
     "data": {
      "text/plain": [
       "{'W', 'q'}"
      ]
     },
     "execution_count": 3,
     "metadata": {},
     "output_type": "execute_result"
    }
   ],
   "source": [
    "def shared_item(str_in):\n",
    "    '''Find the characters common to both halves of the input string'''\n",
    "    l=len(str_in)//2\n",
    "    \n",
    "    return set(str_in[:l]).intersection(set(str_in[l:]))\n",
    "\n",
    "shared_item('qabWcdWefq')\n",
    "    "
   ]
  },
  {
   "cell_type": "markdown",
   "id": "4bd5a82e",
   "metadata": {},
   "source": [
    "Quick function to calculate the priorities. Rather annoyingly, the problem spec has the upper and lower case letters back to front:"
   ]
  },
  {
   "cell_type": "code",
   "execution_count": 4,
   "id": "4e987999",
   "metadata": {},
   "outputs": [
    {
     "data": {
      "text/plain": [
       "[49, 17]"
      ]
     },
     "execution_count": 4,
     "metadata": {},
     "output_type": "execute_result"
    }
   ],
   "source": [
    "def priorities(chrs_coll):\n",
    "    '''Calculate the priority of a collection of input characters'''\n",
    "    def priority(chr_in):\n",
    "        if (chr_in >= 'A') and (chr_in <= 'Z'):\n",
    "            return ord(chr_in)-ord('A')+27\n",
    "        elif (chr_in >= 'a') and (chr_in <= 'z'):\n",
    "            return ord(chr_in)-ord('a')+1\n",
    "    \n",
    "    return [priority(c) for c in chrs_coll]\n",
    "\n",
    "priorities({'W', 'q'})"
   ]
  },
  {
   "cell_type": "markdown",
   "id": "7a56b904",
   "metadata": {},
   "source": [
    "And bring it together:"
   ]
  },
  {
   "cell_type": "code",
   "execution_count": 5,
   "id": "ee6388a6",
   "metadata": {},
   "outputs": [],
   "source": [
    "def day03_a(str_in):\n",
    "    '''Put in the whole input as an input string'''\n",
    "    chr_colls=[shared_item(l) for l in str_in.splitlines()]\n",
    "    ps=[priorities(p) for p in chr_colls]\n",
    "    \n",
    "    return sum([sum(p) for p in ps])"
   ]
  },
  {
   "cell_type": "code",
   "execution_count": 6,
   "id": "7a2b8f25",
   "metadata": {},
   "outputs": [],
   "source": [
    "assert day03_a(test_input)==157"
   ]
  },
  {
   "cell_type": "markdown",
   "id": "fe82b293",
   "metadata": {},
   "source": [
    "And let's do the same with the puzzle input:"
   ]
  },
  {
   "cell_type": "code",
   "execution_count": 7,
   "id": "0d628ed6",
   "metadata": {},
   "outputs": [],
   "source": [
    "with open('data/day03.txt') as fIn:\n",
    "    puzzle_input=fIn.read()"
   ]
  },
  {
   "cell_type": "code",
   "execution_count": 8,
   "id": "c902d0f4",
   "metadata": {},
   "outputs": [
    {
     "data": {
      "text/plain": [
       "7889"
      ]
     },
     "execution_count": 8,
     "metadata": {},
     "output_type": "execute_result"
    }
   ],
   "source": [
    "day03_a(puzzle_input)"
   ]
  },
  {
   "cell_type": "markdown",
   "id": "4abd4f88",
   "metadata": {},
   "source": [
    "## Part 2"
   ]
  },
  {
   "cell_type": "markdown",
   "id": "42cbfb77",
   "metadata": {},
   "source": [
    "Have I missed something? This seems suspiciously straightforward..."
   ]
  },
  {
   "cell_type": "markdown",
   "id": "1fe5f303",
   "metadata": {},
   "source": [
    "AFAICT, I just need to find a single common character in each group of three:"
   ]
  },
  {
   "cell_type": "code",
   "execution_count": 9,
   "id": "8243c3d2",
   "metadata": {},
   "outputs": [
    {
     "data": {
      "text/plain": [
       "['vJrwpWtwJgWrhcsFMMfFFhFp',\n",
       " 'jqHRNqRjqzjGDLGLrsFMfFZSrLrFZsSL',\n",
       " 'PmmdzqPrVvPwwTWBwg']"
      ]
     },
     "execution_count": 9,
     "metadata": {},
     "output_type": "execute_result"
    }
   ],
   "source": [
    "t=test_input.splitlines()[:3]\n",
    "t"
   ]
  },
  {
   "cell_type": "code",
   "execution_count": 10,
   "id": "ef956b29",
   "metadata": {},
   "outputs": [
    {
     "data": {
      "text/plain": [
       "{'r'}"
      ]
     },
     "execution_count": 10,
     "metadata": {},
     "output_type": "execute_result"
    }
   ],
   "source": [
    "set(t[0]).intersection(set(t[1])).intersection(set(t[2]))"
   ]
  },
  {
   "cell_type": "markdown",
   "id": "25043bb4",
   "metadata": {},
   "source": [
    "OK, this shouldn't be too hard:"
   ]
  },
  {
   "cell_type": "code",
   "execution_count": 11,
   "id": "e972b196",
   "metadata": {},
   "outputs": [
    {
     "data": {
      "text/plain": [
       "[{'Z'}, {'r'}]"
      ]
     },
     "execution_count": 11,
     "metadata": {},
     "output_type": "execute_result"
    }
   ],
   "source": [
    "s=test_input.splitlines()\n",
    "\n",
    "l=[]\n",
    "\n",
    "while s:\n",
    "    l.append(set(s.pop()).intersection(set(s.pop())).intersection(set(s.pop())))\n",
    "\n",
    "l"
   ]
  },
  {
   "cell_type": "code",
   "execution_count": 12,
   "id": "9ae77d96",
   "metadata": {},
   "outputs": [],
   "source": [
    "def day03_b(str_in):\n",
    "    l=[]\n",
    "    s=str_in.splitlines()\n",
    "    \n",
    "    while s:\n",
    "        l.append(set(s.pop()).intersection(set(s.pop())).intersection(set(s.pop())))\n",
    "        \n",
    "    return sum(priorities([s.pop() for s in l]))"
   ]
  },
  {
   "cell_type": "code",
   "execution_count": 13,
   "id": "634fcaf6",
   "metadata": {},
   "outputs": [],
   "source": [
    "assert day03_b(test_input)==70"
   ]
  },
  {
   "cell_type": "code",
   "execution_count": 14,
   "id": "7831e170",
   "metadata": {},
   "outputs": [
    {
     "data": {
      "text/plain": [
       "2825"
      ]
     },
     "execution_count": 14,
     "metadata": {},
     "output_type": "execute_result"
    }
   ],
   "source": [
    "day03_b(puzzle_input)"
   ]
  }
 ],
 "metadata": {
  "kernelspec": {
   "display_name": "Python 3 (ipykernel)",
   "language": "python",
   "name": "python3"
  },
  "language_info": {
   "codemirror_mode": {
    "name": "ipython",
    "version": 3
   },
   "file_extension": ".py",
   "mimetype": "text/x-python",
   "name": "python",
   "nbconvert_exporter": "python",
   "pygments_lexer": "ipython3",
   "version": "3.10.0"
  }
 },
 "nbformat": 4,
 "nbformat_minor": 5
}
