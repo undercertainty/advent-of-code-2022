{
 "cells": [
  {
   "cell_type": "markdown",
   "id": "ea38d89b",
   "metadata": {},
   "source": [
    "# Advent of code 2022"
   ]
  },
  {
   "cell_type": "code",
   "execution_count": 1,
   "id": "02dc5b9d",
   "metadata": {},
   "outputs": [],
   "source": [
    "import re"
   ]
  },
  {
   "cell_type": "markdown",
   "id": "cec5f89f",
   "metadata": {},
   "source": [
    "## Part 1"
   ]
  },
  {
   "cell_type": "code",
   "execution_count": 2,
   "id": "cdc6cf05",
   "metadata": {},
   "outputs": [],
   "source": [
    "test_input='''2-4,6-8\n",
    "2-3,4-5\n",
    "5-7,7-9\n",
    "2-8,3-7\n",
    "6-6,4-6\n",
    "2-6,4-8'''"
   ]
  },
  {
   "cell_type": "code",
   "execution_count": 3,
   "id": "73465d92",
   "metadata": {},
   "outputs": [],
   "source": [
    "with open('data/day04.txt') as fIn:\n",
    "    puzzle_input=fIn.read()"
   ]
  },
  {
   "cell_type": "markdown",
   "id": "5cc85981",
   "metadata": {},
   "source": [
    "Use a regexp to pull out the sections:"
   ]
  },
  {
   "cell_type": "code",
   "execution_count": 4,
   "id": "286ff1a9",
   "metadata": {},
   "outputs": [
    {
     "data": {
      "text/plain": [
       "[('2', '4', '6', '8'),\n",
       " ('2', '3', '4', '5'),\n",
       " ('5', '7', '7', '9'),\n",
       " ('2', '8', '3', '7'),\n",
       " ('6', '6', '4', '6'),\n",
       " ('2', '6', '4', '8')]"
      ]
     },
     "execution_count": 4,
     "metadata": {},
     "output_type": "execute_result"
    }
   ],
   "source": [
    "re.findall('(\\d+)\\-(\\d+),(\\d+)\\-(\\d+)', test_input)"
   ]
  },
  {
   "cell_type": "markdown",
   "id": "4b986d0b",
   "metadata": {},
   "source": [
    "and convert to `int`s:"
   ]
  },
  {
   "cell_type": "code",
   "execution_count": 5,
   "id": "2f9629d7",
   "metadata": {},
   "outputs": [
    {
     "data": {
      "text/plain": [
       "[[2, 4, 6, 8],\n",
       " [2, 3, 4, 5],\n",
       " [5, 7, 7, 9],\n",
       " [2, 8, 3, 7],\n",
       " [6, 6, 4, 6],\n",
       " [2, 6, 4, 8]]"
      ]
     },
     "execution_count": 5,
     "metadata": {},
     "output_type": "execute_result"
    }
   ],
   "source": [
    "[[int(x) for x in l] for l in re.findall('(\\d+)\\-(\\d+),(\\d+)\\-(\\d+)', test_input)]"
   ]
  },
  {
   "cell_type": "markdown",
   "id": "4f160e80",
   "metadata": {},
   "source": [
    "OK, now create the actual function:"
   ]
  },
  {
   "cell_type": "code",
   "execution_count": 6,
   "id": "ca26b406",
   "metadata": {},
   "outputs": [],
   "source": [
    "def day04_a(str_in):\n",
    "    ss=[[int(x) for x in l] \n",
    "        for l in re.findall('(\\d+)\\-(\\d+),(\\d+)\\-(\\d+)', str_in)]\n",
    "    \n",
    "    # Identify the crossovers\n",
    "    \n",
    "    def fully_contains(c):\n",
    "        return (((c[0] >= c[2]) and (c[1] <= c[3])) or\n",
    "                ((c[2] >= c[0]) and (c[3] <= c[1])))\n",
    "    \n",
    "    return len([s for s in ss if fully_contains(s)])"
   ]
  },
  {
   "cell_type": "code",
   "execution_count": 7,
   "id": "17db6d0a",
   "metadata": {},
   "outputs": [],
   "source": [
    "assert day04_a(test_input)==2"
   ]
  },
  {
   "cell_type": "code",
   "execution_count": 8,
   "id": "674dbe88",
   "metadata": {},
   "outputs": [
    {
     "data": {
      "text/plain": [
       "651"
      ]
     },
     "execution_count": 8,
     "metadata": {},
     "output_type": "execute_result"
    }
   ],
   "source": [
    "day04_a(puzzle_input)"
   ]
  },
  {
   "cell_type": "markdown",
   "id": "4abd4f88",
   "metadata": {},
   "source": [
    "## Part 2"
   ]
  },
  {
   "cell_type": "markdown",
   "id": "34128eeb",
   "metadata": {},
   "source": [
    "Tweak the function to get some overlap:"
   ]
  },
  {
   "cell_type": "code",
   "execution_count": 9,
   "id": "45040da7",
   "metadata": {},
   "outputs": [],
   "source": [
    "def day04_b(str_in):\n",
    "    ss=[[int(x) for x in l] \n",
    "        for l in re.findall('(\\d+)\\-(\\d+),(\\d+)\\-(\\d+)', str_in)]\n",
    "    \n",
    "    # Identify the crossovers\n",
    "    \n",
    "    def overlap(c):\n",
    "        return (((c[2] >= c[0]) and (c[2] <= c[1])) or\n",
    "                ((c[0] >= c[2]) and (c[0] <= c[3])))\n",
    "    \n",
    "    return len([s for s in ss if overlap(s)])"
   ]
  },
  {
   "cell_type": "code",
   "execution_count": 10,
   "id": "7831e170",
   "metadata": {},
   "outputs": [],
   "source": [
    "assert day04_b(test_input)==4"
   ]
  },
  {
   "cell_type": "code",
   "execution_count": 11,
   "id": "e40dd1ad",
   "metadata": {},
   "outputs": [
    {
     "data": {
      "text/plain": [
       "956"
      ]
     },
     "execution_count": 11,
     "metadata": {},
     "output_type": "execute_result"
    }
   ],
   "source": [
    "day04_b(puzzle_input)"
   ]
  }
 ],
 "metadata": {
  "kernelspec": {
   "display_name": "Python 3 (ipykernel)",
   "language": "python",
   "name": "python3"
  },
  "language_info": {
   "codemirror_mode": {
    "name": "ipython",
    "version": 3
   },
   "file_extension": ".py",
   "mimetype": "text/x-python",
   "name": "python",
   "nbconvert_exporter": "python",
   "pygments_lexer": "ipython3",
   "version": "3.10.0"
  }
 },
 "nbformat": 4,
 "nbformat_minor": 5
}
