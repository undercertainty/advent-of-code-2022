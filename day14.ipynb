{
 "cells": [
  {
   "cell_type": "markdown",
   "id": "888b2cf1",
   "metadata": {},
   "source": [
    "# Advent of code 2022"
   ]
  },
  {
   "cell_type": "markdown",
   "id": "84fe2855",
   "metadata": {},
   "source": [
    "Technically this should probably be modelled with an array or something, but the grid's small enough to use a dictionary and might make things slightly easier:"
   ]
  },
  {
   "cell_type": "code",
   "execution_count": 1,
   "id": "36843078",
   "metadata": {},
   "outputs": [],
   "source": [
    "from collections import defaultdict\n",
    "import re"
   ]
  },
  {
   "cell_type": "markdown",
   "id": "6893f709",
   "metadata": {},
   "source": [
    "## Part 1"
   ]
  },
  {
   "cell_type": "code",
   "execution_count": 2,
   "id": "7d6d3607",
   "metadata": {},
   "outputs": [],
   "source": [
    "test_input='''498,4 -> 498,6 -> 496,6\n",
    "503,4 -> 502,4 -> 502,9 -> 494,9'''"
   ]
  },
  {
   "cell_type": "code",
   "execution_count": 3,
   "id": "051f2384",
   "metadata": {},
   "outputs": [],
   "source": [
    "with open('data/day14.txt') as fIn:\n",
    "    puzzle_input=fIn.read()"
   ]
  },
  {
   "cell_type": "code",
   "execution_count": 4,
   "id": "f9710274",
   "metadata": {},
   "outputs": [
    {
     "data": {
      "text/plain": [
       "[[(498, 4), (498, 6), (496, 6)], [(503, 4), (502, 4), (502, 9), (494, 9)]]"
      ]
     },
     "execution_count": 4,
     "metadata": {},
     "output_type": "execute_result"
    }
   ],
   "source": [
    "def parse_input(str_in):\n",
    "    return [[(int(x.split(',')[0]), int(x.split(',')[1])) for x in nl.split('->')]\n",
    "            for nl in str_in.splitlines()]\n",
    "\n",
    "parse_input(test_input)"
   ]
  },
  {
   "cell_type": "code",
   "execution_count": 5,
   "id": "72b5e5cd",
   "metadata": {},
   "outputs": [
    {
     "data": {
      "text/plain": [
       "defaultdict(int,\n",
       "            {(498, 4): 1,\n",
       "             (498, 5): 1,\n",
       "             (498, 6): 1,\n",
       "             (496, 6): 1,\n",
       "             (497, 6): 1,\n",
       "             (502, 4): 1,\n",
       "             (503, 4): 1,\n",
       "             (502, 5): 1,\n",
       "             (502, 6): 1,\n",
       "             (502, 7): 1,\n",
       "             (502, 8): 1,\n",
       "             (502, 9): 1,\n",
       "             (494, 9): 1,\n",
       "             (495, 9): 1,\n",
       "             (496, 9): 1,\n",
       "             (497, 9): 1,\n",
       "             (498, 9): 1,\n",
       "             (499, 9): 1,\n",
       "             (500, 9): 1,\n",
       "             (501, 9): 1})"
      ]
     },
     "execution_count": 5,
     "metadata": {},
     "output_type": "execute_result"
    }
   ],
   "source": [
    "def build_cave(str_in):\n",
    "    \n",
    "    list_rep=parse_input(str_in)\n",
    "    \n",
    "    blocked=defaultdict(int)\n",
    "    \n",
    "    for cc in parse_input(str_in):\n",
    "    \n",
    "        for ((x1, y1), (x2, y2)) in zip(cc, cc[1:]):\n",
    "            assert (x1==x2) or (y1==y2)\n",
    "            if x1==x2:\n",
    "                for y in range(min(y1, y2), max(y1, y2)):\n",
    "                    blocked[(x1, y)]=1\n",
    "            else:\n",
    "                for x in range(min(x1, x2), max(x1, x2)):\n",
    "                    blocked[(x, y1)]=1\n",
    "            blocked[(x1, y1)]=1\n",
    "            blocked[(x2, y2)]=1\n",
    "        \n",
    "    return blocked\n",
    "            \n",
    "build_cave(test_input)"
   ]
  },
  {
   "cell_type": "code",
   "execution_count": 6,
   "id": "3762ab58",
   "metadata": {},
   "outputs": [
    {
     "data": {
      "text/plain": [
       "defaultdict(int,\n",
       "            {(498, 4): 1,\n",
       "             (498, 5): 1,\n",
       "             (498, 6): 1,\n",
       "             (496, 6): 1,\n",
       "             (497, 6): 1,\n",
       "             (502, 4): 1,\n",
       "             (503, 4): 1,\n",
       "             (502, 5): 1,\n",
       "             (502, 6): 1,\n",
       "             (502, 7): 1,\n",
       "             (502, 8): 1,\n",
       "             (502, 9): 1,\n",
       "             (494, 9): 1,\n",
       "             (495, 9): 1,\n",
       "             (496, 9): 1,\n",
       "             (497, 9): 1,\n",
       "             (498, 9): 1,\n",
       "             (499, 9): 1,\n",
       "             (500, 9): 1,\n",
       "             (501, 9): 1,\n",
       "             (500, 1): 0,\n",
       "             (500, 2): 0,\n",
       "             (500, 3): 0,\n",
       "             (500, 4): 0,\n",
       "             (500, 5): 0,\n",
       "             (500, 6): 0,\n",
       "             (500, 7): 0,\n",
       "             (500, 8): 2})"
      ]
     },
     "execution_count": 6,
     "metadata": {},
     "output_type": "execute_result"
    }
   ],
   "source": [
    "def sand_grain(x, y, caves, limit=1000):\n",
    "    '''path of sand from x, y'''\n",
    "    if y==limit:\n",
    "        return False\n",
    "    elif caves[(x, y+1)]==0:\n",
    "        return sand_grain(x, y+1, caves)\n",
    "    elif caves[(x-1, y+1)]==0:\n",
    "        return sand_grain(x-1, y+1, caves)\n",
    "    elif caves[(x+1, y+1)]==0:\n",
    "        return sand_grain(x+1, y+1, caves)\n",
    "    else:\n",
    "        caves[(x, y)]=2\n",
    "        return True\n",
    "\n",
    "c=build_cave(test_input)\n",
    "sand_grain(500, 0, c)\n",
    "c"
   ]
  },
  {
   "cell_type": "code",
   "execution_count": 7,
   "id": "c7c64fc9",
   "metadata": {},
   "outputs": [
    {
     "data": {
      "text/plain": [
       "[(500, 7), (500, 8), (499, 8), (501, 8), (498, 8)]"
      ]
     },
     "execution_count": 7,
     "metadata": {},
     "output_type": "execute_result"
    }
   ],
   "source": [
    "c=build_cave(test_input)\n",
    "\n",
    "for _ in range(5):\n",
    "    sand_grain(500, 0, c)\n",
    "\n",
    "[x for x in c if c[x]==2]"
   ]
  },
  {
   "cell_type": "markdown",
   "id": "287cc0dc",
   "metadata": {},
   "source": [
    "Looks OK. Should really work out the limits of the map, but for the moment, I'll just hack it by putting in a limit of 1000."
   ]
  },
  {
   "cell_type": "code",
   "execution_count": 8,
   "id": "f2f98349",
   "metadata": {},
   "outputs": [],
   "source": [
    "def day14_a(str_in):\n",
    "    \n",
    "    caves=build_cave(str_in)\n",
    "    \n",
    "    i=0\n",
    "    while sand_grain(500, 0, caves):\n",
    "        i+=1\n",
    "    \n",
    "    return i\n",
    "    "
   ]
  },
  {
   "cell_type": "code",
   "execution_count": 9,
   "id": "b2028a3c",
   "metadata": {},
   "outputs": [],
   "source": [
    "assert day14_a(test_input)==24"
   ]
  },
  {
   "cell_type": "code",
   "execution_count": 10,
   "id": "6b62d615",
   "metadata": {},
   "outputs": [
    {
     "data": {
      "text/plain": [
       "692"
      ]
     },
     "execution_count": 10,
     "metadata": {},
     "output_type": "execute_result"
    }
   ],
   "source": [
    "day14_a(puzzle_input)"
   ]
  },
  {
   "cell_type": "markdown",
   "id": "3c62b3b9",
   "metadata": {},
   "source": [
    "## Part 2"
   ]
  },
  {
   "cell_type": "markdown",
   "id": "b6db33e2",
   "metadata": {},
   "source": [
    "OK, very much not surprised that I've got to find the limits of the cave :-). So, let's do that properly:"
   ]
  },
  {
   "cell_type": "code",
   "execution_count": 11,
   "id": "72595d36",
   "metadata": {},
   "outputs": [
    {
     "data": {
      "text/plain": [
       "{'x_min': 494, 'x_max': 503, 'y_min': 4, 'y_max': 9}"
      ]
     },
     "execution_count": 11,
     "metadata": {},
     "output_type": "execute_result"
    }
   ],
   "source": [
    "def cave_system_bounds(caves):\n",
    "    xs=[x for (x, _) in caves.keys()]\n",
    "    ys=[y for (_, y) in caves.keys()]\n",
    "    return {'x_min':min(xs),\n",
    "            'x_max':max(xs),\n",
    "            'y_min':min(ys),\n",
    "            'y_max':max(ys)}\n",
    "\n",
    "cave_system_bounds(build_cave(test_input))\n",
    "    "
   ]
  },
  {
   "cell_type": "markdown",
   "id": "f4b4b7fe",
   "metadata": {},
   "source": [
    "Tweak the sand falling function so that grains stop when they hit the floor. Also, let's return the point at which the grain of sand comes to rest."
   ]
  },
  {
   "cell_type": "code",
   "execution_count": 12,
   "id": "b854e549",
   "metadata": {},
   "outputs": [],
   "source": [
    "def sand_grain_2(x, y, caves, limit):\n",
    "    '''path of sand from x, y'''\n",
    "\n",
    "    # Update so that if the grain is on the floor, then stop\n",
    "\n",
    "    if y==limit:\n",
    "        caves[(x, y)]=2\n",
    "        return (x, y)\n",
    "    elif caves[(x, y+1)]==0:\n",
    "        return sand_grain_2(x, y+1, caves, limit)\n",
    "    elif caves[(x-1, y+1)]==0:\n",
    "        return sand_grain_2(x-1, y+1, caves, limit)\n",
    "    elif caves[(x+1, y+1)]==0:\n",
    "        return sand_grain_2(x+1, y+1, caves, limit)\n",
    "    else:\n",
    "        caves[(x, y)]=2\n",
    "        return (x, y)\n"
   ]
  },
  {
   "cell_type": "code",
   "execution_count": 13,
   "id": "e52cd512",
   "metadata": {},
   "outputs": [],
   "source": [
    "def day14_b(str_in):\n",
    "    \n",
    "    caves=build_cave(str_in)\n",
    "    \n",
    "    limit=cave_system_bounds(caves)['y_max']+1\n",
    "    \n",
    "    i=0\n",
    "    while sand_grain_2(500, 0, caves, limit) != (500, 0):\n",
    "        i+=1\n",
    "    \n",
    "    return i+1 # Need the final grain as well\n",
    "    "
   ]
  },
  {
   "cell_type": "code",
   "execution_count": 14,
   "id": "79835baf",
   "metadata": {},
   "outputs": [],
   "source": [
    "assert day14_b(test_input)==93"
   ]
  },
  {
   "cell_type": "code",
   "execution_count": 15,
   "id": "221fadeb",
   "metadata": {},
   "outputs": [
    {
     "data": {
      "text/plain": [
       "31706"
      ]
     },
     "execution_count": 15,
     "metadata": {},
     "output_type": "execute_result"
    }
   ],
   "source": [
    "day14_b(puzzle_input)"
   ]
  },
  {
   "cell_type": "code",
   "execution_count": null,
   "id": "4e91d1a6",
   "metadata": {},
   "outputs": [],
   "source": []
  }
 ],
 "metadata": {
  "kernelspec": {
   "display_name": "Python 3 (ipykernel)",
   "language": "python",
   "name": "python3"
  },
  "language_info": {
   "codemirror_mode": {
    "name": "ipython",
    "version": 3
   },
   "file_extension": ".py",
   "mimetype": "text/x-python",
   "name": "python",
   "nbconvert_exporter": "python",
   "pygments_lexer": "ipython3",
   "version": "3.10.0"
  }
 },
 "nbformat": 4,
 "nbformat_minor": 5
}
