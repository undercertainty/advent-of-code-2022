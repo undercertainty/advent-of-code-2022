{
 "cells": [
  {
   "cell_type": "markdown",
   "id": "888b2cf1",
   "metadata": {},
   "source": [
    "# Advent of code 2022"
   ]
  },
  {
   "cell_type": "markdown",
   "id": "84fe2855",
   "metadata": {},
   "source": [
    "Hmmm, looks a bit meatier. I think I'll hardcode the functions again, 'cos writing a parser will take bloody ages."
   ]
  },
  {
   "cell_type": "markdown",
   "id": "6893f709",
   "metadata": {},
   "source": [
    "## Part 1"
   ]
  },
  {
   "cell_type": "code",
   "execution_count": 3,
   "id": "e2d8009b",
   "metadata": {},
   "outputs": [],
   "source": [
    "test_input={'items': [[79, 98], [54, 65, 75, 74], [79, 60, 97], [74]],\n",
    "           'op': [lambda x:x*19, lambda x:x+6, lambda x:x*x, lambda x:x+3],\n",
    "           'test': [lambda x:2 if not x%23 else 3,\n",
    "                    lambda x:2 if not x%19 else 0,\n",
    "                    lambda x:1 if not x%13 else 3,\n",
    "                    lambda x:0 if not x%17 else 1]}"
   ]
  },
  {
   "cell_type": "markdown",
   "id": "6b9d5a51",
   "metadata": {},
   "source": [
    "Now let's see how hard it is to whack the stuff straight in:"
   ]
  },
  {
   "cell_type": "code",
   "execution_count": 4,
   "id": "b65c7b1d",
   "metadata": {},
   "outputs": [],
   "source": [
    "for (monkey, items) in enumerate(test_input['items']):\n",
    "    for item in items:\n",
    "        worry_level=test_input['op'][monkey](item)\n",
    "        worry_level=worry_level//3\n",
    "        test_input['items'][test_input['test'][monkey](worry_level)].append(worry_level)\n",
    "        \n",
    "        # Monkey doesn't throw to itself\n",
    "        test_input['items'][monkey]=[]"
   ]
  },
  {
   "cell_type": "code",
   "execution_count": 5,
   "id": "4146991d",
   "metadata": {},
   "outputs": [
    {
     "data": {
      "text/plain": [
       "[[20, 23, 27, 26], [2080, 25, 167, 207, 401, 1046], [], []]"
      ]
     },
     "execution_count": 5,
     "metadata": {},
     "output_type": "execute_result"
    }
   ],
   "source": [
    "test_input['items']"
   ]
  },
  {
   "cell_type": "markdown",
   "id": "067e5a6e",
   "metadata": {},
   "source": [
    "OK, seems to be working. Let's add an `inspections` value to the input to count the number of inspections made by each monkey:"
   ]
  },
  {
   "cell_type": "code",
   "execution_count": 6,
   "id": "667ec175",
   "metadata": {},
   "outputs": [],
   "source": [
    "test_input={'items': [[79, 98], [54, 65, 75, 74], [79, 60, 97], [74]],\n",
    "            'op': [lambda x:x*19, lambda x:x+6, lambda x:x*x, lambda x:x+3],\n",
    "            'test': [lambda x:2 if not x%23 else 3,\n",
    "                     lambda x:2 if not x%19 else 0,\n",
    "                    lambda x:1 if not x%13 else 3,\n",
    "                    lambda x:0 if not x%17 else 1],\n",
    "            'inspections':[0, 0, 0, 0]\n",
    "           }\n"
   ]
  },
  {
   "cell_type": "code",
   "execution_count": 7,
   "id": "6c8ee8d0",
   "metadata": {},
   "outputs": [],
   "source": [
    "for _ in range(20):\n",
    "    for (monkey, items) in enumerate(test_input['items']):\n",
    "        for item in items:\n",
    "            test_input['inspections'][monkey]+=1\n",
    "            worry_level=test_input['op'][monkey](item)\n",
    "            worry_level=worry_level//3\n",
    "            test_input['items'][test_input['test'][monkey](worry_level)].append(worry_level)\n",
    "\n",
    "            # Monkey doesn't throw to itself\n",
    "            test_input['items'][monkey]=[]\n",
    "        "
   ]
  },
  {
   "cell_type": "code",
   "execution_count": 8,
   "id": "52ef70b6",
   "metadata": {},
   "outputs": [
    {
     "data": {
      "text/plain": [
       "{'items': [[10, 12, 14, 26, 34], [245, 93, 53, 199, 115], [], []],\n",
       " 'op': [<function __main__.<lambda>(x)>,\n",
       "  <function __main__.<lambda>(x)>,\n",
       "  <function __main__.<lambda>(x)>,\n",
       "  <function __main__.<lambda>(x)>],\n",
       " 'test': [<function __main__.<lambda>(x)>,\n",
       "  <function __main__.<lambda>(x)>,\n",
       "  <function __main__.<lambda>(x)>,\n",
       "  <function __main__.<lambda>(x)>],\n",
       " 'inspections': [101, 95, 7, 105]}"
      ]
     },
     "execution_count": 8,
     "metadata": {},
     "output_type": "execute_result"
    }
   ],
   "source": [
    "test_input"
   ]
  },
  {
   "cell_type": "markdown",
   "id": "82c7cdb5",
   "metadata": {},
   "source": [
    "Good, that seems to be working. Now let's tidy up a bit, and also encode the main puzzle input:"
   ]
  },
  {
   "cell_type": "code",
   "execution_count": 9,
   "id": "16f8188d",
   "metadata": {},
   "outputs": [],
   "source": [
    "test_input=[{'items':[79, 98],\n",
    "             'op':lambda x:x*19,\n",
    "             'test':lambda x:2 if not x%23 else 3,\n",
    "             'inspections':0},\n",
    "            \n",
    "             {'items':[54, 65, 75, 74],\n",
    "              'op':lambda x:x+6,\n",
    "              'test':lambda x:2 if not x%19 else 0,\n",
    "              'inspections':0},\n",
    "            \n",
    "             {'items':[79, 60, 97],\n",
    "              'op':lambda x:x*x,\n",
    "              'test':lambda x:1 if not x%13 else 3,\n",
    "              'inspections':0},\n",
    "            \n",
    "             {'items':[74],\n",
    "              'op':lambda x:x+3,\n",
    "              'test':lambda x:0 if not x%17 else 1,\n",
    "              'inspections':0}]"
   ]
  },
  {
   "cell_type": "code",
   "execution_count": 10,
   "id": "c70d222d",
   "metadata": {},
   "outputs": [],
   "source": [
    "from copy import deepcopy\n"
   ]
  },
  {
   "cell_type": "code",
   "execution_count": 11,
   "id": "57d2e36b",
   "metadata": {},
   "outputs": [],
   "source": [
    "def day11_a(monkeys_in):\n",
    "\n",
    "    state=deepcopy(monkeys_in)\n",
    "    \n",
    "    for _ in range(20):\n",
    "        for monkey in state:\n",
    "            while monkey['items']:\n",
    "                item=monkey['items'].pop(0)\n",
    "                monkey['inspections']+=1\n",
    "\n",
    "                worry_level=monkey['op'](item)\n",
    "                worry_level=worry_level//3\n",
    "                throw_to_monkey=monkey['test'](worry_level)\n",
    "                state[throw_to_monkey]['items'].append(worry_level)\n",
    "    \n",
    "    s=sorted([monkey['inspections'] for monkey in state], reverse=True)\n",
    "    return s[0]*s[1]\n"
   ]
  },
  {
   "cell_type": "code",
   "execution_count": 12,
   "id": "612a4917",
   "metadata": {},
   "outputs": [
    {
     "data": {
      "text/plain": [
       "10605"
      ]
     },
     "execution_count": 12,
     "metadata": {},
     "output_type": "execute_result"
    }
   ],
   "source": [
    "day11_a(test_input)"
   ]
  },
  {
   "cell_type": "code",
   "execution_count": 13,
   "id": "e629687d",
   "metadata": {},
   "outputs": [],
   "source": [
    "puzzle_input=[{'items': [54, 82, 90, 88, 86, 54],\n",
    "             'op':lambda x:x*7,\n",
    "             'test':lambda x:2 if not x%11 else 6,\n",
    "             'inspections':0},\n",
    "              \n",
    "              {'items': [91, 65],\n",
    "             'op':lambda x:x*13,\n",
    "             'test':lambda x:7 if not x%5 else 4,\n",
    "             'inspections':0},\n",
    "              \n",
    "              {'items': [62, 54, 57, 92, 83, 63, 63],\n",
    "             'op':lambda x:x+1,\n",
    "             'test':lambda x:1 if not x%7 else 7,\n",
    "             'inspections':0},\n",
    "              \n",
    "              {'items': [67, 72, 68],\n",
    "             'op':lambda x:x*x,\n",
    "             'test':lambda x:0 if not x%2 else 6,\n",
    "             'inspections':0},\n",
    "              \n",
    "              {'items': [68, 89, 90, 86, 84, 57, 72, 84],\n",
    "             'op':lambda x:x+7,\n",
    "             'test':lambda x:3 if not x%17 else 5,\n",
    "             'inspections':0},\n",
    "              \n",
    "              {'items': [79, 83, 64, 58],\n",
    "             'op':lambda x:x+6,\n",
    "             'test':lambda x:3 if not x%13 else 0,\n",
    "             'inspections':0},\n",
    "              \n",
    "              {'items': [96, 72, 89, 70, 88],\n",
    "             'op':lambda x:x+4,\n",
    "             'test':lambda x:1 if not x%3 else 2,\n",
    "             'inspections':0},\n",
    "             \n",
    "              {'items': [79],\n",
    "             'op':lambda x:x+8,\n",
    "             'test':lambda x:4 if not x%19 else 5,\n",
    "             'inspections':0},\n",
    "             \n",
    "             ]\n",
    "              \n",
    "              "
   ]
  },
  {
   "cell_type": "code",
   "execution_count": 14,
   "id": "99bfae06",
   "metadata": {},
   "outputs": [
    {
     "data": {
      "text/plain": [
       "78960"
      ]
     },
     "execution_count": 14,
     "metadata": {},
     "output_type": "execute_result"
    }
   ],
   "source": [
    "day11_a(puzzle_input)"
   ]
  },
  {
   "cell_type": "markdown",
   "id": "3c62b3b9",
   "metadata": {},
   "source": [
    "## Part 2"
   ]
  },
  {
   "cell_type": "markdown",
   "id": "51a50299",
   "metadata": {},
   "source": [
    "Just running this naïvely, takes ages. What's going on..?"
   ]
  },
  {
   "cell_type": "code",
   "execution_count": 15,
   "id": "aac2e0c1",
   "metadata": {},
   "outputs": [],
   "source": [
    "def day11_b_first_attempt(monkeys_in):\n",
    "\n",
    "    state=deepcopy(monkeys_in)\n",
    "    \n",
    "    for _ in range(10):\n",
    "        for (i, monkey) in enumerate(state):\n",
    "            print(f\"Monkey {i}: {monkey['items']}\")\n",
    "            print()\n",
    "        print(\"-----------------------------------\")\n",
    "        for monkey in state:\n",
    "            while monkey['items']:\n",
    "                item=monkey['items'].pop(0)\n",
    "                monkey['inspections']+=1\n",
    "\n",
    "                worry_level=monkey['op'](item)\n",
    "                worry_level=worry_level\n",
    "                throw_to_monkey=monkey['test'](worry_level)\n",
    "                state[throw_to_monkey]['items'].append(worry_level)\n",
    "        \n",
    "    \n",
    "    s=sorted([monkey['inspections'] for monkey in state], reverse=True)\n",
    "    return s[0]*s[1]\n"
   ]
  },
  {
   "cell_type": "code",
   "execution_count": 16,
   "id": "d10a7220",
   "metadata": {},
   "outputs": [
    {
     "name": "stdout",
     "output_type": "stream",
     "text": [
      "Monkey 0: [79, 98]\n",
      "\n",
      "Monkey 1: [54, 65, 75, 74]\n",
      "\n",
      "Monkey 2: [79, 60, 97]\n",
      "\n",
      "Monkey 3: [74]\n",
      "\n",
      "-----------------------------------\n",
      "Monkey 0: [60, 71, 81, 80]\n",
      "\n",
      "Monkey 1: [77, 1504, 1865, 6244, 3603, 9412]\n",
      "\n",
      "Monkey 2: []\n",
      "\n",
      "Monkey 3: []\n",
      "\n",
      "-----------------------------------\n",
      "Monkey 0: [83, 1510, 1871, 6250, 3609, 9418]\n",
      "\n",
      "Monkey 1: [1143, 1352, 1542, 1523]\n",
      "\n",
      "Monkey 2: []\n",
      "\n",
      "Monkey 3: []\n",
      "\n",
      "-----------------------------------\n",
      "Monkey 0: [1149, 1358, 1548, 1529]\n",
      "\n",
      "Monkey 1: [1580, 28693, 35552, 118753, 68574, 178945]\n",
      "\n",
      "Monkey 2: []\n",
      "\n",
      "Monkey 3: []\n",
      "\n",
      "-----------------------------------\n",
      "Monkey 0: [1586, 28699, 35558, 118759, 68580, 178951]\n",
      "\n",
      "Monkey 1: [21834, 25805, 29415, 29054]\n",
      "\n",
      "Monkey 2: []\n",
      "\n",
      "Monkey 3: []\n",
      "\n",
      "-----------------------------------\n",
      "Monkey 0: [21840, 25811, 29421, 29060]\n",
      "\n",
      "Monkey 1: [30137, 545284, 2256424, 1303023, 3400072, 456438062407]\n",
      "\n",
      "Monkey 2: []\n",
      "\n",
      "Monkey 3: []\n",
      "\n",
      "-----------------------------------\n",
      "Monkey 0: [30143, 545290, 2256430, 1303029, 3400078, 456438062413, 552143]\n",
      "\n",
      "Monkey 1: [414963, 490412, 559002]\n",
      "\n",
      "Monkey 2: []\n",
      "\n",
      "Monkey 3: []\n",
      "\n",
      "-----------------------------------\n",
      "Monkey 0: [414969, 490418, 559008]\n",
      "\n",
      "Monkey 1: [572720, 10360513, 42872173, 24757554, 64601485, 8672323185850, 10490720]\n",
      "\n",
      "Monkey 2: []\n",
      "\n",
      "Monkey 3: []\n",
      "\n",
      "-----------------------------------\n",
      "Monkey 0: [572726, 10360519, 42872179, 24757560, 64601491, 8672323185856, 10490726]\n",
      "\n",
      "Monkey 1: [7884414, 9317945, 10621155]\n",
      "\n",
      "Monkey 2: []\n",
      "\n",
      "Monkey 3: []\n",
      "\n",
      "-----------------------------------\n",
      "Monkey 0: [7884420, 9317951, 10621161]\n",
      "\n",
      "Monkey 1: [10881797, 196849864, 814571404, 470393643, 1227428332, 164774140531267, 199323797]\n",
      "\n",
      "Monkey 2: []\n",
      "\n",
      "Monkey 3: []\n",
      "\n",
      "-----------------------------------\n"
     ]
    },
    {
     "data": {
      "text/plain": [
       "2500"
      ]
     },
     "execution_count": 16,
     "metadata": {},
     "output_type": "execute_result"
    }
   ],
   "source": [
    "day11_b_first_attempt(test_input)"
   ]
  },
  {
   "cell_type": "markdown",
   "id": "16763663",
   "metadata": {},
   "source": [
    "Right... numbers are getting very big. All the tests are divisibility tests, so should be able to use the modulus..?"
   ]
  },
  {
   "cell_type": "code",
   "execution_count": 30,
   "id": "db536a3b",
   "metadata": {},
   "outputs": [],
   "source": [
    "def day11_b(monkeys_in, rounds=10000, verbose=False):\n",
    "    \n",
    "    # Little general hack... let's set the modulus to be primes\n",
    "    # up to 23, which will cover both cases we have at the moment.\n",
    "    # Would have been easier if I'd parsed it properly to begin\n",
    "    # with.\n",
    "    modulus=2*3*5*7*11*13*17*19*23\n",
    "\n",
    "    state=deepcopy(monkeys_in)\n",
    "    \n",
    "    for _ in range(rounds):\n",
    "        if verbose:\n",
    "            for (i, monkey) in enumerate(state):\n",
    "                print(f\"Monkey {i}: {monkey['items']}\")\n",
    "                print()\n",
    "            print(\"-----------------------------------\")\n",
    "        for monkey in state:\n",
    "            while monkey['items']:\n",
    "                item=monkey['items'].pop(0)\n",
    "                monkey['inspections']+=1\n",
    "\n",
    "                worry_level=monkey['op'](item)\n",
    "                worry_level=worry_level\n",
    "                throw_to_monkey=monkey['test'](worry_level)\n",
    "                state[throw_to_monkey]['items'].append(worry_level%modulus)\n",
    "        \n",
    "    s=sorted([monkey['inspections'] for monkey in state], reverse=True)\n",
    "    return s[0]*s[1]\n"
   ]
  },
  {
   "cell_type": "code",
   "execution_count": 31,
   "id": "2e8213ff",
   "metadata": {},
   "outputs": [],
   "source": [
    "assert day11_b(test_input, 1)==6*4\n",
    "assert day11_b(test_input, 20)==99*103\n",
    "assert day11_b(test_input, 1000)==5192*5204\n",
    "assert day11_b(test_input)==52166*52013\n"
   ]
  },
  {
   "cell_type": "code",
   "execution_count": 32,
   "id": "e209c865",
   "metadata": {},
   "outputs": [
    {
     "data": {
      "text/plain": [
       "14561971968"
      ]
     },
     "execution_count": 32,
     "metadata": {},
     "output_type": "execute_result"
    }
   ],
   "source": [
    "day11_b(puzzle_input)"
   ]
  },
  {
   "cell_type": "code",
   "execution_count": null,
   "id": "422f959d",
   "metadata": {},
   "outputs": [],
   "source": []
  }
 ],
 "metadata": {
  "kernelspec": {
   "display_name": "Python 3 (ipykernel)",
   "language": "python",
   "name": "python3"
  },
  "language_info": {
   "codemirror_mode": {
    "name": "ipython",
    "version": 3
   },
   "file_extension": ".py",
   "mimetype": "text/x-python",
   "name": "python",
   "nbconvert_exporter": "python",
   "pygments_lexer": "ipython3",
   "version": "3.10.0"
  }
 },
 "nbformat": 4,
 "nbformat_minor": 5
}
