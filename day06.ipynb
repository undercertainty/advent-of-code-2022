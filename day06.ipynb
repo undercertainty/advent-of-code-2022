{
 "cells": [
  {
   "cell_type": "markdown",
   "id": "ea38d89b",
   "metadata": {},
   "source": [
    "# Advent of code 2022"
   ]
  },
  {
   "cell_type": "markdown",
   "id": "cec5f89f",
   "metadata": {},
   "source": [
    "## Part 1"
   ]
  },
  {
   "cell_type": "markdown",
   "id": "872188a7",
   "metadata": {},
   "source": [
    "Hmmm, seems suspiciously straightforward"
   ]
  },
  {
   "cell_type": "code",
   "execution_count": 1,
   "id": "864bb929",
   "metadata": {},
   "outputs": [],
   "source": [
    "def day06_a(str_in):\n",
    "    for i in range(len(str_in)-3):\n",
    "        if len(set(str_in[i:i+4]))==4:\n",
    "            return i+4\n",
    "    return None"
   ]
  },
  {
   "cell_type": "code",
   "execution_count": 2,
   "id": "cdc6cf05",
   "metadata": {},
   "outputs": [],
   "source": [
    "assert day06_a('mjqjpqmgbljsphdztnvjfqwrcgsmlb')==7\n",
    "assert day06_a('bvwbjplbgvbhsrlpgdmjqwftvncz')==5\n",
    "assert day06_a('nppdvjthqldpwncqszvftbrmjlhg')==6\n",
    "assert day06_a('nznrnfrfntjfmvfwmzdfjlvtqnbhcprsg')==10\n",
    "assert day06_a('zcfzfwzzqfrljwzlrfnpqdbhtmscgvjw')==11"
   ]
  },
  {
   "cell_type": "code",
   "execution_count": 3,
   "id": "73465d92",
   "metadata": {},
   "outputs": [],
   "source": [
    "with open('data/day06.txt') as fIn:\n",
    "    puzzle_input=fIn.read()"
   ]
  },
  {
   "cell_type": "code",
   "execution_count": 4,
   "id": "85d10c14",
   "metadata": {},
   "outputs": [
    {
     "data": {
      "text/plain": [
       "1892"
      ]
     },
     "execution_count": 4,
     "metadata": {},
     "output_type": "execute_result"
    }
   ],
   "source": [
    "day06_a(puzzle_input)"
   ]
  },
  {
   "cell_type": "markdown",
   "id": "f23eacf9",
   "metadata": {},
   "source": [
    "## Part 2"
   ]
  },
  {
   "cell_type": "markdown",
   "id": "9c42b466",
   "metadata": {},
   "source": [
    "Even more suspiciously straightforward."
   ]
  },
  {
   "cell_type": "code",
   "execution_count": 5,
   "id": "d0b349ff",
   "metadata": {},
   "outputs": [],
   "source": [
    "def day06_b(str_in):\n",
    "    for i in range(len(str_in)-13):\n",
    "        if len(set(str_in[i:i+14]))==14:\n",
    "            return i+14\n",
    "    return None"
   ]
  },
  {
   "cell_type": "code",
   "execution_count": 6,
   "id": "237532ab",
   "metadata": {},
   "outputs": [],
   "source": [
    "assert day06_b('mjqjpqmgbljsphdztnvjfqwrcgsmlb')==19\n",
    "assert day06_b('bvwbjplbgvbhsrlpgdmjqwftvncz')==23\n",
    "assert day06_b('nppdvjthqldpwncqszvftbrmjlhg')==23\n",
    "assert day06_b('nznrnfrfntjfmvfwmzdfjlvtqnbhcprsg')==29\n",
    "assert day06_b('zcfzfwzzqfrljwzlrfnpqdbhtmscgvjw')==26"
   ]
  },
  {
   "cell_type": "code",
   "execution_count": 7,
   "id": "93aaf0d1",
   "metadata": {},
   "outputs": [
    {
     "data": {
      "text/plain": [
       "2313"
      ]
     },
     "execution_count": 7,
     "metadata": {},
     "output_type": "execute_result"
    }
   ],
   "source": [
    "day06_b(puzzle_input)"
   ]
  }
 ],
 "metadata": {
  "kernelspec": {
   "display_name": "Python 3 (ipykernel)",
   "language": "python",
   "name": "python3"
  },
  "language_info": {
   "codemirror_mode": {
    "name": "ipython",
    "version": 3
   },
   "file_extension": ".py",
   "mimetype": "text/x-python",
   "name": "python",
   "nbconvert_exporter": "python",
   "pygments_lexer": "ipython3",
   "version": "3.10.0"
  }
 },
 "nbformat": 4,
 "nbformat_minor": 5
}
