{
 "cells": [
  {
   "cell_type": "markdown",
   "id": "888b2cf1",
   "metadata": {},
   "source": [
    "# Advent of code 2022"
   ]
  },
  {
   "cell_type": "code",
   "execution_count": 1,
   "id": "36843078",
   "metadata": {},
   "outputs": [],
   "source": [
    "from collections import defaultdict\n",
    "\n",
    "import re\n",
    "import itertools as it\n",
    "\n",
    "from pprint import pprint"
   ]
  },
  {
   "cell_type": "code",
   "execution_count": 2,
   "id": "3d5fe899",
   "metadata": {},
   "outputs": [],
   "source": [
    "from pyrsistent import pset, pvector"
   ]
  },
  {
   "cell_type": "code",
   "execution_count": 3,
   "id": "9527c175",
   "metadata": {},
   "outputs": [],
   "source": [
    "from functools import cache"
   ]
  },
  {
   "cell_type": "markdown",
   "id": "6893f709",
   "metadata": {},
   "source": [
    "## Part 1"
   ]
  },
  {
   "cell_type": "code",
   "execution_count": 4,
   "id": "7d6d3607",
   "metadata": {},
   "outputs": [],
   "source": [
    "test_input='''Valve AA has flow rate=0; tunnels lead to valves DD, II, BB\n",
    "Valve BB has flow rate=13; tunnels lead to valves CC, AA\n",
    "Valve CC has flow rate=2; tunnels lead to valves DD, BB\n",
    "Valve DD has flow rate=20; tunnels lead to valves CC, AA, EE\n",
    "Valve EE has flow rate=3; tunnels lead to valves FF, DD\n",
    "Valve FF has flow rate=0; tunnels lead to valves EE, GG\n",
    "Valve GG has flow rate=0; tunnels lead to valves FF, HH\n",
    "Valve HH has flow rate=22; tunnel leads to valve GG\n",
    "Valve II has flow rate=0; tunnels lead to valves AA, JJ\n",
    "Valve JJ has flow rate=21; tunnel leads to valve II'''"
   ]
  },
  {
   "cell_type": "code",
   "execution_count": 5,
   "id": "051f2384",
   "metadata": {},
   "outputs": [],
   "source": [
    "with open('data/day16.txt') as fIn:\n",
    "    puzzle_input=fIn.read()"
   ]
  },
  {
   "cell_type": "markdown",
   "id": "76bb4d3e",
   "metadata": {},
   "source": [
    "Start by parsing the input string."
   ]
  },
  {
   "cell_type": "code",
   "execution_count": 6,
   "id": "2a344205",
   "metadata": {},
   "outputs": [
    {
     "data": {
      "text/plain": [
       "{'AA': {'flow': 0, 'tunnels': {'BB', 'DD', 'II'}},\n",
       " 'BB': {'flow': 13, 'tunnels': {'AA', 'CC'}},\n",
       " 'CC': {'flow': 2, 'tunnels': {'BB', 'DD'}},\n",
       " 'DD': {'flow': 20, 'tunnels': {'AA', 'CC', 'EE'}},\n",
       " 'EE': {'flow': 3, 'tunnels': {'DD', 'FF'}},\n",
       " 'FF': {'flow': 0, 'tunnels': {'EE', 'GG'}},\n",
       " 'GG': {'flow': 0, 'tunnels': {'FF', 'HH'}},\n",
       " 'HH': {'flow': 22, 'tunnels': {'GG'}},\n",
       " 'II': {'flow': 0, 'tunnels': {'AA', 'JJ'}},\n",
       " 'JJ': {'flow': 21, 'tunnels': {'II'}}}"
      ]
     },
     "execution_count": 6,
     "metadata": {},
     "output_type": "execute_result"
    }
   ],
   "source": [
    "def parse_input(str_in):\n",
    "    \n",
    "    volcano={}\n",
    "    \n",
    "    for (valve, flow, tunnels) in re.findall('Valve (\\w+) has flow rate=(\\d+); tunnels? leads? to valves? (.+)\\n?',\n",
    "                                             str_in):\n",
    "        volcano[valve]={'flow':int(flow),\n",
    "                        'tunnels':{t.strip() for t in tunnels.split(',')}}\n",
    "\n",
    "    return volcano\n",
    "\n",
    "parse_input(test_input)"
   ]
  },
  {
   "cell_type": "markdown",
   "id": "bdabdeeb",
   "metadata": {},
   "source": [
    "And evaluate a solution. I'll have a solution as a list of operations."
   ]
  },
  {
   "cell_type": "markdown",
   "id": "03147022",
   "metadata": {},
   "source": [
    "This hasn't gone too well so far... let's set up a basic recursive evaluation and see what happens if we slap on the `functools.cache`r."
   ]
  },
  {
   "cell_type": "code",
   "execution_count": 7,
   "id": "0d7c97c5",
   "metadata": {},
   "outputs": [],
   "source": [
    "test_path_xx=pvector([('AA', 'start', 'AA', ['BB', 'CC', 'DD', 'EE', 'HH', 'JJ']),\n",
    "                    ('AA', 'move', 'DD', ['BB', 'CC', 'DD', 'EE', 'HH', 'JJ']),\n",
    "                    ('DD', 'open', 'DD', ['BB', 'CC', 'EE', 'HH', 'JJ']),\n",
    "                    ('DD', 'move', 'CC', ['BB', 'CC', 'EE', 'HH', 'JJ']),\n",
    "                    ('CC', 'move', 'BB', ['BB', 'CC', 'EE', 'HH', 'JJ']),\n",
    "                    ('BB', 'open', 'BB', ['CC', 'EE', 'HH', 'JJ']),\n",
    "                    ('BB', 'move', 'AA', ['CC', 'EE', 'HH', 'JJ']),\n",
    "                    ('AA', 'move', 'II', ['CC', 'EE', 'HH', 'JJ']),\n",
    "                    ('II', 'move', 'JJ', ['CC', 'EE', 'HH', 'JJ']),\n",
    "                    ('JJ', 'open', 'JJ', ['CC', 'EE', 'HH']),\n",
    "                    ('JJ', 'move', 'II', ['CC', 'EE', 'HH']),\n",
    "                    ('II', 'move', 'AA', ['CC', 'EE', 'HH']),\n",
    "                    ('AA', 'move', 'DD', ['CC', 'EE', 'HH']),\n",
    "                    ('DD', 'move', 'EE', ['CC', 'EE', 'HH']),\n",
    "                    ('EE', 'move', 'FF', ['CC', 'EE', 'HH']),\n",
    "                    ('FF', 'move', 'GG', ['CC', 'EE', 'HH']),\n",
    "                    ('GG', 'move', 'HH', ['CC', 'EE', 'HH']),\n",
    "                    ('HH', 'open', 'HH', ['CC', 'EE']),\n",
    "                    ('HH', 'move', 'GG', ['CC', 'EE']),\n",
    "                    ('GG', 'move', 'FF', ['CC', 'EE']),\n",
    "                    ('FF', 'move', 'EE', ['CC', 'EE']),\n",
    "                    ('EE', 'open', 'EE', ['CC']),\n",
    "                    ('EE', 'move', 'DD', ['CC']),\n",
    "                    ('DD', 'move', 'CC', ['CC']),\n",
    "                    ('CC', 'open', 'CC', [])])"
   ]
  },
  {
   "cell_type": "code",
   "execution_count": 8,
   "id": "daf2e97a",
   "metadata": {},
   "outputs": [
    {
     "data": {
      "text/plain": [
       "[('AA', 'start', 'AA', pvector(['BB', 'CC', 'DD', 'EE', 'HH', 'JJ'])),\n",
       " ('AA', 'move', 'DD', pvector(['BB', 'CC', 'DD', 'EE', 'HH', 'JJ'])),\n",
       " ('DD', 'open', 'DD', pvector(['BB', 'CC', 'EE', 'HH', 'JJ'])),\n",
       " ('DD', 'move', 'CC', pvector(['BB', 'CC', 'EE', 'HH', 'JJ'])),\n",
       " ('CC', 'move', 'BB', pvector(['BB', 'CC', 'EE', 'HH', 'JJ'])),\n",
       " ('BB', 'open', 'BB', pvector(['CC', 'EE', 'HH', 'JJ'])),\n",
       " ('BB', 'move', 'AA', pvector(['CC', 'EE', 'HH', 'JJ'])),\n",
       " ('AA', 'move', 'II', pvector(['CC', 'EE', 'HH', 'JJ'])),\n",
       " ('II', 'move', 'JJ', pvector(['CC', 'EE', 'HH', 'JJ'])),\n",
       " ('JJ', 'open', 'JJ', pvector(['CC', 'EE', 'HH'])),\n",
       " ('JJ', 'move', 'II', pvector(['CC', 'EE', 'HH'])),\n",
       " ('II', 'move', 'AA', pvector(['CC', 'EE', 'HH'])),\n",
       " ('AA', 'move', 'DD', pvector(['CC', 'EE', 'HH'])),\n",
       " ('DD', 'move', 'EE', pvector(['CC', 'EE', 'HH'])),\n",
       " ('EE', 'move', 'FF', pvector(['CC', 'EE', 'HH'])),\n",
       " ('FF', 'move', 'GG', pvector(['CC', 'EE', 'HH'])),\n",
       " ('GG', 'move', 'HH', pvector(['CC', 'EE', 'HH'])),\n",
       " ('HH', 'open', 'HH', pvector(['CC', 'EE'])),\n",
       " ('HH', 'move', 'GG', pvector(['CC', 'EE'])),\n",
       " ('GG', 'move', 'FF', pvector(['CC', 'EE'])),\n",
       " ('FF', 'move', 'EE', pvector(['CC', 'EE'])),\n",
       " ('EE', 'open', 'EE', pvector(['CC'])),\n",
       " ('EE', 'move', 'DD', pvector(['CC'])),\n",
       " ('DD', 'move', 'CC', pvector(['CC'])),\n",
       " ('CC', 'open', 'CC', pvector([]))]"
      ]
     },
     "execution_count": 8,
     "metadata": {},
     "output_type": "execute_result"
    }
   ],
   "source": [
    "test_path=[(a, b, c, pvector(d)) for (a, b, c, d) in test_path_xx]\n",
    "test_path"
   ]
  },
  {
   "cell_type": "code",
   "execution_count": 9,
   "id": "99496c4b",
   "metadata": {},
   "outputs": [],
   "source": [
    "volcano=parse_input(test_input)"
   ]
  },
  {
   "cell_type": "code",
   "execution_count": 10,
   "id": "121aa5f6",
   "metadata": {},
   "outputs": [],
   "source": [
    "def day16_a(str_in):\n",
    "    \n",
    "    volcano=parse_input(str_in)\n",
    "\n",
    "    def next_states(loc, remaining, clock):\n",
    "        \n",
    "        ns=[]\n",
    "\n",
    "        if clock<1:\n",
    "            return ns\n",
    "\n",
    "        if loc in remaining:\n",
    "            ns.append(((loc, remaining.remove(loc), clock-1), (clock-1)*volcano[loc]['flow']))\n",
    "\n",
    "        ns.extend([((new_loc, remaining, clock-1), 0)\n",
    "                   for new_loc in volcano[loc]['tunnels']])\n",
    "        return ns\n",
    "    \n",
    "    \n",
    "    @cache\n",
    "    def best_path(loc, remaining, clock):\n",
    "\n",
    "        nn=next_states(loc, remaining, clock)\n",
    "\n",
    "        if nn:\n",
    "            return max([(best_path(*next_state) + cost)\n",
    "                        for (next_state, cost) in nn])\n",
    "        else:\n",
    "            return 0\n",
    "    \n",
    "\n",
    "    good_valves=pvector(sorted([valve for (valve, v) in volcano.items() if v['flow']>0]))\n",
    "\n",
    "    \n",
    "    return best_path('AA', good_valves, 30)\n",
    "    "
   ]
  },
  {
   "cell_type": "code",
   "execution_count": 11,
   "id": "323c2c62",
   "metadata": {},
   "outputs": [],
   "source": [
    "assert day16_a(test_input)==1651"
   ]
  },
  {
   "cell_type": "code",
   "execution_count": 12,
   "id": "99a6eaf6",
   "metadata": {},
   "outputs": [
    {
     "data": {
      "text/plain": [
       "2124"
      ]
     },
     "execution_count": 12,
     "metadata": {},
     "output_type": "execute_result"
    }
   ],
   "source": [
    "day16_a(puzzle_input)"
   ]
  },
  {
   "cell_type": "markdown",
   "id": "3c62b3b9",
   "metadata": {},
   "source": [
    "## Part 2"
   ]
  },
  {
   "cell_type": "markdown",
   "id": "30354b33",
   "metadata": {},
   "source": [
    "Should probably be able to use the same technique... (famous last words?)"
   ]
  },
  {
   "cell_type": "markdown",
   "id": "0388d868",
   "metadata": {},
   "source": [
    "Previously, a state was location, remaining valves and time left. So now we should be able to just do a pair; one for me, one for the elephant.\n",
    "\n",
    "I could be a bit more elegant with this, but frankly it's easier just to go through the four possible combinations of move/open:"
   ]
  },
  {
   "cell_type": "raw",
   "id": "194062ea",
   "metadata": {},
   "source": [
    "def next_states(my_loc, elephant_loc, remaining, clock, volcano):\n",
    "\n",
    "    ns=[]\n",
    "\n",
    "    if clock<1:\n",
    "        return ns\n",
    "\n",
    "    # Both open a valve. Only allowed if at different locations\n",
    "    if (my_loc != elephant_loc) and (my_loc in remaining) and (elephant_loc in remaining):\n",
    "        ns.append(((my_loc, elephant_loc,\n",
    "                    remaining.remove(my_loc).remove(elephant_loc), \n",
    "                    clock-1),\n",
    "                   (clock-1)*volcano[my_loc]['flow'] + (clock-1)*volcano[elephant_loc]['flow']))\n",
    "\n",
    "    # I open a valve, elephant moves\n",
    "    if (my_loc in remaining):\n",
    "        ns.extend([((my_loc, elephant_new_loc,\n",
    "                    remaining.remove(my_loc),\n",
    "                    clock-1),\n",
    "                   (clock-1)*volcano[my_loc]['flow'])\n",
    "                   for elephant_new_loc in volcano[elephant_loc]['tunnels']])\n",
    "\n",
    "    # I move, elephant opens a valve\n",
    "    # (obviously the same as the previous case. Look at this if there are\n",
    "    # timing issues.)\n",
    "    if (elephant_loc in remaining):\n",
    "        ns.extend([((my_next_loc, elephant_loc,\n",
    "                    remaining.remove(elephant_loc), \n",
    "                    clock-1),\n",
    "                   (clock-1)*volcano[elephant_loc]['flow'])\n",
    "                   for my_next_loc in volcano[my_loc]['tunnels']])\n",
    "\n",
    "    # Both move\n",
    "    ns.extend([((my_new_loc, elephant_new_loc, remaining, clock-1), 0)\n",
    "               for my_new_loc in volcano[my_loc]['tunnels']\n",
    "               for elephant_new_loc in volcano[elephant_loc]['tunnels']])\n",
    "\n",
    "\n",
    "\n",
    "    return ns"
   ]
  },
  {
   "cell_type": "markdown",
   "id": "52aec410",
   "metadata": {},
   "source": [
    "OK, that was a non-starter. Or rather, a non-finisher. Ho, ho, ho!"
   ]
  },
  {
   "cell_type": "markdown",
   "id": "2fd6abe0",
   "metadata": {},
   "source": [
    "Can I just partition the valves to be opened, and then give one partition to me and the other to the elephant? Only going to depth 26 now, so might not be too onerous."
   ]
  },
  {
   "cell_type": "code",
   "execution_count": 13,
   "id": "08e53096",
   "metadata": {},
   "outputs": [],
   "source": [
    "def day16_b(str_in):\n",
    "    \n",
    "    volcano=parse_input(str_in)\n",
    "\n",
    "    def next_states(loc, remaining, clock):\n",
    "        \n",
    "        ns=[]\n",
    "\n",
    "        if clock<1:\n",
    "            return ns\n",
    "\n",
    "        if loc in remaining:\n",
    "            ns.append(((loc, remaining.remove(loc), clock-1), (clock-1)*volcano[loc]['flow']))\n",
    "\n",
    "        ns.extend([((new_loc, remaining, clock-1), 0)\n",
    "                   for new_loc in volcano[loc]['tunnels']])\n",
    "        return ns\n",
    "    \n",
    "    \n",
    "    @cache\n",
    "    def best_path(loc, remaining, clock):\n",
    "\n",
    "        nn=next_states(loc, remaining, clock)\n",
    "\n",
    "        if nn:\n",
    "            return max([(best_path(*next_state) + cost)\n",
    "                        for (next_state, cost) in nn])\n",
    "        else:\n",
    "            return 0\n",
    "    \n",
    "\n",
    "    good_valves=pset([valve for (valve, v) in volcano.items() if v['flow']>0])\n",
    "\n",
    "    partitions=set(it.chain.from_iterable([[pset((pset(s), good_valves.difference(pset(s))))\n",
    "                                            for s in it.combinations(good_valves, x)]\n",
    "                                           for x in range(len(good_valves))]))\n",
    "    \n",
    "    return max([best_path('AA', me, 26)+best_path('AA', elephant, 26)\n",
    "                for (me, elephant) in partitions])"
   ]
  },
  {
   "cell_type": "code",
   "execution_count": 14,
   "id": "2791a14e",
   "metadata": {},
   "outputs": [],
   "source": [
    "assert day16_b(test_input)==1707"
   ]
  },
  {
   "cell_type": "code",
   "execution_count": 15,
   "id": "1fecfbbf",
   "metadata": {},
   "outputs": [
    {
     "data": {
      "text/plain": [
       "2775"
      ]
     },
     "execution_count": 15,
     "metadata": {},
     "output_type": "execute_result"
    }
   ],
   "source": [
    "day16_b(puzzle_input)"
   ]
  }
 ],
 "metadata": {
  "kernelspec": {
   "display_name": "Python 3 (ipykernel)",
   "language": "python",
   "name": "python3"
  },
  "language_info": {
   "codemirror_mode": {
    "name": "ipython",
    "version": 3
   },
   "file_extension": ".py",
   "mimetype": "text/x-python",
   "name": "python",
   "nbconvert_exporter": "python",
   "pygments_lexer": "ipython3",
   "version": "3.10.0"
  }
 },
 "nbformat": 4,
 "nbformat_minor": 5
}
