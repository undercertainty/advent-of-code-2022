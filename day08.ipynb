{
 "cells": [
  {
   "cell_type": "markdown",
   "id": "888b2cf1",
   "metadata": {},
   "source": [
    "# Advent of code 2022"
   ]
  },
  {
   "cell_type": "code",
   "execution_count": 1,
   "id": "a772f326",
   "metadata": {},
   "outputs": [],
   "source": [
    "import pandas as pd\n",
    "\n",
    "import pprint"
   ]
  },
  {
   "cell_type": "markdown",
   "id": "6893f709",
   "metadata": {},
   "source": [
    "## Part 1"
   ]
  },
  {
   "cell_type": "code",
   "execution_count": 2,
   "id": "e2d8009b",
   "metadata": {},
   "outputs": [],
   "source": [
    "test_input='''30373\n",
    "25512\n",
    "65332\n",
    "33549\n",
    "35390'''\n"
   ]
  },
  {
   "cell_type": "code",
   "execution_count": 3,
   "id": "d468cc2e",
   "metadata": {},
   "outputs": [],
   "source": [
    "with open('data/day08.txt') as fIn:\n",
    "    puzzle_input=fIn.read()"
   ]
  },
  {
   "cell_type": "markdown",
   "id": "daa47576",
   "metadata": {},
   "source": [
    "Put the data into a DataFrame:"
   ]
  },
  {
   "cell_type": "code",
   "execution_count": 4,
   "id": "a5af51bf",
   "metadata": {},
   "outputs": [
    {
     "data": {
      "text/html": [
       "<div>\n",
       "<style scoped>\n",
       "    .dataframe tbody tr th:only-of-type {\n",
       "        vertical-align: middle;\n",
       "    }\n",
       "\n",
       "    .dataframe tbody tr th {\n",
       "        vertical-align: top;\n",
       "    }\n",
       "\n",
       "    .dataframe thead th {\n",
       "        text-align: right;\n",
       "    }\n",
       "</style>\n",
       "<table border=\"1\" class=\"dataframe\">\n",
       "  <thead>\n",
       "    <tr style=\"text-align: right;\">\n",
       "      <th></th>\n",
       "      <th>0</th>\n",
       "      <th>1</th>\n",
       "      <th>2</th>\n",
       "      <th>3</th>\n",
       "      <th>4</th>\n",
       "    </tr>\n",
       "  </thead>\n",
       "  <tbody>\n",
       "    <tr>\n",
       "      <th>0</th>\n",
       "      <td>3</td>\n",
       "      <td>0</td>\n",
       "      <td>3</td>\n",
       "      <td>7</td>\n",
       "      <td>3</td>\n",
       "    </tr>\n",
       "    <tr>\n",
       "      <th>1</th>\n",
       "      <td>2</td>\n",
       "      <td>5</td>\n",
       "      <td>5</td>\n",
       "      <td>1</td>\n",
       "      <td>2</td>\n",
       "    </tr>\n",
       "    <tr>\n",
       "      <th>2</th>\n",
       "      <td>6</td>\n",
       "      <td>5</td>\n",
       "      <td>3</td>\n",
       "      <td>3</td>\n",
       "      <td>2</td>\n",
       "    </tr>\n",
       "    <tr>\n",
       "      <th>3</th>\n",
       "      <td>3</td>\n",
       "      <td>3</td>\n",
       "      <td>5</td>\n",
       "      <td>4</td>\n",
       "      <td>9</td>\n",
       "    </tr>\n",
       "    <tr>\n",
       "      <th>4</th>\n",
       "      <td>3</td>\n",
       "      <td>5</td>\n",
       "      <td>3</td>\n",
       "      <td>9</td>\n",
       "      <td>0</td>\n",
       "    </tr>\n",
       "  </tbody>\n",
       "</table>\n",
       "</div>"
      ],
      "text/plain": [
       "   0  1  2  3  4\n",
       "0  3  0  3  7  3\n",
       "1  2  5  5  1  2\n",
       "2  6  5  3  3  2\n",
       "3  3  3  5  4  9\n",
       "4  3  5  3  9  0"
      ]
     },
     "execution_count": 4,
     "metadata": {},
     "output_type": "execute_result"
    }
   ],
   "source": [
    "df=pd.DataFrame([[int(i) for i in nl] for nl in test_input.splitlines()])\n",
    "df"
   ]
  },
  {
   "cell_type": "markdown",
   "id": "6a9aec39",
   "metadata": {},
   "source": [
    "A non-edge tree is hidden if there is a tree either side in the row which is (non-strictly) taller than it:"
   ]
  },
  {
   "cell_type": "code",
   "execution_count": 5,
   "id": "b97f67c3",
   "metadata": {},
   "outputs": [],
   "source": [
    "def hidden_in_series(ss_in):\n",
    "    \n",
    "    return pd.Series({ss_in.index[i]:((ss_in.iloc[i]<=ss_in.iloc[:i]).any()) and ((ss_in.iloc[i]<=ss_in.iloc[i+1:]).any())\n",
    "                      for (i, v) in enumerate(ss_in)})"
   ]
  },
  {
   "cell_type": "markdown",
   "id": "b683296a",
   "metadata": {},
   "source": [
    "Helpfully, use of `.any()` sets the first and last values to `False`."
   ]
  },
  {
   "cell_type": "markdown",
   "id": "51cbf37f",
   "metadata": {},
   "source": [
    "And extend this to the whole DataFrame:"
   ]
  },
  {
   "cell_type": "code",
   "execution_count": 6,
   "id": "2838a20b",
   "metadata": {},
   "outputs": [],
   "source": [
    "def hidden_in_dataframe(df_in):\n",
    "    visible_vertically_df=df_in.apply(hidden_in_series)\n",
    "    \n",
    "    # And use the transpose to get the horizontal view\n",
    "    visible_horizontally_df=df_in.T.apply(hidden_in_series).T\n",
    "    \n",
    "    # And just use 'and' to get the final result:\n",
    "\n",
    "    return visible_horizontally_df & visible_vertically_df"
   ]
  },
  {
   "cell_type": "code",
   "execution_count": 7,
   "id": "5cdd1b97",
   "metadata": {},
   "outputs": [
    {
     "data": {
      "text/html": [
       "<div>\n",
       "<style scoped>\n",
       "    .dataframe tbody tr th:only-of-type {\n",
       "        vertical-align: middle;\n",
       "    }\n",
       "\n",
       "    .dataframe tbody tr th {\n",
       "        vertical-align: top;\n",
       "    }\n",
       "\n",
       "    .dataframe thead th {\n",
       "        text-align: right;\n",
       "    }\n",
       "</style>\n",
       "<table border=\"1\" class=\"dataframe\">\n",
       "  <thead>\n",
       "    <tr style=\"text-align: right;\">\n",
       "      <th></th>\n",
       "      <th>0</th>\n",
       "      <th>1</th>\n",
       "      <th>2</th>\n",
       "      <th>3</th>\n",
       "      <th>4</th>\n",
       "    </tr>\n",
       "  </thead>\n",
       "  <tbody>\n",
       "    <tr>\n",
       "      <th>0</th>\n",
       "      <td>False</td>\n",
       "      <td>False</td>\n",
       "      <td>False</td>\n",
       "      <td>False</td>\n",
       "      <td>False</td>\n",
       "    </tr>\n",
       "    <tr>\n",
       "      <th>1</th>\n",
       "      <td>False</td>\n",
       "      <td>False</td>\n",
       "      <td>False</td>\n",
       "      <td>True</td>\n",
       "      <td>False</td>\n",
       "    </tr>\n",
       "    <tr>\n",
       "      <th>2</th>\n",
       "      <td>False</td>\n",
       "      <td>False</td>\n",
       "      <td>True</td>\n",
       "      <td>False</td>\n",
       "      <td>False</td>\n",
       "    </tr>\n",
       "    <tr>\n",
       "      <th>3</th>\n",
       "      <td>False</td>\n",
       "      <td>True</td>\n",
       "      <td>False</td>\n",
       "      <td>True</td>\n",
       "      <td>False</td>\n",
       "    </tr>\n",
       "    <tr>\n",
       "      <th>4</th>\n",
       "      <td>False</td>\n",
       "      <td>False</td>\n",
       "      <td>False</td>\n",
       "      <td>False</td>\n",
       "      <td>False</td>\n",
       "    </tr>\n",
       "  </tbody>\n",
       "</table>\n",
       "</div>"
      ],
      "text/plain": [
       "       0      1      2      3      4\n",
       "0  False  False  False  False  False\n",
       "1  False  False  False   True  False\n",
       "2  False  False   True  False  False\n",
       "3  False   True  False   True  False\n",
       "4  False  False  False  False  False"
      ]
     },
     "execution_count": 7,
     "metadata": {},
     "output_type": "execute_result"
    }
   ],
   "source": [
    "h_df=hidden_in_dataframe(df)\n",
    "h_df"
   ]
  },
  {
   "cell_type": "markdown",
   "id": "3af88894",
   "metadata": {},
   "source": [
    "And just count up the number of `False`s:"
   ]
  },
  {
   "cell_type": "code",
   "execution_count": 8,
   "id": "83db8c5c",
   "metadata": {},
   "outputs": [],
   "source": [
    "def day08_a(str_in):\n",
    "    h_df=hidden_in_dataframe(pd.DataFrame([[int(i) for i in nl]\n",
    "                                           for nl in str_in.splitlines()]))\n",
    "    \n",
    "    \n",
    "    \n",
    "    return sum(h_df.apply(lambda s:s.value_counts()[False]))"
   ]
  },
  {
   "cell_type": "code",
   "execution_count": 9,
   "id": "8de59f2f",
   "metadata": {},
   "outputs": [],
   "source": [
    "assert day08_a(test_input)==21"
   ]
  },
  {
   "cell_type": "code",
   "execution_count": 10,
   "id": "33f8f6a5",
   "metadata": {},
   "outputs": [
    {
     "data": {
      "text/plain": [
       "1690"
      ]
     },
     "execution_count": 10,
     "metadata": {},
     "output_type": "execute_result"
    }
   ],
   "source": [
    "day08_a(puzzle_input)"
   ]
  },
  {
   "cell_type": "markdown",
   "id": "3f6384e7",
   "metadata": {},
   "source": [
    "## Part 2"
   ]
  },
  {
   "cell_type": "markdown",
   "id": "72fbd4c6",
   "metadata": {},
   "source": [
    "Bit hacky to convert (back) to a list, but it should make things fairly straightforward. Given a series and an index, return the number of trees which can be seen in either direction from the indexed tree.\n",
    "\n",
    "Actually, it's a bit more fiddly than it needs to be because if the view's blocked we count the blocking tree, but the edge needs to be handled slightly differently:"
   ]
  },
  {
   "cell_type": "code",
   "execution_count": 11,
   "id": "1ac34005",
   "metadata": {},
   "outputs": [],
   "source": [
    "def scenic_score(ss_in, idx):\n",
    "    \n",
    "    # Count trees forward\n",
    "    l=list(ss_in.loc[idx:])\n",
    "    i=0\n",
    "    for t in l[1:]:\n",
    "        i+=1\n",
    "        if t>=l[0]:\n",
    "            break\n",
    "\n",
    "    # Count trees backward\n",
    "    l=list(ss_in.loc[:idx])\n",
    "    l.reverse()\n",
    "    j=0\n",
    "    for t in l[1:]:\n",
    "        j+=1\n",
    "        if t>=l[0]:\n",
    "            break\n",
    "\n",
    "    return i*j"
   ]
  },
  {
   "cell_type": "code",
   "execution_count": 12,
   "id": "be9f39ab",
   "metadata": {},
   "outputs": [],
   "source": [
    "def scenic_score_series(ss_in):\n",
    "    return pd.Series({i:scenic_score(ss_in, i) for i in ss_in.index})"
   ]
  },
  {
   "cell_type": "code",
   "execution_count": 13,
   "id": "3205a1a3",
   "metadata": {},
   "outputs": [
    {
     "data": {
      "text/plain": [
       "0    0\n",
       "1    2\n",
       "2    1\n",
       "3    2\n",
       "4    0\n",
       "dtype: int64"
      ]
     },
     "execution_count": 13,
     "metadata": {},
     "output_type": "execute_result"
    }
   ],
   "source": [
    "scenic_score_series(df[2])"
   ]
  },
  {
   "cell_type": "markdown",
   "id": "f5503d6f",
   "metadata": {},
   "source": [
    "Then calculate for a whole dataframe:"
   ]
  },
  {
   "cell_type": "code",
   "execution_count": 14,
   "id": "ffc2c91a",
   "metadata": {},
   "outputs": [
    {
     "data": {
      "text/html": [
       "<div>\n",
       "<style scoped>\n",
       "    .dataframe tbody tr th:only-of-type {\n",
       "        vertical-align: middle;\n",
       "    }\n",
       "\n",
       "    .dataframe tbody tr th {\n",
       "        vertical-align: top;\n",
       "    }\n",
       "\n",
       "    .dataframe thead th {\n",
       "        text-align: right;\n",
       "    }\n",
       "</style>\n",
       "<table border=\"1\" class=\"dataframe\">\n",
       "  <thead>\n",
       "    <tr style=\"text-align: right;\">\n",
       "      <th></th>\n",
       "      <th>0</th>\n",
       "      <th>1</th>\n",
       "      <th>2</th>\n",
       "      <th>3</th>\n",
       "      <th>4</th>\n",
       "    </tr>\n",
       "  </thead>\n",
       "  <tbody>\n",
       "    <tr>\n",
       "      <th>0</th>\n",
       "      <td>0</td>\n",
       "      <td>0</td>\n",
       "      <td>0</td>\n",
       "      <td>0</td>\n",
       "      <td>0</td>\n",
       "    </tr>\n",
       "    <tr>\n",
       "      <th>1</th>\n",
       "      <td>0</td>\n",
       "      <td>1</td>\n",
       "      <td>4</td>\n",
       "      <td>1</td>\n",
       "      <td>0</td>\n",
       "    </tr>\n",
       "    <tr>\n",
       "      <th>2</th>\n",
       "      <td>0</td>\n",
       "      <td>6</td>\n",
       "      <td>1</td>\n",
       "      <td>2</td>\n",
       "      <td>0</td>\n",
       "    </tr>\n",
       "    <tr>\n",
       "      <th>3</th>\n",
       "      <td>0</td>\n",
       "      <td>1</td>\n",
       "      <td>8</td>\n",
       "      <td>3</td>\n",
       "      <td>0</td>\n",
       "    </tr>\n",
       "    <tr>\n",
       "      <th>4</th>\n",
       "      <td>0</td>\n",
       "      <td>0</td>\n",
       "      <td>0</td>\n",
       "      <td>0</td>\n",
       "      <td>0</td>\n",
       "    </tr>\n",
       "  </tbody>\n",
       "</table>\n",
       "</div>"
      ],
      "text/plain": [
       "   0  1  2  3  4\n",
       "0  0  0  0  0  0\n",
       "1  0  1  4  1  0\n",
       "2  0  6  1  2  0\n",
       "3  0  1  8  3  0\n",
       "4  0  0  0  0  0"
      ]
     },
     "execution_count": 14,
     "metadata": {},
     "output_type": "execute_result"
    }
   ],
   "source": [
    "df.apply(scenic_score_series) * df.T.apply(scenic_score_series).T"
   ]
  },
  {
   "cell_type": "markdown",
   "id": "1b280349",
   "metadata": {},
   "source": [
    "OK, that seems to do the trick. Now put into a function:\n"
   ]
  },
  {
   "cell_type": "code",
   "execution_count": 15,
   "id": "f93ff065",
   "metadata": {},
   "outputs": [],
   "source": [
    "def day08_b(str_in):\n",
    "    df=pd.DataFrame([[int(i) for i in nl] \n",
    "                     for nl in str_in.splitlines()])\n",
    "    \n",
    "    scenic_scores_df=df.apply(scenic_score_series) * df.T.apply(scenic_score_series).T\n",
    "    \n",
    "    return scenic_scores_df.max().max()"
   ]
  },
  {
   "cell_type": "code",
   "execution_count": 16,
   "id": "ac4411f2",
   "metadata": {},
   "outputs": [],
   "source": [
    "assert day08_b(test_input)==8"
   ]
  },
  {
   "cell_type": "code",
   "execution_count": 17,
   "id": "95236070",
   "metadata": {},
   "outputs": [
    {
     "data": {
      "text/plain": [
       "535680"
      ]
     },
     "execution_count": 17,
     "metadata": {},
     "output_type": "execute_result"
    }
   ],
   "source": [
    "day08_b(puzzle_input)"
   ]
  }
 ],
 "metadata": {
  "kernelspec": {
   "display_name": "Python 3 (ipykernel)",
   "language": "python",
   "name": "python3"
  },
  "language_info": {
   "codemirror_mode": {
    "name": "ipython",
    "version": 3
   },
   "file_extension": ".py",
   "mimetype": "text/x-python",
   "name": "python",
   "nbconvert_exporter": "python",
   "pygments_lexer": "ipython3",
   "version": "3.10.0"
  }
 },
 "nbformat": 4,
 "nbformat_minor": 5
}
